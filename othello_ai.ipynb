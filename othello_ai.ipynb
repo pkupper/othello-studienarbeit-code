{
 "cells": [
  {
   "cell_type": "markdown",
   "metadata": {},
   "source": [
    "# Othello Probcut"
   ]
  },
  {
   "cell_type": "markdown",
   "metadata": {},
   "source": [
    "### Initiale Konfiguration\n",
    "\n",
    "Importieren von Abhängigkeiten und Konfiguration"
   ]
  },
  {
   "cell_type": "code",
   "execution_count": 1,
   "metadata": {},
   "outputs": [],
   "source": [
    "%run othello_game.ipynb"
   ]
  },
  {
   "cell_type": "code",
   "execution_count": 2,
   "metadata": {},
   "outputs": [],
   "source": [
    "import math\n",
    "import copy\n",
    "import time\n",
    "import numpy\n",
    "import random"
   ]
  },
  {
   "cell_type": "markdown",
   "metadata": {},
   "source": [
    "### Hilfsfunktionen\n",
    "Diese Hilfsfunktionen werden von mehreren KI's verwendet"
   ]
  },
  {
   "cell_type": "markdown",
   "metadata": {},
   "source": [
    "### Heuristiken"
   ]
  },
  {
   "cell_type": "code",
   "execution_count": 3,
   "metadata": {},
   "outputs": [],
   "source": [
    "def disc_count_heuristic(state):\n",
    "    return (count_disks(state, WHITE) - count_disks(state, BLACK)) / 64"
   ]
  },
  {
   "cell_type": "code",
   "execution_count": 4,
   "metadata": {},
   "outputs": [],
   "source": [
    "def mobility_heuristic(state):\n",
    "    return (len(get_possible_moves(state, WHITE)) - len(get_possible_moves(state, BLACK))) / 64"
   ]
  },
  {
   "cell_type": "code",
   "execution_count": 5,
   "metadata": {},
   "outputs": [],
   "source": [
    "def gen_weight_matrix(default=0, corner=0, adj_corner=0, sup_corner=0, edge=0, dia_corner=0, support=0, sup_edge=0):\n",
    "    raw_matrix = numpy.array([\n",
    "        [corner,      adj_corner,  sup_corner,  edge,      edge,      sup_corner,  adj_corner,  corner],\n",
    "        [adj_corner,  dia_corner,  default,     default,   default,   default,     dia_corner,  adj_corner],\n",
    "        [sup_corner,  default,     support,     sup_edge,  sup_edge,  support,     default,     sup_corner],\n",
    "        [edge,        default,     sup_edge,    default,   default,   sup_edge,    default,     edge],\n",
    "        [edge,        default,     sup_edge,    default,   default,   sup_edge,    default,     edge],\n",
    "        [sup_corner,  default,     support,     sup_edge,  sup_edge,  support,     default,     sup_corner],\n",
    "        [adj_corner,  dia_corner,  default,     default,   default,   default,     dia_corner,  adj_corner],\n",
    "        [corner,      adj_corner,  sup_corner,  edge,      edge,      sup_corner,  adj_corner,  corner]\n",
    "    ])\n",
    "    max_possible = numpy.sum(numpy.absolute(raw_matrix))\n",
    "    return numpy.true_divide(raw_matrix, max_possible)"
   ]
  },
  {
   "cell_type": "code",
   "execution_count": 6,
   "metadata": {},
   "outputs": [],
   "source": [
    "def weight_heuristic(state, weights):\n",
    "    return numpy.sum(numpy.multiply(state.board, weights))"
   ]
  },
  {
   "cell_type": "code",
   "execution_count": 7,
   "metadata": {},
   "outputs": [],
   "source": [
    "cowthello_weights = gen_weight_matrix(default=1, corner=100, adj_corner=-25, sup_corner=25, edge=10, dia_corner=-50, support=50, sup_edge=5)"
   ]
  },
  {
   "cell_type": "code",
   "execution_count": 8,
   "metadata": {},
   "outputs": [],
   "source": [
    "def cowthello_heuristic(state):\n",
    "    return weight_heuristic(state, cowthello_weights)"
   ]
  },
  {
   "cell_type": "code",
   "execution_count": 9,
   "metadata": {},
   "outputs": [],
   "source": [
    "def combined_heuristic(state):\n",
    "    if(state.num_pieces >= 50):\n",
    "        return disc_count_heuristic(state)\n",
    "    mobility = mobility_heuristic(state)\n",
    "    cowthello = cowthello_heuristic(state)\n",
    "    return (mobility + cowthello) / 2"
   ]
  },
  {
   "cell_type": "markdown",
   "metadata": {},
   "source": [
    "### Zufällige KI\n",
    "Diese KI wählt aus der Menge der Möglichen Züge einen zufälligen aus und spielt diesen."
   ]
  },
  {
   "cell_type": "code",
   "execution_count": 10,
   "metadata": {},
   "outputs": [],
   "source": [
    "def random_ai_make_move(state, heuristic):\n",
    "    possible_moves = get_possible_moves(state, state.turn)\n",
    "    random_move = random.choice(possible_moves)\n",
    "    make_move(state, random_move[0], random_move[1])"
   ]
  },
  {
   "cell_type": "markdown",
   "metadata": {},
   "source": [
    "### Minimax KI\n",
    "Diese KI verwendet den Minimax Algorithmus"
   ]
  },
  {
   "cell_type": "code",
   "execution_count": 76,
   "metadata": {},
   "outputs": [],
   "source": [
    "MINIMAX_DEPTH_LIMIT = 5\n",
    "debug_mm_count= 0\n",
    "\n",
    "def minimax(state, depth, heuristic):\n",
    "    global debug_mm_count\n",
    "    if(state.game_over):\n",
    "        return get_winner(state)\n",
    "    if(depth <= 0):\n",
    "        return heuristic(state)\n",
    "    \n",
    "    if state.turn == WHITE:\n",
    "        # maximizing\n",
    "        utility = -math.inf\n",
    "    else:\n",
    "        # minimizing\n",
    "        utility = math.inf\n",
    "        \n",
    "    for move in get_possible_moves(state, state.turn):\n",
    "        debug_mm_count += 1\n",
    "        tmp_state = copy.deepcopy(state)\n",
    "        make_move(tmp_state, move[0], move[1])\n",
    "        tmp_utility = minimax(tmp_state, depth - 1, heuristic)\n",
    "        if state.turn == WHITE:\n",
    "            # maximizing\n",
    "            if(tmp_utility > utility):\n",
    "                utility = tmp_utility\n",
    "        else:\n",
    "            # minimizing\n",
    "            if(tmp_utility < utility):\n",
    "                utility = tmp_utility           \n",
    "    return utility\n",
    "\n",
    "def minimax_ai_make_move(state, heuristic):\n",
    "    if(state.game_over):\n",
    "        return\n",
    "    scored_moves = [(minimax(make_move(copy.deepcopy(state), move[0], move[1]), MINIMAX_DEPTH_LIMIT-1, heuristic), move) for move in get_possible_moves(state, state.turn)]\n",
    "    if state.turn == WHITE:\n",
    "        # maximizing\n",
    "        _, best_move = max(scored_moves)\n",
    "    else:\n",
    "        # minimizing\n",
    "        _, best_move = min(scored_moves)\n",
    "    make_move(state, best_move[0], best_move[1])"
   ]
  },
  {
   "cell_type": "markdown",
   "metadata": {},
   "source": [
    "### Alpha-Beta KI\n",
    "Diese KI verwended den Minimax Algorithmus mit Alpha-Beta Pruning"
   ]
  },
  {
   "cell_type": "code",
   "execution_count": 25,
   "metadata": {},
   "outputs": [],
   "source": [
    "transposition_table = {}"
   ]
  },
  {
   "cell_type": "code",
   "execution_count": 75,
   "metadata": {},
   "outputs": [],
   "source": [
    "ALPHABETA_DEPTH_LIMIT = 5\n",
    "debug_ab_count= 0\n",
    "\n",
    "def alphabeta(state, depth, alpha, beta, heuristic):\n",
    "    global debug_ab_count\n",
    "    global alphabeta_best_move\n",
    "    if(state.game_over):\n",
    "        return get_winner(state)\n",
    "    if(depth <= 0):\n",
    "        return heuristic(state)\n",
    "    \n",
    "    moves = get_possible_moves(state, state.turn)\n",
    "    child_states = [make_move(copy.deepcopy(state), move[0], move[1]) for move in moves]\n",
    "    estimated_utilities = [transposition_table[(child_state.board.tobytes(), child_state.turn, heuristic)]\n",
    "                           if (child_state.board.tobytes(), child_state.turn, heuristic) in transposition_table\n",
    "                           else heuristic(state)\n",
    "                           for child_state in child_states]\n",
    "    ordered_moves = [(estimated_utilities[i], moves[i], child_states[i]) for i in range(len(moves))]\n",
    "    ordered_moves.sort(reverse=(state.turn == WHITE))\n",
    "    \n",
    "    if state.turn == WHITE:\n",
    "        # maximizing\n",
    "        utility = -math.inf\n",
    "    else:\n",
    "        # minimizing\n",
    "        utility = math.inf\n",
    "        \n",
    "    for (_, move, tmp_state) in ordered_moves:\n",
    "        debug_ab_count += 1\n",
    "        tmp_utility = alphabeta(tmp_state, depth - 1, alpha, beta, heuristic)\n",
    "        transposition_table[(tmp_state.board.tobytes(), tmp_state.turn, heuristic)] = tmp_utility\n",
    "        \n",
    "        if state.turn == WHITE:\n",
    "            # maximizing\n",
    "            if(tmp_utility > utility):\n",
    "                utility = tmp_utility\n",
    "                if(depth == ALPHABETA_DEPTH_LIMIT):\n",
    "                    alphabeta_best_move = move\n",
    "            alpha = max(alpha, utility)\n",
    "        else:\n",
    "            # minimizing\n",
    "            if(tmp_utility < utility):\n",
    "                utility = tmp_utility\n",
    "                if(depth == ALPHABETA_DEPTH_LIMIT):\n",
    "                    alphabeta_best_move = move\n",
    "            beta = min(beta, utility)\n",
    "        if(alpha >= beta):\n",
    "            break # alphabeta pruning\n",
    "    return utility\n",
    "\n",
    "def alphabeta_ai_make_move(state, heuristic):\n",
    "    if(state.game_over):\n",
    "        return\n",
    "    scored_moves = [(alphabeta(make_move(copy.deepcopy(state), move[0], move[1]), ALPHABETA_DEPTH_LIMIT-1, -math.inf, math.inf, heuristic), move) for move in get_possible_moves(state, state.turn)]\n",
    "    if state.turn == WHITE:\n",
    "        # maximizing\n",
    "        _, best_move = max(scored_moves)\n",
    "    else:\n",
    "        # minimizing\n",
    "        _, best_move = min(scored_moves)\n",
    "    make_move(state, best_move[0], best_move[1])\n",
    "    \n",
    "def alphabeta_id_make_move(state, heuristic):\n",
    "    global alphabeta_best_move\n",
    "    depth = 1\n",
    "    while depth <= ALPHABETA_DEPTH_LIMIT:\n",
    "        alphabeta(state, depth, -math.inf, math.inf, heuristic)\n",
    "        depth += 1\n",
    "    make_move(state, alphabeta_best_move[0], alphabeta_best_move[1])"
   ]
  },
  {
   "cell_type": "markdown",
   "metadata": {},
   "source": [
    "### ProbCut KI\n",
    "An dieser Stelle beginnt die Implementierung der Künstlichen Intelligenz mittels des Minimax Algorithmus und ProbCut"
   ]
  },
  {
   "cell_type": "code",
   "execution_count": 14,
   "metadata": {},
   "outputs": [],
   "source": [
    "def probcut_ai_make_move(state, heuristic):\n",
    "    for row in range(state.rows):\n",
    "        for col in range(state.cols):\n",
    "            try:\n",
    "                state.move(row, col)\n",
    "                return\n",
    "            except InvalidMoveException:\n",
    "                pass"
   ]
  },
  {
   "cell_type": "markdown",
   "metadata": {},
   "source": [
    "### Applikation Starten\n",
    "\n",
    "Führen sie zum Started der Applikations den folgenden Code aus."
   ]
  },
  {
   "cell_type": "code",
   "execution_count": 15,
   "metadata": {},
   "outputs": [],
   "source": [
    "# Settings\n",
    "BLACK_PLAYER_AI = alphabeta_ai_make_move\n",
    "WHITE_PLAYER_AI = random_ai_make_move\n",
    "\n",
    "BLACK_PLAYER_HEURISTIC = combined_heuristic\n",
    "WHITE_PLAYER_HEURISTIC = combined_heuristic\n",
    "\n",
    "PLAYER_AI = {BLACK: BLACK_PLAYER_AI, WHITE: WHITE_PLAYER_AI}\n",
    "PLAYER_HEURISTIC = {BLACK: BLACK_PLAYER_HEURISTIC, WHITE: WHITE_PLAYER_HEURISTIC}"
   ]
  },
  {
   "cell_type": "code",
   "execution_count": null,
   "metadata": {},
   "outputs": [],
   "source": [
    "state = GameState()\n",
    "display_board(state)\n",
    "\n",
    "def next_move(state):\n",
    "    time.sleep(0.2)\n",
    "    # Check if/which AI is playing\n",
    "    strat = BLACK_PLAYER_AI if state.turn == BLACK else WHITE_PLAYER_AI\n",
    "    if strat is not None:\n",
    "        strat(state, PLAYER_HEURISTIC[state.turn])\n",
    "        update_output(state)\n",
    "        if not state.game_over:\n",
    "            next_move(state)\n",
    "\n",
    "try:\n",
    "    next_move(state)\n",
    "except KeyboardInterrupt:\n",
    "    pass"
   ]
  },
  {
   "cell_type": "markdown",
   "metadata": {},
   "source": [
    "### Testing code"
   ]
  },
  {
   "cell_type": "code",
   "execution_count": 36,
   "metadata": {},
   "outputs": [],
   "source": [
    "test_board = GameState()"
   ]
  },
  {
   "cell_type": "code",
   "execution_count": 67,
   "metadata": {},
   "outputs": [
    {
     "data": {
      "text/plain": [
       "array([[ 0,  0,  0,  0,  0,  0,  0,  0],\n",
       "       [ 0,  0,  0,  0,  0,  0,  0,  0],\n",
       "       [ 0,  0,  1,  1,  1,  1,  1,  0],\n",
       "       [ 0,  0,  0, -1, -1,  0,  0,  0],\n",
       "       [ 0,  0, -1, -1,  1,  0,  0,  0],\n",
       "       [ 0,  0,  0,  0,  0,  0,  0,  0],\n",
       "       [ 0,  0,  0,  0,  0,  0,  0,  0],\n",
       "       [ 0,  0,  0,  0,  0,  0,  0,  0]], dtype=int8)"
      ]
     },
     "execution_count": 67,
     "metadata": {},
     "output_type": "execute_result"
    }
   ],
   "source": [
    "alphabeta_ai_make_move(test_board, combined_heuristic)\n",
    "test_board.board"
   ]
  },
  {
   "cell_type": "code",
   "execution_count": 66,
   "metadata": {},
   "outputs": [
    {
     "data": {
      "text/plain": [
       "array([[ 0,  0,  0,  0,  0,  0,  0,  0],\n",
       "       [ 0,  0,  0,  0,  0,  0,  0,  0],\n",
       "       [ 0,  0,  1, -1, -1, -1,  0,  0],\n",
       "       [ 0,  0,  0, -1, -1,  0,  0,  0],\n",
       "       [ 0,  0, -1, -1,  1,  0,  0,  0],\n",
       "       [ 0,  0,  0,  0,  0,  0,  0,  0],\n",
       "       [ 0,  0,  0,  0,  0,  0,  0,  0],\n",
       "       [ 0,  0,  0,  0,  0,  0,  0,  0]], dtype=int8)"
      ]
     },
     "execution_count": 66,
     "metadata": {},
     "output_type": "execute_result"
    }
   ],
   "source": [
    "test_board.board"
   ]
  },
  {
   "cell_type": "code",
   "execution_count": null,
   "metadata": {},
   "outputs": [],
   "source": [
    "import cProfile\n",
    "\n",
    "cProfile.run('alphabeta_ai_make_move(test_board)')\n",
    "test_board.board"
   ]
  },
  {
   "cell_type": "code",
   "execution_count": 69,
   "metadata": {},
   "outputs": [],
   "source": [
    "def debug_num_visited_states(state):\n",
    "    global debug_ab_count\n",
    "    global debug_mm_count\n",
    "    debug_mm_count= 0\n",
    "    start = time.time()\n",
    "    minimax_ai_make_move(copy.deepcopy(state), combined_heuristic)\n",
    "    secs = time.time() - start\n",
    "    print(\"Minimax takes \", secs, \" seconds and checks \", debug_mm_count, \"substates\")\n",
    "    debug_ab_count= 0\n",
    "    transposition_table = {}\n",
    "    start = time.time()\n",
    "    alphabeta_ai_make_move(copy.deepcopy(state), combined_heuristic)\n",
    "    secs = time.time() - start\n",
    "    print(\"AlphaBeta takes \", secs, \" seconds and checks \", debug_ab_count, \"substates\")\n",
    "    debug_ab_count= 0\n",
    "    transposition_table = {}\n",
    "    start = time.time()\n",
    "    alphabeta_id_make_move(copy.deepcopy(state), combined_heuristic)\n",
    "    secs = time.time() - start\n",
    "    print(\"AlphaBeta with iterative deepening takes \", secs, \" seconds and checks \", debug_ab_count, \"substates\")"
   ]
  },
  {
   "cell_type": "code",
   "execution_count": 77,
   "metadata": {},
   "outputs": [
    {
     "name": "stdout",
     "output_type": "stream",
     "text": [
      "Minimax takes  160.52538442611694  seconds and checks  36902 substates\n",
      "AlphaBeta takes  30.944952726364136  seconds and checks  3453 substates\n",
      "AlphaBeta with iterative deepening takes  11.336021184921265  seconds and checks  1660 substates\n"
     ]
    }
   ],
   "source": [
    "debug_num_visited_states(test_board)"
   ]
  },
  {
   "cell_type": "markdown",
   "metadata": {},
   "source": [
    "# Legacy code"
   ]
  },
  {
   "cell_type": "markdown",
   "metadata": {},
   "source": [
    "def alphabeta_max(state, alpha, beta, depth):\n",
    "    global alphabeta_best_move\n",
    "    if(state.game_over):\n",
    "        return terminal_utility(state)\n",
    "    if(depth >= ALPHABETA_DEPTH_LIMIT):\n",
    "        return heuristic_utility(state)\n",
    "    max_utility = -math.inf\n",
    "    for move in state.get_possible_moves():\n",
    "        tmp_state = copy.deepcopy(state)\n",
    "        tmp_state.move(move[0], move[1])\n",
    "        tmp_utility = alphabeta_min(tmp_state, alpha, beta, depth + 1)\n",
    "        if(tmp_utility > max_utility):\n",
    "            max_utility = tmp_utility\n",
    "            if(depth == 0):\n",
    "                alphabeta_best_move = move\n",
    "        if(max_utility >= beta):\n",
    "            return max_utility\n",
    "        alpha = max(alpha, max_utility)\n",
    "    return max_utility\n",
    "\n",
    "def alphabeta_min(state, alpha, beta, depth):\n",
    "    global alphabeta_best_move\n",
    "    if(state.game_over):\n",
    "        return -terminal_utility(state)\n",
    "    if(depth >= ALPHABETA_DEPTH_LIMIT):\n",
    "        return -heuristic_utility(state)\n",
    "    min_utility = math.inf\n",
    "    for move in state.get_possible_moves():\n",
    "        tmp_state = copy.deepcopy(state)\n",
    "        tmp_state.move(move[0], move[1])\n",
    "        tmp_utility = alphabeta_max(tmp_state, alpha, beta, depth + 1)\n",
    "        if(tmp_utility < min_utility):\n",
    "            min_utility = tmp_utility\n",
    "            if(depth == 0):\n",
    "                alphabeta_best_move = move\n",
    "        if(min_utility <= alpha):\n",
    "            return min_utility\n",
    "        beta = min(beta, min_utility)\n",
    "    return min_utility"
   ]
  },
  {
   "cell_type": "code",
   "execution_count": null,
   "metadata": {},
   "outputs": [],
   "source": []
  },
  {
   "cell_type": "markdown",
   "metadata": {},
   "source": [
    "ALPHABETA_DEPTH_LIMIT = 4\n",
    "\n",
    "#TODO: What if one player has to play twice in a row?\n",
    "def alphabeta_negamax(state, depth, alpha, beta):\n",
    "    global alphabeta_best_move\n",
    "    if(state.game_over):\n",
    "        return terminal_utility(state) * state.turn\n",
    "    if(depth == 0):\n",
    "        if(state.turn == WHITE):\n",
    "            return WHITE_PLAYER_HEURISTIC(state)\n",
    "        else:\n",
    "            return BLACK_PLAYER_STRAT_HEURISTIC(state) * state.turn\n",
    "    utility = -math.inf\n",
    "    for move in get_possible_moves(state, state.turn):\n",
    "        tmp_state = copy.deepcopy(state)\n",
    "        make_move(tmp_state, move[0], move[1])\n",
    "        tmp_utility = -alphabeta_negamax(tmp_state, depth - 1, -beta, -alpha)\n",
    "        if(tmp_utility > utility):\n",
    "            utility = tmp_utility\n",
    "            if(depth == ALPHABETA_DEPTH_LIMIT):\n",
    "                alphabeta_best_move = move\n",
    "        if(utility >= beta):\n",
    "            return utility\n",
    "        alpha = max(alpha, utility)\n",
    "    return utility\n",
    "\n",
    "def alphabeta_ai_make_move(state):\n",
    "    alphabeta_negamax(state, ALPHABETA_DEPTH_LIMIT, -math.inf, math.inf)\n",
    "    make_move(state, alphabeta_best_move[0], alphabeta_best_move[1])"
   ]
  }
 ],
 "metadata": {
  "kernelspec": {
   "display_name": "Python 3",
   "language": "python",
   "name": "python3"
  },
  "language_info": {
   "codemirror_mode": {
    "name": "ipython",
    "version": 3
   },
   "file_extension": ".py",
   "mimetype": "text/x-python",
   "name": "python",
   "nbconvert_exporter": "python",
   "pygments_lexer": "ipython3",
   "version": "3.7.4"
  }
 },
 "nbformat": 4,
 "nbformat_minor": 4
}
