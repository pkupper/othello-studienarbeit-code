{
 "cells": [
  {
   "cell_type": "markdown",
   "metadata": {},
   "source": [
    "# Othello Probcut"
   ]
  },
  {
   "cell_type": "markdown",
   "metadata": {},
   "source": [
    "### Initiale Konfiguration\n",
    "\n",
    "Importieren von Abhängigkeiten und Konfiguration"
   ]
  },
  {
   "cell_type": "code",
   "execution_count": null,
   "metadata": {},
   "outputs": [],
   "source": [
    "%run othello_game.ipynb"
   ]
  },
  {
   "cell_type": "code",
   "execution_count": null,
   "metadata": {},
   "outputs": [],
   "source": [
    "import math\n",
    "import copy\n",
    "import time\n",
    "\n",
    "# STRATEGIES\n",
    "HUMAN = 'H'\n",
    "TRIVIAL = 'T'\n",
    "MINIMAX = 'M'\n",
    "ALPHABETA = 'A'\n",
    "ALPHABETAID = 'I'\n",
    "PROBCUT = 'P'\n",
    "\n",
    "# PLAYERS\n",
    "BLACK_PLAYER = ALPHABETAID\n",
    "WHITE_PLAYER = ALPHABETAID\n",
    "\n",
    "BLACK_PLAYER_HEURISTIC = mobility_heuristic\n",
    "WHITE_PLAYER_HEURISTIC = heuristic"
   ]
  },
  {
   "cell_type": "markdown",
   "metadata": {},
   "source": [
    "### Hilfsfunktionen\n",
    "Diese Hilfsfunktionen werden von mehreren KI's verwendet"
   ]
  },
  {
   "cell_type": "markdown",
   "metadata": {},
   "source": [
    "Die Funktion <tt>terminal_utility(state)</tt> gibt für einen Spielzustand einen Wert zurück der repräsentiert, ob und welcher Spieler gewonnen hat. Hat kein Spieler gewonnen, wird der Wert 0 zurückgegeben, ansonsten 1 oder -1 für den maximierenden oder minimierenden Spieler."
   ]
  },
  {
   "cell_type": "code",
   "execution_count": null,
   "metadata": {},
   "outputs": [],
   "source": [
    "def terminal_utility(state):\n",
    "    winner = get_winner(state)\n",
    "    if(winner is None):\n",
    "        return 0\n",
    "    else:\n",
    "        return 1 if winner == state.turn else -1"
   ]
  },
  {
   "cell_type": "markdown",
   "metadata": {},
   "source": [
    "Die Funktion <tt>heuristic_utility(state)</tt> berechnet eine Heuristik für einen Spielzustand zwischen -1 und 1."
   ]
  },
  {
   "cell_type": "code",
   "execution_count": null,
   "metadata": {},
   "outputs": [],
   "source": [
    "def trivial_heuristic(state):\n",
    "    player_cells = 0\n",
    "    opponent_cells = 0\n",
    "    for x in range(BOARD_SIZE):\n",
    "        for y in range(BOARD_SIZE):\n",
    "            if state.board[x, y] == WHITE:\n",
    "                player_cells += 1\n",
    "            elif state.board[x, y] == BLACK:\n",
    "                opponent_cells += 1\n",
    "    return (player_cells - opponent_cells) / 64"
   ]
  },
  {
   "cell_type": "code",
   "execution_count": null,
   "metadata": {},
   "outputs": [],
   "source": [
    "def mobility_heuristic(state):\n",
    "    return get_mobility_heuristic(state)"
   ]
  },
  {
   "cell_type": "code",
   "execution_count": null,
   "metadata": {},
   "outputs": [],
   "source": [
    "def heuristic(state):\n",
    "    mobility = get_mobility_heuristic(state)\n",
    "    location = get_location_heuristic(state)\n",
    "    return (mobility + location) / 2"
   ]
  },
  {
   "cell_type": "code",
   "execution_count": null,
   "metadata": {},
   "outputs": [],
   "source": [
    "def get_mobility_heuristic(state):\n",
    "    return (len(get_possible_moves(state, state.turn)) - len(get_possible_moves(state, -state.turn))) / 64"
   ]
  },
  {
   "cell_type": "code",
   "execution_count": null,
   "metadata": {},
   "outputs": [],
   "source": [
    "def get_location_heuristic(state):\n",
    "    corners = {(0,0):(1,1),(0,7):(1,6),(7,0):(6,1),(7,7):(6,6)}\n",
    "    sum = 0\n",
    "    for corner, xfield in corners.items():\n",
    "        if(state.board[corner] == NONE):\n",
    "            sum -= state.board[xfield]\n",
    "        else:\n",
    "            sum += state.board[corner]\n",
    "    return sum / 4"
   ]
  },
  {
   "cell_type": "markdown",
   "metadata": {},
   "source": [
    "### Triviale KI\n",
    "Diese KI iteriert reihenweise über das Spielfeld und spielt den ersten gültigen Zug"
   ]
  },
  {
   "cell_type": "code",
   "execution_count": null,
   "metadata": {},
   "outputs": [],
   "source": [
    "def trivial_ai_make_move(state):\n",
    "    for row in range(BOARD_SIZE):\n",
    "        for col in range(BOARD_SIZE):\n",
    "            if is_move_valid(state, row, col):\n",
    "                make_move(state, row, col)\n",
    "                return"
   ]
  },
  {
   "cell_type": "markdown",
   "metadata": {},
   "source": [
    "### Minimax KI\n",
    "Diese KI verwendet den Minimax Algorithmus"
   ]
  },
  {
   "cell_type": "code",
   "execution_count": null,
   "metadata": {},
   "outputs": [],
   "source": [
    "MINIMAX_DEPTH_LIMIT = 4\n",
    "\n",
    "#TODO: What if one player has to play twice in a row?\n",
    "def minimax(state, depth):\n",
    "    global minimax_best_move\n",
    "    if(is_game_over(state)):\n",
    "        return terminal_utility(state) * state.turn\n",
    "    if(depth >= MINIMAX_DEPTH_LIMIT):\n",
    "        return heuristic_utility(state) * state.turn\n",
    "    utility = -math.inf\n",
    "    for move in get_possible_moves(state, state.turn):\n",
    "        tmp_state = copy.deepcopy(state)\n",
    "        make_move(tmp_state, move[0], move[1])\n",
    "        tmp_utility = -minimax(tmp_state, depth + 1)\n",
    "        if(tmp_utility > utility):\n",
    "            utility = tmp_utility\n",
    "            if(depth == 0):\n",
    "                minimax_best_move = move\n",
    "    return utility\n",
    "\n",
    "def minimax_ai_make_move(state):\n",
    "    minimax(state, 0)\n",
    "    make_move(state, minimax_best_move[0], minimax_best_move[1])"
   ]
  },
  {
   "cell_type": "markdown",
   "metadata": {},
   "source": [
    "### Alpha-Beta KI\n",
    "Diese KI verwended den Minimax Algorithmus mit Alpha-Beta Pruning"
   ]
  },
  {
   "cell_type": "code",
   "execution_count": null,
   "metadata": {},
   "outputs": [],
   "source": [
    "ALPHABETA_DEPTH_LIMIT = 4\n",
    "\n",
    "#TODO: What if one player has to play twice in a row?\n",
    "def alphabeta(state, depth, alpha, beta):\n",
    "    global alphabeta_best_move\n",
    "    if(is_game_over(state)):\n",
    "        return terminal_utility(state) * state.turn\n",
    "    if(depth == 0):\n",
    "        if(state.turn == WHITE):\n",
    "            return WHITE_PLAYER_HEURISTIC(state)\n",
    "        else:\n",
    "            return BLACK_PLAYER_HEURISTIC(state) * state.turn\n",
    "    utility = -math.inf\n",
    "    for move in get_possible_moves(state, state.turn):\n",
    "        tmp_state = copy.deepcopy(state)\n",
    "        make_move(tmp_state, move[0], move[1])\n",
    "        tmp_utility = -alphabeta(tmp_state, depth - 1, -beta, -alpha)\n",
    "        if(tmp_utility > utility):\n",
    "            utility = tmp_utility\n",
    "            if(depth == ALPHABETA_DEPTH_LIMIT):\n",
    "                alphabeta_best_move = move\n",
    "        if(utility >= beta):\n",
    "            return utility\n",
    "        alpha = max(alpha, utility)\n",
    "    return utility\n",
    "\n",
    "def alphabeta_ai_make_move(state):\n",
    "    alphabeta(state, ALPHABETA_DEPTH_LIMIT, -math.inf, math.inf)\n",
    "    make_move(state, alphabeta_best_move[0], alphabeta_best_move[1])"
   ]
  },
  {
   "cell_type": "code",
   "execution_count": null,
   "metadata": {},
   "outputs": [],
   "source": [
    "transposition_table = {}\n",
    "\n",
    "#TODO: What if one player has to play twice in a row?\n",
    "def alphabeta_id(state, depth, alpha, beta):\n",
    "    global alphabeta_best_move_id\n",
    "    if(is_game_over(state)):\n",
    "        return terminal_utility(state) * state.turn\n",
    "    if(depth == 0):\n",
    "        if(state.turn == WHITE):\n",
    "            return WHITE_PLAYER_HEURISTIC(state)\n",
    "        else:\n",
    "            return BLACK_PLAYER_HEURISTIC(state)\n",
    "    moves = get_possible_moves(state, state.turn)\n",
    "    child_states = [make_move(copy.deepcopy(state), move[0], move[1]) for move in moves]\n",
    "    estimated_utilities = [transposition_table[(child_state.board.tobytes(), child_state.turn)] if (child_state.board.tobytes(), child_state.turn) in transposition_table else WHITE_PLAYER_HEURISTIC(state) if state.turn == WHITE else BLACK_PLAYER_HEURISTIC(state) for child_state in child_states]\n",
    "    ordered_moves = [(estimated_utilities[i], moves[i], child_states[i]) for i in range(len(moves))]\n",
    "    ordered_moves.sort(reverse=True)\n",
    "    \n",
    "    utility = -math.inf\n",
    "    for (_, move, tmp_state) in ordered_moves:\n",
    "        tmp_utility = -alphabeta_id(tmp_state, depth - 1, -beta, -alpha)\n",
    "        transposition_table[(tmp_state.board.tobytes(), tmp_state.turn)] = tmp_utility\n",
    "        if(tmp_utility > utility):\n",
    "            utility = tmp_utility\n",
    "            if(depth == ALPHABETA_DEPTH_LIMIT):\n",
    "                alphabeta_best_move_id = move\n",
    "        if(utility >= beta):\n",
    "            return utility\n",
    "        alpha = max(alpha, utility)\n",
    "    return utility\n",
    "\n",
    "def alphabeta_id_make_move(state):\n",
    "    global alphabeta_best_move_id\n",
    "    depth = 1\n",
    "    while depth <= ALPHABETA_DEPTH_LIMIT:\n",
    "        alphabeta_id(state, depth, -math.inf, math.inf)\n",
    "        depth += 1\n",
    "    make_move(state, alphabeta_best_move_id[0], alphabeta_best_move_id[1])"
   ]
  },
  {
   "cell_type": "markdown",
   "metadata": {},
   "source": [
    "### ProbCut KI\n",
    "An dieser Stelle beginnt die Implementierung der Künstlichen Intelligenz mittels des Minimax Algorithmus und ProbCut"
   ]
  },
  {
   "cell_type": "code",
   "execution_count": null,
   "metadata": {},
   "outputs": [],
   "source": [
    "def probcut_ai_make_move(state):\n",
    "    for row in range(state.rows):\n",
    "        for col in range(state.cols):\n",
    "            try:\n",
    "                state.move(row, col)\n",
    "                return\n",
    "            except InvalidMoveException:\n",
    "                pass"
   ]
  },
  {
   "cell_type": "markdown",
   "metadata": {},
   "source": [
    "### Applikation Starten\n",
    "\n",
    "Führen sie zum Started der Applikations den folgenden Code aus."
   ]
  },
  {
   "cell_type": "code",
   "execution_count": null,
   "metadata": {},
   "outputs": [],
   "source": [
    "state = GameState()\n",
    "display_board(state)\n",
    "\n",
    "def next_move(state):\n",
    "    time.sleep(0.5)\n",
    "    # Check if/which AI is playing\n",
    "    strat = BLACK_PLAYER if state.turn == BLACK else WHITE_PLAYER\n",
    "    if strat != HUMAN:\n",
    "        # Execute AI strategy for current player\n",
    "        if(strat == TRIVIAL):\n",
    "            trivial_ai_make_move(state)\n",
    "        elif(strat == MINIMAX):\n",
    "            minimax_ai_make_move(state)\n",
    "        elif(strat == ALPHABETA):\n",
    "            alphabeta_ai_make_move(state)\n",
    "        elif(strat == ALPHABETAID):\n",
    "            alphabeta_id_make_move(state)\n",
    "#        elif(strat == PROBCUT):\n",
    "#            probcut_ai_make_move(state)\n",
    "#        else:\n",
    "#            raise Exception('Invalid Strategy')\n",
    "#\n",
    "        update_output(state)\n",
    "        if not is_game_over(state):\n",
    "            next_move(state)\n",
    "\n",
    "next_move(state)"
   ]
  },
  {
   "cell_type": "markdown",
   "metadata": {},
   "source": [
    "### Testing code"
   ]
  },
  {
   "cell_type": "code",
   "execution_count": null,
   "metadata": {},
   "outputs": [],
   "source": [
    "test_board = GameState()"
   ]
  },
  {
   "cell_type": "code",
   "execution_count": null,
   "metadata": {},
   "outputs": [],
   "source": [
    "alphabeta_id_make_move(test_board)\n",
    "test_board.board"
   ]
  },
  {
   "cell_type": "code",
   "execution_count": null,
   "metadata": {},
   "outputs": [],
   "source": [
    "import cProfile\n",
    "\n",
    "cProfile.run('alphabeta_id_make_move(test_board)')\n",
    "test_board.board"
   ]
  },
  {
   "cell_type": "code",
   "execution_count": null,
   "metadata": {},
   "outputs": [],
   "source": [
    "#transposition_table[(test_board.board.tobytes(), test_board.turn)] = 1\n",
    "transposition_table[(test_board.board.tobytes(), test_board.turn)]"
   ]
  },
  {
   "cell_type": "markdown",
   "metadata": {},
   "source": [
    "# Legacy code"
   ]
  },
  {
   "cell_type": "code",
   "execution_count": null,
   "metadata": {},
   "outputs": [],
   "source": [
    "def alphabeta_max(state, alpha, beta, depth):\n",
    "    global alphabeta_best_move\n",
    "    if(is_game_over(state)):\n",
    "        return terminal_utility(state)\n",
    "    if(depth >= ALPHABETA_DEPTH_LIMIT):\n",
    "        return heuristic_utility(state)\n",
    "    max_utility = -math.inf\n",
    "    for move in state.get_possible_moves():\n",
    "        tmp_state = copy.deepcopy(state)\n",
    "        tmp_state.move(move[0], move[1])\n",
    "        tmp_utility = alphabeta_min(tmp_state, alpha, beta, depth + 1)\n",
    "        if(tmp_utility > max_utility):\n",
    "            max_utility = tmp_utility\n",
    "            if(depth == 0):\n",
    "                alphabeta_best_move = move\n",
    "        if(max_utility >= beta):\n",
    "            return max_utility\n",
    "        alpha = max(alpha, max_utility)\n",
    "    return max_utility\n",
    "\n",
    "def alphabeta_min(state, alpha, beta, depth):\n",
    "    global alphabeta_best_move\n",
    "    if(is_game_over(state)):\n",
    "        return -terminal_utility(state)\n",
    "    if(depth >= ALPHABETA_DEPTH_LIMIT):\n",
    "        return -heuristic_utility(state)\n",
    "    min_utility = math.inf\n",
    "    for move in state.get_possible_moves():\n",
    "        tmp_state = copy.deepcopy(state)\n",
    "        tmp_state.move(move[0], move[1])\n",
    "        tmp_utility = alphabeta_max(tmp_state, alpha, beta, depth + 1)\n",
    "        if(tmp_utility < min_utility):\n",
    "            min_utility = tmp_utility\n",
    "            if(depth == 0):\n",
    "                alphabeta_best_move = move\n",
    "        if(min_utility <= alpha):\n",
    "            return min_utility\n",
    "        beta = min(beta, min_utility)\n",
    "    return min_utility"
   ]
  }
 ],
 "metadata": {
  "kernelspec": {
   "display_name": "Python 3",
   "language": "python",
   "name": "python3"
  },
  "language_info": {
   "codemirror_mode": {
    "name": "ipython",
    "version": 3
   },
   "file_extension": ".py",
   "mimetype": "text/x-python",
   "name": "python",
   "nbconvert_exporter": "python",
   "pygments_lexer": "ipython3",
   "version": "3.7.4"
  }
 },
 "nbformat": 4,
 "nbformat_minor": 4
}
