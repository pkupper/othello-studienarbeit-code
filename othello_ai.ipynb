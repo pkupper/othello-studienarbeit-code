{
 "cells": [
  {
   "cell_type": "markdown",
   "metadata": {},
   "source": [
    "# Othello Probcut"
   ]
  },
  {
   "cell_type": "markdown",
   "metadata": {},
   "source": [
    "### Initiale Konfiguration\n",
    "\n",
    "Importieren von Abhängigkeiten und Konfiguration"
   ]
  },
  {
   "cell_type": "code",
   "execution_count": 1,
   "metadata": {},
   "outputs": [],
   "source": [
    "%run othello_game.ipynb"
   ]
  },
  {
   "cell_type": "code",
   "execution_count": 2,
   "metadata": {},
   "outputs": [],
   "source": [
    "import math\n",
    "import copy\n",
    "import time\n",
    "import numpy\n",
    "\n",
    "# STRATEGIES\n",
    "HUMAN = 'H'\n",
    "TRIVIAL = 'T'\n",
    "MINIMAX = 'M'\n",
    "ALPHABETA = 'A'\n",
    "ALPHABETAID = 'I'\n",
    "PROBCUT = 'P'\n",
    "\n",
    "# PLAYERS\n",
    "BLACK_PLAYER = TRIVIAL\n",
    "WHITE_PLAYER = ALPHABETA"
   ]
  },
  {
   "cell_type": "markdown",
   "metadata": {},
   "source": [
    "### Hilfsfunktionen\n",
    "Diese Hilfsfunktionen werden von mehreren KI's verwendet"
   ]
  },
  {
   "cell_type": "markdown",
   "metadata": {},
   "source": [
    "Die Funktion <tt>terminal_utility(state)</tt> gibt für einen Endzustand die Utility für den Spieler, der am Zug wäre zurück. +1 falls dieser gewinnt, 0 bei unentschieden, -1 wenn dieser verliert."
   ]
  },
  {
   "cell_type": "code",
   "execution_count": 3,
   "metadata": {},
   "outputs": [],
   "source": [
    "def terminal_utility(state):\n",
    "    return 1 - abs(get_winner(state) - state.turn)"
   ]
  },
  {
   "cell_type": "markdown",
   "metadata": {},
   "source": [
    "### Heuristiken"
   ]
  },
  {
   "cell_type": "code",
   "execution_count": 4,
   "metadata": {},
   "outputs": [],
   "source": [
    "def disc_count_heuristic(state):\n",
    "    return (count_disks(state, state.turn) - count_disks(state, -state.turn)) / 64"
   ]
  },
  {
   "cell_type": "code",
   "execution_count": 5,
   "metadata": {},
   "outputs": [],
   "source": [
    "def mobility_heuristic(state):\n",
    "    return (len(get_possible_moves(state, state.turn)) - len(get_possible_moves(state, -state.turn))) / 64"
   ]
  },
  {
   "cell_type": "code",
   "execution_count": 6,
   "metadata": {},
   "outputs": [],
   "source": [
    "def heuristic(state):\n",
    "    if(state.num_pieces >= 50):\n",
    "        return disc_count_heuristic(state)\n",
    "    mobility = mobility_heuristic(state)\n",
    "    cowthello = cowthello_heuristic(state)\n",
    "    return (mobility + cowthello) / 2"
   ]
  },
  {
   "cell_type": "code",
   "execution_count": 7,
   "metadata": {},
   "outputs": [],
   "source": [
    "def gen_weight_matrix(default=0, corner=0, adj_corner=0, sup_corner=0, edge=0, dia_corner=0, support=0, sup_edge=0):\n",
    "    raw_matrix = numpy.array([\n",
    "        [corner,      adj_corner,  sup_corner,  edge,      edge,      sup_corner,  adj_corner,  corner],\n",
    "        [adj_corner,  dia_corner,  default,     default,   default,   default,     dia_corner,  adj_corner],\n",
    "        [sup_corner,  default,     support,     sup_edge,  sup_edge,  support,     default,     sup_corner],\n",
    "        [edge,        default,     sup_edge,    default,   default,   sup_edge,    default,     edge],\n",
    "        [edge,        default,     sup_edge,    default,   default,   sup_edge,    default,     edge],\n",
    "        [sup_corner,  default,     support,     sup_edge,  sup_edge,  support,     default,     sup_corner],\n",
    "        [adj_corner,  dia_corner,  default,     default,   default,   default,     dia_corner,  adj_corner],\n",
    "        [corner,      adj_corner,  sup_corner,  edge,      edge,      sup_corner,  adj_corner,  corner]\n",
    "    ])\n",
    "    max_possible = numpy.sum(numpy.absolute(raw_matrix))\n",
    "    return numpy.true_divide(raw_matrix, max_possible)"
   ]
  },
  {
   "cell_type": "code",
   "execution_count": 8,
   "metadata": {},
   "outputs": [],
   "source": [
    "def weight_heuristic(state, weights):\n",
    "    return numpy.sum(numpy.multiply(state.board, weights)) * state.turn"
   ]
  },
  {
   "cell_type": "code",
   "execution_count": 9,
   "metadata": {},
   "outputs": [],
   "source": [
    "cowthello_weights = gen_weight_matrix(default=1, corner=100, adj_corner=-25, sup_corner=25, edge=10, dia_corner=-50, support=50, sup_edge=5)"
   ]
  },
  {
   "cell_type": "code",
   "execution_count": 10,
   "metadata": {},
   "outputs": [],
   "source": [
    "def cowthello_heuristic(state):\n",
    "    return weight_heuristic(state, cowthello_weights)"
   ]
  },
  {
   "cell_type": "markdown",
   "metadata": {},
   "source": [
    "### Triviale KI\n",
    "Diese KI iteriert reihenweise über das Spielfeld und spielt den ersten gültigen Zug"
   ]
  },
  {
   "cell_type": "code",
   "execution_count": 11,
   "metadata": {},
   "outputs": [],
   "source": [
    "def trivial_ai_make_move(state):\n",
    "    for row in range(BOARD_SIZE):\n",
    "        for col in range(BOARD_SIZE):\n",
    "            if is_move_valid(state, row, col, state.turn):\n",
    "                make_move(state, row, col)\n",
    "                return"
   ]
  },
  {
   "cell_type": "markdown",
   "metadata": {},
   "source": [
    "### Minimax KI\n",
    "Diese KI verwendet den Minimax Algorithmus"
   ]
  },
  {
   "cell_type": "code",
   "execution_count": 12,
   "metadata": {},
   "outputs": [],
   "source": [
    "MINIMAX_DEPTH_LIMIT = 4\n",
    "\n",
    "#TODO: What if one player has to play twice in a row?\n",
    "def minimax(state, depth):\n",
    "    global minimax_best_move\n",
    "    if(state.game_over):\n",
    "        return terminal_utility(state) * state.turn\n",
    "    if(depth >= MINIMAX_DEPTH_LIMIT):\n",
    "        return heuristic_utility(state) * state.turn\n",
    "    utility = -math.inf\n",
    "    for move in get_possible_moves(state, state.turn):\n",
    "        tmp_state = copy.deepcopy(state)\n",
    "        make_move(tmp_state, move[0], move[1])\n",
    "        tmp_utility = -minimax(tmp_state, depth + 1)\n",
    "        if(tmp_utility > utility):\n",
    "            utility = tmp_utility\n",
    "            if(depth == 0):\n",
    "                minimax_best_move = move\n",
    "    return utility\n",
    "\n",
    "def minimax_ai_make_move(state):\n",
    "    minimax(state, 0)\n",
    "    make_move(state, minimax_best_move[0], minimax_best_move[1])"
   ]
  },
  {
   "cell_type": "markdown",
   "metadata": {},
   "source": [
    "### Alpha-Beta KI\n",
    "Diese KI verwended den Minimax Algorithmus mit Alpha-Beta Pruning"
   ]
  },
  {
   "cell_type": "code",
   "execution_count": 13,
   "metadata": {},
   "outputs": [],
   "source": [
    "transposition_table_neg = {}\n",
    "\n",
    "#TODO: What if one player has to play twice in a row?\n",
    "def alphabeta_id(state, depth, alpha, beta):\n",
    "    global alphabeta_best_move_id\n",
    "    if(state.game_over):\n",
    "        return terminal_utility(state) * state.turn\n",
    "    if(depth == 0):\n",
    "        if(state.turn == WHITE):\n",
    "            return WHITE_PLAYER_HEURISTIC(state)\n",
    "        else:\n",
    "            return BLACK_PLAYER_HEURISTIC(state)\n",
    "    moves = get_possible_moves(state, state.turn)\n",
    "    child_states = [make_move(copy.deepcopy(state), move[0], move[1]) for move in moves]\n",
    "    estimated_utilities = [transposition_table_neg[(child_state.board.tobytes(), child_state.turn)] if (child_state.board.tobytes(), child_state.turn) in transposition_table_neg else WHITE_PLAYER_HEURISTIC(state) if state.turn == WHITE else BLACK_PLAYER_HEURISTIC(state) for child_state in child_states]\n",
    "    ordered_moves = [(estimated_utilities[i], moves[i], child_states[i]) for i in range(len(moves))]\n",
    "    ordered_moves.sort(reverse=True)\n",
    "    \n",
    "    utility = -math.inf\n",
    "    for (_, move, tmp_state) in ordered_moves:\n",
    "        tmp_utility = -alphabeta_id(tmp_state, depth - 1, -beta, -alpha)\n",
    "        transposition_table_neg[(tmp_state.board.tobytes(), tmp_state.turn)] = tmp_utility\n",
    "        if(tmp_utility > utility):\n",
    "            utility = tmp_utility\n",
    "            if(depth == ALPHABETA_DEPTH_LIMIT):\n",
    "                alphabeta_best_move_id = move\n",
    "        if(utility >= beta):\n",
    "            return utility\n",
    "        alpha = max(alpha, utility)\n",
    "    return utility\n",
    "\n",
    "def alphabeta_id_make_move(state):\n",
    "    global alphabeta_best_move_id\n",
    "    depth = 1\n",
    "    while depth <= ALPHABETA_DEPTH_LIMIT:\n",
    "        alphabeta_id(state, depth, -math.inf, math.inf)\n",
    "        depth += 1\n",
    "    make_move(state, alphabeta_best_move_id[0], alphabeta_best_move_id[1])"
   ]
  },
  {
   "cell_type": "code",
   "execution_count": 52,
   "metadata": {},
   "outputs": [],
   "source": [
    "# TODO: Bei ungerader Zahl wird die Heuristik für den Falschen Spieler verwendet\n",
    "ALPHABETA_DEPTH_LIMIT = 4\n",
    "\n",
    "transposition_table = {}\n",
    "\n",
    "def alphabeta_max(state, depth, alpha, beta):\n",
    "    global alphabeta_best_move\n",
    "    if(state.game_over):\n",
    "        return terminal_utility(state)\n",
    "    if(depth == 0):\n",
    "        if(state.turn == WHITE):\n",
    "            return WHITE_PLAYER_HEURISTIC(state)\n",
    "        else:\n",
    "            return BLACK_PLAYER_HEURISTIC(state)\n",
    "\n",
    "    moves = get_possible_moves(state, state.turn)\n",
    "    child_states = [make_move(copy.deepcopy(state), move[0], move[1]) for move in moves]\n",
    "    estimated_utilities = [transposition_table[(child_state.board.tobytes(), child_state.turn)] if (child_state.board.tobytes(), child_state.turn) in transposition_table else WHITE_PLAYER_HEURISTIC(state) if state.turn == WHITE else BLACK_PLAYER_HEURISTIC(state) for child_state in child_states]\n",
    "    ordered_moves = [(estimated_utilities[i], moves[i], child_states[i]) for i in range(len(moves))]\n",
    "    ordered_moves.sort(reverse=True)\n",
    "\n",
    "    max_utility = -math.inf\n",
    "    for (_, move, tmp_state) in ordered_moves:\n",
    "        tmp_utility = alphabeta_min(tmp_state, depth - 1, alpha, beta)\n",
    "        transposition_table[(tmp_state.board.tobytes(), tmp_state.turn)] = tmp_utility\n",
    "        if(tmp_utility > max_utility):\n",
    "            max_utility = tmp_utility\n",
    "            if(depth == ALPHABETA_DEPTH_LIMIT):\n",
    "                alphabeta_best_move = move\n",
    "        if(max_utility >= beta):\n",
    "            return max_utility\n",
    "        alpha = max(alpha, max_utility)\n",
    "    return max_utility\n",
    "\n",
    "def alphabeta_min(state, depth, alpha, beta):\n",
    "    #global alphabeta_best_move\n",
    "    if(state.game_over):\n",
    "        return -terminal_utility(state)\n",
    "    if(depth == 0):\n",
    "        if(state.turn == WHITE):\n",
    "            return -WHITE_PLAYER_HEURISTIC(state)\n",
    "        else:\n",
    "            return -BLACK_PLAYER_HEURISTIC(state)\n",
    "\n",
    "    moves = get_possible_moves(state, state.turn)\n",
    "    child_states = [make_move(copy.deepcopy(state), move[0], move[1]) for move in moves]\n",
    "    estimated_utilities = [transposition_table[(child_state.board.tobytes(), child_state.turn)] if (child_state.board.tobytes(), child_state.turn) in transposition_table else WHITE_PLAYER_HEURISTIC(state) if state.turn == WHITE else BLACK_PLAYER_HEURISTIC(state) for child_state in child_states]\n",
    "    ordered_moves = [(estimated_utilities[i], moves[i], child_states[i]) for i in range(len(moves))]\n",
    "    ordered_moves.sort(reverse=True)\n",
    "\n",
    "    min_utility = math.inf\n",
    "    for (_, move, tmp_state) in ordered_moves:\n",
    "        tmp_utility = alphabeta_max(tmp_state, depth - 1, alpha, beta)\n",
    "        transposition_table[(tmp_state.board.tobytes(), tmp_state.turn)] = tmp_utility\n",
    "        if(tmp_utility < min_utility):\n",
    "            min_utility = tmp_utility\n",
    "            #if(depth == ALPHABETA_DEPTH_LIMIT):\n",
    "            #    alphabeta_best_move = move\n",
    "        if(min_utility <= alpha):\n",
    "            return min_utility\n",
    "        beta = min(beta, min_utility)\n",
    "    return min_utility\n",
    "\n",
    "def alphabeta_ai_make_move(state):\n",
    "    global alphabeta_best_move\n",
    "    depth = 2\n",
    "    while depth <= ALPHABETA_DEPTH_LIMIT:\n",
    "        alphabeta_max(state, depth, -math.inf, math.inf)\n",
    "        depth += 2\n",
    "    make_move(state, alphabeta_best_move[0], alphabeta_best_move[1])"
   ]
  },
  {
   "cell_type": "markdown",
   "metadata": {},
   "source": [
    "### ProbCut KI\n",
    "An dieser Stelle beginnt die Implementierung der Künstlichen Intelligenz mittels des Minimax Algorithmus und ProbCut"
   ]
  },
  {
   "cell_type": "code",
   "execution_count": 15,
   "metadata": {},
   "outputs": [],
   "source": [
    "def probcut_ai_make_move(state):\n",
    "    for row in range(state.rows):\n",
    "        for col in range(state.cols):\n",
    "            try:\n",
    "                state.move(row, col)\n",
    "                return\n",
    "            except InvalidMoveException:\n",
    "                pass"
   ]
  },
  {
   "cell_type": "markdown",
   "metadata": {},
   "source": [
    "### Applikation Starten\n",
    "\n",
    "Führen sie zum Started der Applikations den folgenden Code aus."
   ]
  },
  {
   "cell_type": "code",
   "execution_count": 18,
   "metadata": {},
   "outputs": [],
   "source": [
    "BLACK_PLAYER_HEURISTIC = mobility_heuristic\n",
    "WHITE_PLAYER_HEURISTIC = heuristic"
   ]
  },
  {
   "cell_type": "code",
   "execution_count": null,
   "metadata": {},
   "outputs": [],
   "source": [
    "state = GameState()\n",
    "display_board(state)\n",
    "\n",
    "def next_move(state):\n",
    "    time.sleep(0.5)\n",
    "    # Check if/which AI is playing\n",
    "    strat = BLACK_PLAYER if state.turn == BLACK else WHITE_PLAYER\n",
    "    if strat != HUMAN:\n",
    "        # Execute AI strategy for current player\n",
    "        if(strat == TRIVIAL):\n",
    "            trivial_ai_make_move(state)\n",
    "        elif(strat == MINIMAX):\n",
    "            minimax_ai_make_move(state)\n",
    "        elif(strat == ALPHABETA):\n",
    "            alphabeta_ai_make_move(state)\n",
    "        elif(strat == ALPHABETAID):\n",
    "            alphabeta_id_make_move(state)\n",
    "#        elif(strat == PROBCUT):\n",
    "#            probcut_ai_make_move(state)\n",
    "#        else:\n",
    "#            raise Exception('Invalid Strategy')\n",
    "#\n",
    "        update_output(state)\n",
    "        if not state.game_over:\n",
    "            next_move(state)\n",
    "\n",
    "next_move(state)"
   ]
  },
  {
   "cell_type": "markdown",
   "metadata": {},
   "source": [
    "### Testing code"
   ]
  },
  {
   "cell_type": "code",
   "execution_count": 53,
   "metadata": {},
   "outputs": [],
   "source": [
    "test_board = GameState()"
   ]
  },
  {
   "cell_type": "code",
   "execution_count": null,
   "metadata": {},
   "outputs": [],
   "source": [
    "alphabeta_id_make_move(test_board)\n",
    "test_board.board"
   ]
  },
  {
   "cell_type": "code",
   "execution_count": 54,
   "metadata": {},
   "outputs": [
    {
     "name": "stdout",
     "output_type": "stream",
     "text": [
      "         123605 function calls (110207 primitive calls) in 0.445 seconds\n",
      "\n",
      "   Ordered by: standard name\n",
      "\n",
      "   ncalls  tottime  percall  cumtime  percall filename:lineno(function)\n",
      "      119    0.000    0.000    0.001    0.000 <__array_function__ internals>:2(sum)\n",
      "      167    0.000    0.000    0.085    0.001 <ipython-input-1-493ae9bb8fc6>:1(can_move)\n",
      "      829    0.005    0.000    0.400    0.000 <ipython-input-1-81599aadcfb2>:1(get_possible_moves)\n",
      "      167    0.001    0.000    0.183    0.001 <ipython-input-1-89c6ac4c885e>:1(make_move)\n",
      "      167    0.004    0.000    0.004    0.000 <ipython-input-1-aa39cc9373e8>:1(adjacent_opposite_color_directions)\n",
      "      167    0.004    0.000    0.004    0.000 <ipython-input-1-b3836a12d32b>:1(update_frontier)\n",
      "    13244    0.120    0.000    0.120    0.000 <ipython-input-1-b61068ea6955>:1(is_valid_directional_move)\n",
      "      181    0.001    0.000    0.003    0.000 <ipython-input-1-b76d4155a80d>:1(convert_adjacent_cells_in_direction)\n",
      "    15116    0.279    0.000    0.395    0.000 <ipython-input-1-d59e38d8598c>:1(is_move_valid)\n",
      "      119    0.000    0.000    0.002    0.000 <ipython-input-10-c0b1c03b133a>:1(cowthello_heuristic)\n",
      "      227    0.000    0.000    0.211    0.001 <ipython-input-5-f82a9013be6e>:1(mobility_heuristic)\n",
      "        8    0.000    0.000    0.048    0.006 <ipython-input-52-217421d1840a>:17(<listcomp>)\n",
      "        8    0.000    0.000    0.026    0.003 <ipython-input-52-217421d1840a>:18(<listcomp>)\n",
      "        8    0.000    0.000    0.000    0.000 <ipython-input-52-217421d1840a>:19(<listcomp>)\n",
      "     33/8    0.000    0.000    0.432    0.054 <ipython-input-52-217421d1840a>:35(alphabeta_min)\n",
      "       33    0.000    0.000    0.161    0.005 <ipython-input-52-217421d1840a>:46(<listcomp>)\n",
      "       33    0.000    0.000    0.114    0.003 <ipython-input-52-217421d1840a>:47(<listcomp>)\n",
      "       33    0.000    0.000    0.000    0.000 <ipython-input-52-217421d1840a>:48(<listcomp>)\n",
      "     83/2    0.000    0.000    0.444    0.222 <ipython-input-52-217421d1840a>:6(alphabeta_max)\n",
      "        1    0.000    0.000    0.445    0.445 <ipython-input-52-217421d1840a>:64(alphabeta_ai_make_move)\n",
      "      119    0.000    0.000    0.114    0.001 <ipython-input-6-1dfbc31577e3>:1(heuristic)\n",
      "      119    0.001    0.000    0.002    0.000 <ipython-input-8-f683780e6d6d>:1(weight_heuristic)\n",
      "        1    0.000    0.000    0.445    0.445 <string>:1(<module>)\n",
      "13284/166    0.011    0.000    0.027    0.000 copy.py:132(deepcopy)\n",
      "     8740    0.001    0.000    0.001    0.000 copy.py:190(_deepcopy_atomic)\n",
      "      332    0.001    0.000    0.019    0.000 copy.py:210(_deepcopy_list)\n",
      "     3540    0.004    0.000    0.013    0.000 copy.py:219(_deepcopy_tuple)\n",
      "     3540    0.002    0.000    0.009    0.000 copy.py:220(<listcomp>)\n",
      "      166    0.001    0.000    0.024    0.000 copy.py:236(_deepcopy_dict)\n",
      "     1004    0.001    0.000    0.001    0.000 copy.py:252(_keep_alive)\n",
      "  340/166    0.001    0.000    0.026    0.000 copy.py:268(_reconstruct)\n",
      "      680    0.000    0.000    0.016    0.000 copy.py:273(<genexpr>)\n",
      "      166    0.000    0.000    0.000    0.000 copyreg.py:87(__newobj__)\n",
      "      119    0.000    0.000    0.000    0.000 fromnumeric.py:2040(_sum_dispatcher)\n",
      "      119    0.000    0.000    0.001    0.000 fromnumeric.py:2045(sum)\n",
      "      119    0.000    0.000    0.001    0.000 fromnumeric.py:73(_wrapreduction)\n",
      "      119    0.000    0.000    0.000    0.000 fromnumeric.py:74(<dictcomp>)\n",
      "      166    0.000    0.000    0.000    0.000 {built-in method __new__ of type object at 0x55a351a94260}\n",
      "        1    0.000    0.000    0.445    0.445 {built-in method builtins.exec}\n",
      "      846    0.000    0.000    0.000    0.000 {built-in method builtins.getattr}\n",
      "      166    0.000    0.000    0.000    0.000 {built-in method builtins.hasattr}\n",
      "    18832    0.001    0.000    0.001    0.000 {built-in method builtins.id}\n",
      "      625    0.000    0.000    0.000    0.000 {built-in method builtins.isinstance}\n",
      "      506    0.000    0.000    0.000    0.000 {built-in method builtins.issubclass}\n",
      "      662    0.000    0.000    0.000    0.000 {built-in method builtins.len}\n",
      "       31    0.000    0.000    0.000    0.000 {built-in method builtins.max}\n",
      "       56    0.000    0.000    0.000    0.000 {built-in method builtins.min}\n",
      "      119    0.000    0.000    0.001    0.000 {built-in method numpy.core._multiarray_umath.implement_array_function}\n",
      "      166    0.000    0.000    0.000    0.000 {method '__deepcopy__' of 'numpy.ndarray' objects}\n",
      "      340    0.000    0.000    0.000    0.000 {method '__reduce_ex__' of 'object' objects}\n",
      "     1008    0.000    0.000    0.000    0.000 {method 'add' of 'set' objects}\n",
      "     8850    0.001    0.000    0.001    0.000 {method 'append' of 'list' objects}\n",
      "        1    0.000    0.000    0.000    0.000 {method 'disable' of '_lsprof.Profiler' objects}\n",
      "    26908    0.002    0.000    0.002    0.000 {method 'get' of 'dict' objects}\n",
      "      285    0.000    0.000    0.000    0.000 {method 'items' of 'dict' objects}\n",
      "      119    0.000    0.000    0.000    0.000 {method 'reduce' of 'numpy.ufunc' objects}\n",
      "      167    0.000    0.000    0.000    0.000 {method 'remove' of 'set' objects}\n",
      "       41    0.000    0.000    0.000    0.000 {method 'sort' of 'list' objects}\n",
      "      294    0.000    0.000    0.000    0.000 {method 'tobytes' of 'numpy.ndarray' objects}\n",
      "      166    0.000    0.000    0.000    0.000 {method 'update' of 'dict' objects}\n",
      "\n",
      "\n"
     ]
    },
    {
     "data": {
      "text/plain": [
       "array([[ 0,  0,  0,  0,  0,  0,  0,  0],\n",
       "       [ 0,  0,  0,  0,  0,  0,  0,  0],\n",
       "       [ 0,  0,  0,  0,  0,  0,  0,  0],\n",
       "       [ 0,  0,  0,  1, -1,  0,  0,  0],\n",
       "       [ 0,  0,  0, -1, -1,  0,  0,  0],\n",
       "       [ 0,  0,  0,  0, -1,  0,  0,  0],\n",
       "       [ 0,  0,  0,  0,  0,  0,  0,  0],\n",
       "       [ 0,  0,  0,  0,  0,  0,  0,  0]], dtype=int8)"
      ]
     },
     "execution_count": 54,
     "metadata": {},
     "output_type": "execute_result"
    }
   ],
   "source": [
    "import cProfile\n",
    "\n",
    "cProfile.run('alphabeta_ai_make_move(test_board)')\n",
    "test_board.board"
   ]
  },
  {
   "cell_type": "markdown",
   "metadata": {},
   "source": [
    "# Legacy code"
   ]
  },
  {
   "cell_type": "markdown",
   "metadata": {},
   "source": [
    "def alphabeta_max(state, alpha, beta, depth):\n",
    "    global alphabeta_best_move\n",
    "    if(state.game_over):\n",
    "        return terminal_utility(state)\n",
    "    if(depth >= ALPHABETA_DEPTH_LIMIT):\n",
    "        return heuristic_utility(state)\n",
    "    max_utility = -math.inf\n",
    "    for move in state.get_possible_moves():\n",
    "        tmp_state = copy.deepcopy(state)\n",
    "        tmp_state.move(move[0], move[1])\n",
    "        tmp_utility = alphabeta_min(tmp_state, alpha, beta, depth + 1)\n",
    "        if(tmp_utility > max_utility):\n",
    "            max_utility = tmp_utility\n",
    "            if(depth == 0):\n",
    "                alphabeta_best_move = move\n",
    "        if(max_utility >= beta):\n",
    "            return max_utility\n",
    "        alpha = max(alpha, max_utility)\n",
    "    return max_utility\n",
    "\n",
    "def alphabeta_min(state, alpha, beta, depth):\n",
    "    global alphabeta_best_move\n",
    "    if(state.game_over):\n",
    "        return -terminal_utility(state)\n",
    "    if(depth >= ALPHABETA_DEPTH_LIMIT):\n",
    "        return -heuristic_utility(state)\n",
    "    min_utility = math.inf\n",
    "    for move in state.get_possible_moves():\n",
    "        tmp_state = copy.deepcopy(state)\n",
    "        tmp_state.move(move[0], move[1])\n",
    "        tmp_utility = alphabeta_max(tmp_state, alpha, beta, depth + 1)\n",
    "        if(tmp_utility < min_utility):\n",
    "            min_utility = tmp_utility\n",
    "            if(depth == 0):\n",
    "                alphabeta_best_move = move\n",
    "        if(min_utility <= alpha):\n",
    "            return min_utility\n",
    "        beta = min(beta, min_utility)\n",
    "    return min_utility"
   ]
  },
  {
   "cell_type": "code",
   "execution_count": null,
   "metadata": {},
   "outputs": [],
   "source": []
  },
  {
   "cell_type": "markdown",
   "metadata": {},
   "source": [
    "ALPHABETA_DEPTH_LIMIT = 4\n",
    "\n",
    "#TODO: What if one player has to play twice in a row?\n",
    "def alphabeta_negamax(state, depth, alpha, beta):\n",
    "    global alphabeta_best_move\n",
    "    if(state.game_over):\n",
    "        return terminal_utility(state) * state.turn\n",
    "    if(depth == 0):\n",
    "        if(state.turn == WHITE):\n",
    "            return WHITE_PLAYER_HEURISTIC(state)\n",
    "        else:\n",
    "            return BLACK_PLAYER_HEURISTIC(state) * state.turn\n",
    "    utility = -math.inf\n",
    "    for move in get_possible_moves(state, state.turn):\n",
    "        tmp_state = copy.deepcopy(state)\n",
    "        make_move(tmp_state, move[0], move[1])\n",
    "        tmp_utility = -alphabeta_negamax(tmp_state, depth - 1, -beta, -alpha)\n",
    "        if(tmp_utility > utility):\n",
    "            utility = tmp_utility\n",
    "            if(depth == ALPHABETA_DEPTH_LIMIT):\n",
    "                alphabeta_best_move = move\n",
    "        if(utility >= beta):\n",
    "            return utility\n",
    "        alpha = max(alpha, utility)\n",
    "    return utility\n",
    "\n",
    "def alphabeta_ai_make_move(state):\n",
    "    alphabeta_negamax(state, ALPHABETA_DEPTH_LIMIT, -math.inf, math.inf)\n",
    "    make_move(state, alphabeta_best_move[0], alphabeta_best_move[1])"
   ]
  }
 ],
 "metadata": {
  "kernelspec": {
   "display_name": "Python 3",
   "language": "python",
   "name": "python3"
  },
  "language_info": {
   "codemirror_mode": {
    "name": "ipython",
    "version": 3
   },
   "file_extension": ".py",
   "mimetype": "text/x-python",
   "name": "python",
   "nbconvert_exporter": "python",
   "pygments_lexer": "ipython3",
   "version": "3.7.4"
  }
 },
 "nbformat": 4,
 "nbformat_minor": 4
}
