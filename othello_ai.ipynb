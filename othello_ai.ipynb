{
 "cells": [
  {
   "cell_type": "markdown",
   "metadata": {},
   "source": [
    "# Othello Probcut"
   ]
  },
  {
   "cell_type": "markdown",
   "metadata": {},
   "source": [
    "### Initiale Konfiguration\n",
    "\n",
    "Importieren von Abhängigkeiten und Konfiguration"
   ]
  },
  {
   "cell_type": "code",
   "execution_count": 20,
   "metadata": {},
   "outputs": [],
   "source": [
    "%run othello_lib.ipynb"
   ]
  },
  {
   "cell_type": "code",
   "execution_count": 12,
   "metadata": {},
   "outputs": [],
   "source": [
    "import math\n",
    "import copy\n",
    "\n",
    "from tkinter import TclError\n",
    "\n",
    "# STRATEGIES\n",
    "HUMAN = 'H'\n",
    "TRIVIAL = 'T'\n",
    "MINIMAX = 'M'\n",
    "ALPHABETA = 'A'\n",
    "PROBCUT = 'P'\n",
    "\n",
    "# PLAYERS\n",
    "BLACK_PLAYER = ALPHABETA\n",
    "WHITE_PLAYER = ALPHABETA"
   ]
  },
  {
   "cell_type": "markdown",
   "metadata": {},
   "source": [
    "### Hilfsfunktionen\n",
    "Diese Hilfsfunktionen werden von mehreren KI's verwendet"
   ]
  },
  {
   "cell_type": "markdown",
   "metadata": {},
   "source": [
    "Die Funktion <tt>terminal_utility(state)</tt> gibt für einen Spielzustand einen Wert zurück der repräsentiert, ob und welcher Spieler gewonnen hat. Hat kein Spieler gewonnen, wird der Wert 0 zurückgegeben, ansonsten 1 oder -1 für den maximierenden oder minimierenden Spieler."
   ]
  },
  {
   "cell_type": "code",
   "execution_count": 13,
   "metadata": {},
   "outputs": [],
   "source": [
    "def terminal_utility(state):\n",
    "    winner = state.return_winner()\n",
    "    if(winner is None):\n",
    "        return 0\n",
    "    else:\n",
    "        return 1 if winner == state.turn else -1"
   ]
  },
  {
   "cell_type": "markdown",
   "metadata": {},
   "source": [
    "Die Funktion <tt>heuristic_utility(state)</tt> berechnet eine Heuristik für einen Spielzustand zwischen -1 und 1."
   ]
  },
  {
   "cell_type": "code",
   "execution_count": 14,
   "metadata": {},
   "outputs": [],
   "source": [
    "def heuristic_utility(state):\n",
    "    player_cells = state.get_total_cells(state.turn)\n",
    "    opponent_cells = state.get_total_cells(state._opposite_turn(state.turn))\n",
    "    return (player_cells - opponent_cells) / 64"
   ]
  },
  {
   "cell_type": "markdown",
   "metadata": {},
   "source": [
    "### Triviale KI\n",
    "Diese KI iteriert reihenweise über das Spielfeld und spielt den ersten gültigen Zug"
   ]
  },
  {
   "cell_type": "code",
   "execution_count": 15,
   "metadata": {},
   "outputs": [],
   "source": [
    "def trivial_ai_make_move(state):\n",
    "    for row in range(state.rows):\n",
    "        for col in range(state.cols):\n",
    "            try:\n",
    "                state.move(row, col)\n",
    "                return\n",
    "            except InvalidMoveException:\n",
    "                pass\n"
   ]
  },
  {
   "cell_type": "markdown",
   "metadata": {},
   "source": [
    "### Minimax KI\n",
    "Diese KI verwendet den Minimax Algorithmus"
   ]
  },
  {
   "cell_type": "code",
   "execution_count": 16,
   "metadata": {},
   "outputs": [],
   "source": [
    "MINIMAX_DEPTH_LIMIT = 4\n",
    "\n",
    "def minimax(state, depth, player):\n",
    "    global minimax_best_move\n",
    "    if(state.is_game_over()):\n",
    "        return terminal_utility(state) * player\n",
    "    if(depth >= MINIMAX_DEPTH_LIMIT):\n",
    "        return heuristic_utility(state) * player\n",
    "    utility = -math.inf\n",
    "    for move in state.get_possible_moves():\n",
    "        tmp_state = copy.deepcopy(state)\n",
    "        tmp_state.move(move[0], move[1])\n",
    "        tmp_utility = -minimax(tmp_state, depth + 1, -player)\n",
    "        if(tmp_utility > utility):\n",
    "            utility = tmp_utility\n",
    "            if(depth == 0):\n",
    "                minimax_best_move = move\n",
    "    return utility\n",
    "\n",
    "def minimax_ai_make_move(state):\n",
    "    minimax(state, 0, 1)\n",
    "    state.move(minimax_best_move[0], minimax_best_move[1])"
   ]
  },
  {
   "cell_type": "markdown",
   "metadata": {},
   "source": [
    "### Alpha-Beta KI\n",
    "Diese KI verwended den Minimax Algorithmus mit Alpha-Beta Pruning"
   ]
  },
  {
   "cell_type": "code",
   "execution_count": 27,
   "metadata": {},
   "outputs": [],
   "source": [
    "ALPHABETA_DEPTH_LIMIT = 6\n",
    "\n",
    "def alphabeta(state, depth, alpha, beta, player):\n",
    "    global alphabeta_best_move\n",
    "    if(state.is_game_over()):\n",
    "        return terminal_utility(state) * player\n",
    "    if(depth >= ALPHABETA_DEPTH_LIMIT):\n",
    "        return heuristic_utility(state) * player\n",
    "    utility = -math.inf #* player\n",
    "    for move in state.get_possible_moves():\n",
    "        tmp_state = copy.deepcopy(state)\n",
    "        tmp_state.move(move[0], move[1])\n",
    "        tmp_utility = -alphabeta(tmp_state, -beta, -alpha, depth + 1, -player)\n",
    "        if(tmp_utility > utility):\n",
    "            utility = tmp_utility\n",
    "            if(depth == 0):\n",
    "                alphabeta_best_move = move\n",
    "        if(utility >= beta):\n",
    "            return utility\n",
    "        alpha = max(alpha, utility)\n",
    "    return max_utility\n",
    "\n",
    "def alphabeta_ai_make_move(state):\n",
    "    alphabeta(state, -math.inf, math.inf, 0, 1)\n",
    "    state.move(alphabeta_best_move[0], alphabeta_best_move[1])"
   ]
  },
  {
   "cell_type": "markdown",
   "metadata": {},
   "source": [
    "### ProbCut KI\n",
    "An dieser Stelle beginnt die Implementierung der Künstlichen Intelligenz mittels des Minimax Algorithmus und ProbCut"
   ]
  },
  {
   "cell_type": "code",
   "execution_count": 28,
   "metadata": {},
   "outputs": [],
   "source": [
    "def probcut_ai_make_move(state):\n",
    "    for row in range(state.rows):\n",
    "        for col in range(state.cols):\n",
    "            try:\n",
    "                state.move(row, col)\n",
    "                return\n",
    "            except InvalidMoveException:\n",
    "                pass"
   ]
  },
  {
   "cell_type": "markdown",
   "metadata": {},
   "source": [
    "### Applikation Starten\n",
    "\n",
    "Führen sie zum Started der Applikations den folgenden Code aus."
   ]
  },
  {
   "cell_type": "code",
   "execution_count": 29,
   "metadata": {},
   "outputs": [
    {
     "name": "stdout",
     "output_type": "stream",
     "text": [
      "Application start\n",
      "Application exit\n"
     ]
    }
   ],
   "source": [
    "print('Application start') \n",
    "gui = OthelloGUI()\n",
    "\n",
    "try:\n",
    "    while 1:\n",
    "        gui._root_window.update()\n",
    "        game_state = gui._game_state\n",
    "        if (not game_state.is_game_over()):\n",
    "            # Check if/which AI is playing\n",
    "            strat = BLACK_PLAYER if game_state.turn == BLACK else WHITE_PLAYER\n",
    "            if (strat != HUMAN): \n",
    "                # Execute AI strategy for current player\n",
    "                if(strat == TRIVIAL):\n",
    "                    trivial_ai_make_move(game_state)\n",
    "                elif(strat == MINIMAX):\n",
    "                    minimax_ai_make_move(game_state)\n",
    "                elif(strat == ALPHABETA):\n",
    "                    alphabeta_ai_make_move(game_state)\n",
    "                elif(strat == PROBCUT):\n",
    "                    probcut_ai_make_move(game_state)\n",
    "                else:\n",
    "                    raise Exception('Invalid Strategy')\n",
    "                    \n",
    "                # Update GUI after AI move\n",
    "                gui._board.update_game_state(game_state)\n",
    "                gui._board.redraw_board()\n",
    "                gui._black_score.update_score(game_state)\n",
    "                gui._white_score.update_score(game_state)\n",
    "\n",
    "                if game_state.is_game_over():\n",
    "                    gui._player_turn.display_winner(game_state.return_winner())\n",
    "                else:\n",
    "                    gui._player_turn.switch_turn(game_state)\n",
    "except TclError:\n",
    "    print('Application exit')\n",
    "except Exception as e:\n",
    "    gui._root_window.destroy()\n",
    "    raise e"
   ]
  },
  {
   "cell_type": "markdown",
   "metadata": {},
   "source": [
    "### Testing code"
   ]
  },
  {
   "cell_type": "code",
   "execution_count": null,
   "metadata": {},
   "outputs": [],
   "source": [
    "test_board = OthelloGameState()"
   ]
  },
  {
   "cell_type": "code",
   "execution_count": null,
   "metadata": {},
   "outputs": [],
   "source": [
    "minimax_ai_make_move(test_board)\n",
    "test_board.current_board"
   ]
  },
  {
   "cell_type": "code",
   "execution_count": null,
   "metadata": {},
   "outputs": [],
   "source": [
    "import cProfile\n",
    "\n",
    "cProfile.run('minimax_ai_make_move(test_board)')\n",
    "test_board.current_board"
   ]
  },
  {
   "cell_type": "markdown",
   "metadata": {},
   "source": [
    "# Legacy code"
   ]
  },
  {
   "cell_type": "code",
   "execution_count": null,
   "metadata": {},
   "outputs": [],
   "source": [
    "def alphabeta_max(state, alpha, beta, depth):\n",
    "    global alphabeta_best_move\n",
    "    if(state.is_game_over()):\n",
    "        return terminal_utility(state)\n",
    "    if(depth >= ALPHABETA_DEPTH_LIMIT):\n",
    "        return heuristic_utility(state)\n",
    "    max_utility = -math.inf\n",
    "    for move in state.get_possible_moves():\n",
    "        tmp_state = copy.deepcopy(state)\n",
    "        tmp_state.move(move[0], move[1])\n",
    "        tmp_utility = alphabeta_min(tmp_state, alpha, beta, depth + 1)\n",
    "        if(tmp_utility > max_utility):\n",
    "            max_utility = tmp_utility\n",
    "            if(depth == 0):\n",
    "                alphabeta_best_move = move\n",
    "        if(max_utility >= beta):\n",
    "            return max_utility\n",
    "        alpha = max(alpha, max_utility)\n",
    "    return max_utility\n",
    "\n",
    "def alphabeta_min(state, alpha, beta, depth):\n",
    "    global alphabeta_best_move\n",
    "    if(state.is_game_over()):\n",
    "        return -terminal_utility(state)\n",
    "    if(depth >= ALPHABETA_DEPTH_LIMIT):\n",
    "        return -heuristic_utility(state)\n",
    "    min_utility = math.inf\n",
    "    for move in state.get_possible_moves():\n",
    "        tmp_state = copy.deepcopy(state)\n",
    "        tmp_state.move(move[0], move[1])\n",
    "        tmp_utility = alphabeta_max(tmp_state, alpha, beta, depth + 1)\n",
    "        if(tmp_utility < min_utility):\n",
    "            min_utility = tmp_utility\n",
    "            if(depth == 0):\n",
    "                alphabeta_best_move = move\n",
    "        if(min_utility <= alpha):\n",
    "            return min_utility\n",
    "        beta = min(beta, min_utility)\n",
    "    return min_utility"
   ]
  }
 ],
 "metadata": {
  "kernelspec": {
   "display_name": "Python 3",
   "language": "python",
   "name": "python3"
  },
  "language_info": {
   "codemirror_mode": {
    "name": "ipython",
    "version": 3
   },
   "file_extension": ".py",
   "mimetype": "text/x-python",
   "name": "python",
   "nbconvert_exporter": "python",
   "pygments_lexer": "ipython3",
   "version": "3.8.1"
  }
 },
 "nbformat": 4,
 "nbformat_minor": 4
}
