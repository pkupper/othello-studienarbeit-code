{
 "cells": [
  {
   "cell_type": "markdown",
   "metadata": {},
   "source": [
    "# ProbCut Standardabweichung (othello_pc_sigma.ipynb)\n",
    "\\label{sec:pcsigma}"
   ]
  },
  {
   "cell_type": "code",
   "execution_count": null,
   "metadata": {},
   "outputs": [],
   "source": [
    "%%HTML\n",
    "<style>\n",
    ".container { width:100% }\n",
    "</style>"
   ]
  },
  {
   "cell_type": "markdown",
   "metadata": {},
   "source": [
    "In diesem Notebook wird die für den ProbCut Algorithmus benötigte Standardabweichung in Abhängigkeit von der aktuellen Spielphase, welche durch die Anzahl der Steine auf dem Spielfeld angegeben wird, bestimmt. Dazu wird in verschiedenen Spielzuständen, jeweils eine Suche der Tiefe $d$ und eine Suche der Tiefe $d'$ durchgeführt, und die Ergebnisse als Datenpunkte gesammelt. Im Anschluss wird für jede Spielphase die Varianz bestimmt, und diese mit einer geschlossenen Formel angenähert.\n",
    "\n",
    "Das Notebook basiert auf der Implementation der Künstlichen Intelligenz, welche daher im Folgenden eingebunden wird."
   ]
  },
  {
   "cell_type": "code",
   "execution_count": null,
   "metadata": {},
   "outputs": [],
   "source": [
    "%run othello_ai.ipynb"
   ]
  },
  {
   "cell_type": "markdown",
   "metadata": {},
   "source": [
    "Für die statistische Betrachtung werden mehrere externe Bibliotheken verwendet. Dazu gehören `pandas` und `csv` für das Schreiben und Laden von CSV-Dateien, `sklearn` für die lineare Regression, sowie `matplotlib` und `seaborn` für die grafische Darstellung."
   ]
  },
  {
   "cell_type": "code",
   "execution_count": null,
   "metadata": {},
   "outputs": [],
   "source": [
    "import csv\n",
    "import os\n",
    "import pandas\n",
    "import numpy as np\n",
    "import sklearn.metrics as skl\n",
    "import sklearn.linear_model as lm\n",
    "import sklearn.preprocessing as pp\n",
    "import matplotlib.pyplot as plt\n",
    "import seaborn as sns\n",
    "import math"
   ]
  },
  {
   "cell_type": "markdown",
   "metadata": {},
   "source": [
    "## Sammeln von Datenpunkten\n",
    "In der Funktion `sample_probcut_values` werden zunächst einige Datenpunkte zur Bestimmung der Standardabweichung gesammelt, indem in vielen verschiedenen Spielzuständen jeweils eine tiefe und eine flache Suche durchgeführt wird. Die jeweiligen Tiefen werden dabei durch die Parameter `shallow_depth` und `deep_depth` spezifiziert. Die verwendeten Spielzustände werden ausgehen vom Startzustand durch zufälliges Ziehen erreicht, welches in der KI-Strategie `random_ai` implementiert wird. Es werden insgesamt `num_games` Spiele auf diese Weise gespielt, und jeder Zustand entsprechend untersucht. Die so erhaltenen Daten werden in einer CSV-Datei gespeichert."
   ]
  },
  {
   "cell_type": "code",
   "execution_count": null,
   "metadata": {},
   "outputs": [],
   "source": [
    "def sample_probcut_values(num_games, shallow_depth, deep_depth):\n",
    "    fname = f'probcut_dataset_{PROBCUT_SHALLOW_DEPTH}_{PROBCUT_DEEP_DEPTH}.csv'\n",
    "    file_exists = os.path.isfile(fname)\n",
    "    if file_exists:\n",
    "        print('using existing dataset')\n",
    "    else:\n",
    "        with open(fname, 'w', newline='') as file:\n",
    "            writer = csv.writer(file, delimiter=',')\n",
    "            writer.writerow(('moves', 'shallow', 'deep'))\n",
    "            for i in range(num_games):\n",
    "                state = GameState()\n",
    "                while not state.game_over:\n",
    "                    state = ai_make_move(random_ai, state, 0, None)\n",
    "                    shallow_value = alphabeta(\n",
    "                        state, PROBCUT_SHALLOW_DEPTH,\n",
    "                        combined_heuristic, -math.inf, math.inf\n",
    "                    )\n",
    "                    deep_value = alphabeta(\n",
    "                        state, PROBCUT_DEEP_DEPTH,\n",
    "                        combined_heuristic, -math.inf, math.inf\n",
    "                    )\n",
    "                    print(f'shallow: {shallow_value}, deep: {deep_value}')\n",
    "                    writer.writerow(\n",
    "                        (state.num_pieces, shallow_value, deep_value))\n",
    "            file.close()"
   ]
  },
  {
   "cell_type": "markdown",
   "metadata": {},
   "source": [
    "Hier wird die Funktion `sample_probcut_values` für die in der ProbCut Implementierung verwendeten Suchtiefen ausgeführt."
   ]
  },
  {
   "cell_type": "code",
   "execution_count": null,
   "metadata": {},
   "outputs": [],
   "source": [
    "sample_probcut_values(100, PROBCUT_SHALLOW_DEPTH, PROBCUT_DEEP_DEPTH)"
   ]
  },
  {
   "cell_type": "markdown",
   "metadata": {},
   "source": [
    "Der Folgende Codeabschnitt lädt die zu verwendeten Datenpunkte aus einer CSV-Datei. Dabei wird die externe Bibliothek `pandas` zum Datenimport genutzt."
   ]
  },
  {
   "cell_type": "code",
   "execution_count": null,
   "metadata": {},
   "outputs": [],
   "source": [
    "filename = f'probcut_dataset_{PROBCUT_SHALLOW_DEPTH}_{PROBCUT_DEEP_DEPTH}.csv'\n",
    "df = pandas.read_csv(filename)\n",
    "shallow = np.array(df['shallow'])\n",
    "deep = np.array(df['deep'])\n",
    "moves = np.array(df['moves'])"
   ]
  },
  {
   "cell_type": "markdown",
   "metadata": {},
   "source": [
    "Der folgende Code setzt die Ergebnisse der tiefen Suchen zu denen der flachen Suchen in Form eines Scatterplots ins Verhältnis. Das resultierende Schaubild ist in \\autoref{fig:probcut_all_depths} zu sehen."
   ]
  },
  {
   "cell_type": "code",
   "execution_count": null,
   "metadata": {},
   "outputs": [],
   "source": [
    "model = lm.LinearRegression()\n",
    "model.fit(shallow.reshape(len(shallow), 1), deep)\n",
    "plt.figure(figsize=(15, 10))\n",
    "sns.set(style='whitegrid')\n",
    "plt.scatter(shallow, deep)\n",
    "plt.axvline(x=0.0, c='k')\n",
    "plt.axhline(y=0.0, c='k')\n",
    "plt.plot(shallow, shallow * model.coef_ + model.intercept_)\n",
    "plt.xlabel('shallow search')\n",
    "plt.ylabel('deep search')\n",
    "plt.title('Probcut Values')\n",
    "plt.show()"
   ]
  },
  {
   "cell_type": "markdown",
   "metadata": {},
   "source": [
    "\\begin{figure}[H]\n",
    "    \\centering\n",
    "    \\includegraphics[width=\\textwidth]{probcut_all_depths}\n",
    "    \\caption{Probcut Datenpunkte}\n",
    "    \\label{fig:probcut_all_depths}\n",
    "\\end{figure}"
   ]
  },
  {
   "cell_type": "markdown",
   "metadata": {},
   "source": [
    "Wie zu erwarten, ist eine klare lineare Abhängigkeit zu erkennen, welche durch die ebenfalls dargestellte Regressionsgerade hervorgehoben wird. Die Ausreißer bei Deep Depth Werten von $1$ und $-1$ entstehen dadurch, dass in diesen Spielzuständen, mit einer Tiefen Suche bereits der Ausgang des Spiels bestimmt werden kann, während bei der Flachen Suche noch die Heuristik verwendet wird. Theoretisch kann bereits hier die Standardabeweichung ermittelt, und dann in ProbCut genutzt werden. Bei zusätzlicher Betrachtung der Anzahl von Steinen auf dem Spielfeld stellt sich jedoch heraus, dass die Standardabweichung stark davon abhängt. Durch Einbeziehung der Steinzahl bei der Ermittleung der Standardabweichung lässt sich also eine genauere Aussage über die Standardabweichung machen."
   ]
  },
  {
   "cell_type": "markdown",
   "metadata": {},
   "source": [
    "Der folgende Code berechnet die Standardabweichung pro Anzahl Steine auf dem Spielfeld. Dazu werden zunächst für jede Anzahl an Steinen aus den Daten die passenden Werte extrahiert. Für diese Teilmengen wird jeweils die Varianz mit `numpy` berechnet. Die Standardabweichung ist dann die positive Wurzel aus der Varianz. Die Anzahl an Steinen und die dazugehörige Standardabweichung werden in den Feldern `x` und `y` gespeichert."
   ]
  },
  {
   "cell_type": "code",
   "execution_count": null,
   "metadata": {},
   "outputs": [],
   "source": [
    "x = np.empty(0)\n",
    "y = np.empty(0)\n",
    "\n",
    "for i in range(5, 64):\n",
    "    shallow_c = shallow[moves == i]\n",
    "    deep_c = deep[moves == i]\n",
    "    variance = np.var(np.stack([shallow_c, deep_c], axis=1))\n",
    "    x = np.append(x, i)\n",
    "    y = np.append(y, math.sqrt(variance))"
   ]
  },
  {
   "cell_type": "markdown",
   "metadata": {},
   "source": [
    "Im Anschluss werden diese Daten visualisiert, um zu beurteilen, wie die Standardabweichung durch eine geschlossene Formel angenähert werden kann. Der Scatterplot kann in \\autoref{fig:probcut_sigma_by_disccount} betrachtet werden."
   ]
  },
  {
   "cell_type": "code",
   "execution_count": null,
   "metadata": {},
   "outputs": [],
   "source": [
    "plt.figure(figsize=(15, 10))\n",
    "sns.set(style='whitegrid')\n",
    "plt.scatter(x, y)\n",
    "plt.axhline(y=0.0, c='k')\n",
    "plt.xlabel('number of disks on the board')\n",
    "plt.ylabel('standard deviation')\n",
    "plt.title('Standard Deviation')\n",
    "plt.show()"
   ]
  },
  {
   "cell_type": "markdown",
   "metadata": {},
   "source": [
    "\\begin{figure}[H]\n",
    "    \\centering\n",
    "    \\includegraphics[width=\\textwidth]{probcut_sigma_by_disccount}\n",
    "    \\caption{Probcut Standardabweichung abhängig von der Steinzahl}\n",
    "    \\label{fig:probcut_sigma_by_disccount}\n",
    "\\end{figure}"
   ]
  },
  {
   "cell_type": "markdown",
   "metadata": {},
   "source": [
    "Bei der Betrachtung ergibt sich, dass im Bereich zwischen 5 und 58 Zügen eine annähernd quadratische Abhängigkeit vorliegt. Daher wird dieser Bereich mittels Polynomieller Regression angehähert und visualisiert."
   ]
  },
  {
   "cell_type": "markdown",
   "metadata": {},
   "source": [
    "Folgender Code berechnet das Regressionspolynom zweiten Gerades der Standardabweichung in Abhängigkeit von der Anzahl der Steine auf dem Spielfeld mit `sklearn` und stellt dieses, wie in \\autoref{fig:probcut_sigma_polynomial_regression} zu sehen, grafisch dar."
   ]
  },
  {
   "cell_type": "code",
   "execution_count": null,
   "metadata": {},
   "outputs": [],
   "source": [
    "indices = np.argwhere(x <= 58)\n",
    "xnew = x[indices]\n",
    "ynew = y[indices][:,0]\n",
    "polynomial_features= pp.PolynomialFeatures(degree=2)\n",
    "xpoly = polynomial_features.fit_transform(xnew)\n",
    "\n",
    "model = lm.LinearRegression()\n",
    "model.fit(xpoly, ynew)\n",
    "\n",
    "theta0 = model.intercept_\n",
    "theta1, theta2, theta3 = model.coef_\n",
    "a = np.arange(0.0, 60.0, 0.01)\n",
    "b = theta0 + (theta1 + theta2) * a + theta3 * a**2\n",
    "\n",
    "plt.figure(figsize=(15, 10))\n",
    "sns.set(style='whitegrid')\n",
    "plt.scatter(xnew, ynew)\n",
    "plt.axhline(y=0.0, c='k')\n",
    "plt.plot(a, b)\n",
    "plt.xlabel('number of disks on the board')\n",
    "plt.ylabel('standard deviation')\n",
    "plt.title('Standard Deviation')\n",
    "plt.show()"
   ]
  },
  {
   "cell_type": "markdown",
   "metadata": {},
   "source": [
    "\\begin{figure}[H]\n",
    "    \\centering\n",
    "    \\includegraphics[width=\\textwidth]{probcut_sigma_polynomial_regression}\n",
    "    \\caption{Annäherung der Standardabweichung durch Polynomielle Regression}\n",
    "    \\label{fig:probcut_sigma_polynomial_regression}\n",
    "\\end{figure}"
   ]
  },
  {
   "cell_type": "markdown",
   "metadata": {},
   "source": [
    "Hier wird das Regressionspolynom ausgegeben, welches näherungsweise die Standardabweichung in Abhängigkeit von der Anzahl an Spielsteinen auf dem Spielfeld berechnet"
   ]
  },
  {
   "cell_type": "code",
   "execution_count": null,
   "metadata": {},
   "outputs": [],
   "source": [
    "print(theta0, '+', theta1 + theta2, '* x +', theta3, '* x**2')"
   ]
  },
  {
   "cell_type": "markdown",
   "metadata": {},
   "source": [
    "Die hier ausgegebenen Funktion wird in der ProbCut Implementierung zur Bestimmung der Standardabweichung genutzt."
   ]
  }
 ],
 "metadata": {
  "kernelspec": {
   "display_name": "Python 3",
   "language": "python",
   "name": "python3"
  },
  "language_info": {
   "codemirror_mode": {
    "name": "ipython",
    "version": 3
   },
   "file_extension": ".py",
   "mimetype": "text/x-python",
   "name": "python",
   "nbconvert_exporter": "python",
   "pygments_lexer": "ipython3",
   "version": "3.8.2"
  }
 },
 "nbformat": 4,
 "nbformat_minor": 4
}
