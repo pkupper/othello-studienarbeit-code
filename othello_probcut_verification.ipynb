{
 "cells": [
  {
   "cell_type": "markdown",
   "metadata": {},
   "source": [
    "## Güte von ProbCut"
   ]
  },
  {
   "cell_type": "code",
   "execution_count": 156,
   "metadata": {},
   "outputs": [
    {
     "data": {
      "text/html": [
       "<style>\n",
       ".container { width:100% }\n",
       "</style>\n"
      ],
      "text/plain": [
       "<IPython.core.display.HTML object>"
      ]
     },
     "metadata": {},
     "output_type": "display_data"
    },
    {
     "data": {
      "text/html": [
       "<style>\n",
       ".container { width:100% }\n",
       "</style>\n"
      ],
      "text/plain": [
       "<IPython.core.display.HTML object>"
      ]
     },
     "metadata": {},
     "output_type": "display_data"
    }
   ],
   "source": [
    "%run othello_ai.ipynb"
   ]
  },
  {
   "cell_type": "code",
   "execution_count": 157,
   "metadata": {},
   "outputs": [],
   "source": [
    "def ai_get_moves(ai, state, depth, heuristic, tree_node):\n",
    "    tree_node.player = state.turn\n",
    "    if state.game_over:\n",
    "        return\n",
    "    scored_moves = []\n",
    "    if state.turn == WHITE:\n",
    "        # maximizing\n",
    "        alpha = -math.inf\n",
    "        for move in state.possible_moves:\n",
    "            child_node = TreeNode()\n",
    "            tree_node.add_child(child_node)\n",
    "            new_state = make_move(state, move)\n",
    "            utility = ai(new_state, depth-1, heuristic, alpha, math.inf, child_node)\n",
    "            scored_moves.append((utility, move))\n",
    "            alpha = max(alpha, utility)\n",
    "        best_score, _ = max(scored_moves)\n",
    "    else:\n",
    "        # minimizing\n",
    "        beta = math.inf\n",
    "        for move in state.possible_moves:\n",
    "            child_node = TreeNode()\n",
    "            tree_node.add_child(child_node)\n",
    "            new_state = make_move(state, move)\n",
    "            utility = ai(new_state, depth-1, heuristic, -math.inf, beta, child_node)\n",
    "            scored_moves.append((utility, move))\n",
    "            beta = min(beta, utility)\n",
    "        best_score, _ = min(scored_moves)\n",
    "    tree_node.score = best_score\n",
    "    top_moves = [move for move in scored_moves if move[0] == best_score]\n",
    "    return top_moves"
   ]
  },
  {
   "cell_type": "code",
   "execution_count": 158,
   "metadata": {},
   "outputs": [],
   "source": [
    "test_board = GameState()\n",
    "fails = []\n",
    "correct = 0"
   ]
  },
  {
   "cell_type": "code",
   "execution_count": 159,
   "metadata": {},
   "outputs": [],
   "source": [
    "while not test_board.game_over:\n",
    "    ab_tree = TreeNode()\n",
    "    ab = ai_get_moves(alphabeta, test_board, 3, combined_heuristic, ab_tree)\n",
    "    pc_tree = TreeNode()\n",
    "    pc = ai_get_moves(alphabeta, test_board, 3, combined_heuristic, pc_tree)\n",
    "    if ab != pc:\n",
    "        fails.append((test_board, ab, pc, ab_tree, pc_tree))\n",
    "    else:\n",
    "        correct += 1\n",
    "    test_board = ai_make_move(random_ai, test_board, 1, None)"
   ]
  },
  {
   "cell_type": "code",
   "execution_count": 160,
   "metadata": {},
   "outputs": [
    {
     "data": {
      "text/plain": [
       "[(<__main__.GameState at 0x7fcf4d8d2460>,\n",
       "  [(0.000283848614072494, (1, 5))],\n",
       "  [(0.000283848614072494, (1, 5)), (0.000283848614072494, (5, 5))],\n",
       "  <__main__.TreeNode at 0x7fcf59ccddf0>,\n",
       "  <__main__.TreeNode at 0x7fcf682bd190>),\n",
       " (<__main__.GameState at 0x7fcf4c736970>,\n",
       "  [(0.0499160447761194, (0, 7)), (0.0499160447761194, (1, 2))],\n",
       "  [(0.0499160447761194, (0, 7))],\n",
       "  <__main__.TreeNode at 0x7fcf4e612760>,\n",
       "  <__main__.TreeNode at 0x7fcf58f00d60>),\n",
       " (<__main__.GameState at 0x7fcf4ef51700>,\n",
       "  [(0.092960421108742, (0, 7))],\n",
       "  [(0.092960421108742, (0, 7)), (0.092960421108742, (7, 2))],\n",
       "  <__main__.TreeNode at 0x7fcf4cd8dbe0>,\n",
       "  <__main__.TreeNode at 0x7fcf4c70c490>),\n",
       " (<__main__.GameState at 0x7fcf4c669820>,\n",
       "  [(0.03125, (0, 7)), (0.03125, (3, 0))],\n",
       "  [(0.03125, (0, 7)), (0.03125, (3, 1)), (0.03125, (3, 0))],\n",
       "  <__main__.TreeNode at 0x7fcf4ef2f400>,\n",
       "  <__main__.TreeNode at 0x7fcf4e8b9790>),\n",
       " (<__main__.GameState at 0x7fcf4d869df0>,\n",
       "  [(0.15625, (0, 7)), (0.15625, (7, 3))],\n",
       "  [(0.15625, (0, 7)), (0.15625, (7, 3)), (0.15625, (1, 7))],\n",
       "  <__main__.TreeNode at 0x7fcf4efd0f40>,\n",
       "  <__main__.TreeNode at 0x7fcf4efd1fa0>),\n",
       " (<__main__.GameState at 0x7fcf4eecb640>,\n",
       "  [(0.15625, (0, 7)), (0.15625, (7, 3))],\n",
       "  [(0.15625, (0, 7)), (0.15625, (7, 3)), (0.15625, (6, 6))],\n",
       "  <__main__.TreeNode at 0x7fcf4d87a670>,\n",
       "  <__main__.TreeNode at 0x7fcf4eedebe0>),\n",
       " (<__main__.GameState at 0x7fcf4e86f670>,\n",
       "  [(0.34375, (7, 3))],\n",
       "  [(0.34375, (7, 3)), (0.34375, (7, 6))],\n",
       "  <__main__.TreeNode at 0x7fcf4eec8730>,\n",
       "  <__main__.TreeNode at 0x7fcf4efd09a0>),\n",
       " (<__main__.GameState at 0x7fcf4e85ec70>,\n",
       "  [(0.3125, (7, 7))],\n",
       "  [(0.3125, (7, 7)), (0.3125, (7, 5))],\n",
       "  <__main__.TreeNode at 0x7fcf4e843970>,\n",
       "  <__main__.TreeNode at 0x7fcf4eec8d30>),\n",
       " (<__main__.GameState at 0x7fcf4e872e80>,\n",
       "  [(0.203125, (2, 1))],\n",
       "  [(0.203125, (2, 1)), (0.203125, (7, 6))],\n",
       "  <__main__.TreeNode at 0x7fcf4e86c4f0>,\n",
       "  <__main__.TreeNode at 0x7fcf4e85e9d0>)]"
      ]
     },
     "execution_count": 160,
     "metadata": {},
     "output_type": "execute_result"
    }
   ],
   "source": [
    "fails"
   ]
  },
  {
   "cell_type": "code",
   "execution_count": 133,
   "metadata": {},
   "outputs": [
    {
     "data": {
      "text/plain": [
       "54"
      ]
     },
     "execution_count": 133,
     "metadata": {},
     "output_type": "execute_result"
    }
   ],
   "source": [
    "correct"
   ]
  },
  {
   "cell_type": "code",
   "execution_count": 161,
   "metadata": {},
   "outputs": [
    {
     "name": "stdout",
     "output_type": "stream",
     "text": [
      "[[ 0  0  0  0  0  0  0  0]\n",
      " [ 0 -1  0  0  0  0  0  0]\n",
      " [ 0  0 -1 -1 -1  1  0  0]\n",
      " [ 0  0 -1  1 -1 -1  0  0]\n",
      " [ 0  0  1  1  1  1  0  0]\n",
      " [ 0  0 -1  1  0  0  1  0]\n",
      " [ 0  0  0  0  0  0  0  0]\n",
      " [ 0  0  0  0  0  0  0  0]]\n",
      "AB: [(0.000283848614072494, (1, 5))]\n",
      "PC: [(0.000283848614072494, (1, 5)), (0.000283848614072494, (5, 5))]\n",
      "[[ 0  0  0  0  0  1 -1  0]\n",
      " [ 0 -1  0  0  0 -1  0  0]\n",
      " [ 0  0 -1 -1 -1  1  0  0]\n",
      " [ 0  0 -1  1 -1  1  0  0]\n",
      " [ 0  0  1  1  1  1  0  0]\n",
      " [ 0  0 -1  1  0  0  1  0]\n",
      " [ 0  0  0  0  0  0  0  0]\n",
      " [ 0  0  0  0  0  0  0  0]]\n",
      "AB: [(0.0499160447761194, (0, 7)), (0.0499160447761194, (1, 2))]\n",
      "PC: [(0.0499160447761194, (0, 7))]\n",
      "[[ 0  0  0  0  0  1 -1  0]\n",
      " [ 0 -1  1  0  0 -1  0  0]\n",
      " [ 0  0  1  1 -1  1  0  0]\n",
      " [ 0  0  1  1  1 -1  0  0]\n",
      " [ 0  0  1  1 -1  1  1  1]\n",
      " [ 0  0 -1 -1  0  0  1  0]\n",
      " [ 0  0 -1  0  0  0  0  0]\n",
      " [ 0  0  0  0  0  0  0  0]]\n",
      "AB: [(0.092960421108742, (0, 7))]\n",
      "PC: [(0.092960421108742, (0, 7)), (0.092960421108742, (7, 2))]\n",
      "[[ 1  0 -1  1 -1 -1 -1  0]\n",
      " [ 1  1  1  1 -1 -1 -1  0]\n",
      " [-1  0 -1 -1 -1 -1 -1  0]\n",
      " [ 0  0 -1  1 -1  1  0 -1]\n",
      " [-1 -1  1  1 -1  1 -1 -1]\n",
      " [-1 -1  1  1  1  1 -1 -1]\n",
      " [-1  1 -1 -1 -1  1  0 -1]\n",
      " [ 1  0 -1  0  0  0  0  0]]\n",
      "AB: [(0.03125, (0, 7)), (0.03125, (3, 0))]\n",
      "PC: [(0.03125, (0, 7)), (0.03125, (3, 1)), (0.03125, (3, 0))]\n",
      "[[ 1  0 -1  1 -1 -1 -1  0]\n",
      " [ 1  1  1  1 -1 -1 -1  0]\n",
      " [ 1  0 -1 -1 -1 -1 -1  0]\n",
      " [ 1  0 -1  1 -1  1  0 -1]\n",
      " [ 1  1  1  1 -1  1 -1 -1]\n",
      " [ 1 -1  1  1  1  1 -1 -1]\n",
      " [ 1 -1 -1 -1 -1  1  0 -1]\n",
      " [ 1 -1 -1  0  0  0  0  0]]\n",
      "AB: [(0.15625, (0, 7)), (0.15625, (7, 3))]\n",
      "PC: [(0.15625, (0, 7)), (0.15625, (7, 3)), (0.15625, (1, 7))]\n",
      "[[ 1  0 -1  1 -1 -1 -1  0]\n",
      " [ 1  1  1  1 -1 -1 -1  0]\n",
      " [ 1  0  1 -1 -1 -1 -1  0]\n",
      " [ 1  1  1  1 -1  1  0 -1]\n",
      " [ 1  1  1  1 -1  1 -1 -1]\n",
      " [ 1 -1  1  1  1  1 -1 -1]\n",
      " [ 1 -1 -1 -1 -1 -1  0 -1]\n",
      " [ 1 -1 -1  0 -1  0  0  0]]\n",
      "AB: [(0.15625, (0, 7)), (0.15625, (7, 3))]\n",
      "PC: [(0.15625, (0, 7)), (0.15625, (7, 3)), (0.15625, (6, 6))]\n",
      "[[ 1  0 -1  1  1  1  1  1]\n",
      " [ 1  1  1  1 -1 -1  1  0]\n",
      " [ 1  0  1 -1 -1 -1 -1  0]\n",
      " [ 1  1  1  1  1  1 -1 -1]\n",
      " [ 1  1  1  1 -1 -1 -1 -1]\n",
      " [ 1 -1  1  1 -1  1 -1 -1]\n",
      " [ 1 -1 -1 -1 -1 -1  0 -1]\n",
      " [ 1 -1 -1  0 -1  0  0  0]]\n",
      "AB: [(0.34375, (7, 3))]\n",
      "PC: [(0.34375, (7, 3)), (0.34375, (7, 6))]\n",
      "[[ 1  0 -1  1  1  1  1  1]\n",
      " [ 1  1  1  1 -1 -1 -1 -1]\n",
      " [ 1  0  1  1  1  1 -1 -1]\n",
      " [ 1  1  1  1  1 -1 -1 -1]\n",
      " [ 1  1  1  1 -1 -1 -1 -1]\n",
      " [ 1 -1  1  1 -1  1 -1 -1]\n",
      " [ 1 -1 -1 -1 -1 -1  0 -1]\n",
      " [ 1 -1 -1  0 -1  0  0  0]]\n",
      "AB: [(0.3125, (7, 7))]\n",
      "PC: [(0.3125, (7, 7)), (0.3125, (7, 5))]\n",
      "[[ 1  0 -1  1  1  1  1  1]\n",
      " [ 1  1  1  1 -1 -1 -1  1]\n",
      " [ 1  0  1  1  1  1 -1  1]\n",
      " [ 1  1  1  1  1 -1 -1  1]\n",
      " [ 1  1  1  1  1 -1 -1  1]\n",
      " [ 1  1  1  1 -1  1 -1  1]\n",
      " [ 1 -1  1  1  1 -1  1  1]\n",
      " [ 1  1  1  1 -1  0  0  1]]\n",
      "AB: [(0.203125, (2, 1))]\n",
      "PC: [(0.203125, (2, 1)), (0.203125, (7, 6))]\n"
     ]
    }
   ],
   "source": [
    "for (board, ab, pc, ab_tree, pc_tree) in fails:\n",
    "    print(board.board)\n",
    "    print(\"AB:\", ab)\n",
    "    print(\"PC:\", pc)"
   ]
  },
  {
   "cell_type": "code",
   "execution_count": 150,
   "metadata": {},
   "outputs": [],
   "source": [
    "ab_tree = TreeNode()\n",
    "ab = ai_get_moves(alphabeta, fails[0][0], 3, combined_heuristic, ab_tree)\n",
    "pc_tree = TreeNode()\n",
    "pc = ai_get_moves(alphabeta, fails[0][0], 3, combined_heuristic, pc_tree)"
   ]
  },
  {
   "cell_type": "code",
   "execution_count": 169,
   "metadata": {},
   "outputs": [
    {
     "name": "stdout",
     "output_type": "stream",
     "text": [
      "{\"player\": \"Black\", \"score\": 0.000283848614072494, \"children\": [{\"player\": \"White\", \"score\": 0.011225013326226017, \"children\": [{\"player\": \"Black\", \"score\": -0.0008712020255863522, \"children\": [{\"player\": \"White\", \"score\": -0.0008712020255863522, \"children\": []}]}, {\"player\": \"Black\", \"score\": 0.011225013326226017, \"children\": [{\"player\": \"White\", \"score\": 0.014193763326226013, \"children\": []}, {\"player\": \"White\", \"score\": 0.044234741471215346, \"children\": []}, {\"player\": \"White\", \"score\": 0.04089119136460554, \"children\": []}, {\"player\": \"White\", \"score\": 0.028142657249466945, \"children\": []}, {\"player\": \"White\", \"score\": 0.06898554104477611, \"children\": []}, {\"player\": \"White\", \"score\": 0.03994402985074627, \"children\": []}, {\"player\": \"White\", \"score\": 0.03302272121535181, \"children\": []}, {\"player\": \"White\", \"score\": 0.044807102878464816, \"children\": []}, {\"player\": \"White\", \"score\": 0.011225013326226017, \"children\": []}, {\"player\": \"White\", \"score\": 0.022607609275053307, \"children\": []}, {\"player\": \"White\", \"score\": 0.017617937100213223, \"children\": []}, {\"player\": \"White\", \"score\": 0.0293077025586354, \"children\": []}]}, {\"player\": \"Black\", \"score\": -0.013194629530916848, \"children\": [{\"player\": \"White\", \"score\": -0.013194629530916848, \"children\": []}]}, {\"player\": \"Black\", \"score\": -0.007182835820895517, \"children\": [{\"player\": \"White\", \"score\": -0.007182835820895517, \"children\": []}]}, {\"player\": \"Black\", \"score\": -0.002192497334754795, \"children\": [{\"player\": \"White\", \"score\": -0.002192497334754795, \"children\": []}]}, {\"player\": \"Black\", \"score\": -0.0020822228144989317, \"children\": [{\"player\": \"White\", \"score\": -0.0020822228144989317, \"children\": []}]}, {\"player\": \"Black\", \"score\": -0.016709421641791046, \"children\": [{\"player\": \"White\", \"score\": -0.016709421641791046, \"children\": []}]}, {\"player\": \"Black\", \"score\": -0.014284714818763318, \"children\": [{\"player\": \"White\", \"score\": -0.014284714818763318, \"children\": []}]}, {\"player\": \"Black\", \"score\": -0.004214085820895518, \"children\": [{\"player\": \"White\", \"score\": -0.004214085820895518, \"children\": []}]}, {\"player\": \"Black\", \"score\": 0.0007762526652452043, \"children\": [{\"player\": \"White\", \"score\": 0.0007762526652452043, \"children\": []}]}]}, {\"player\": \"White\", \"score\": 0.000283848614072494, \"children\": [{\"player\": \"Black\", \"score\": 0.000283848614072494, \"children\": [{\"player\": \"White\", \"score\": 0.022081556503198298, \"children\": []}, {\"player\": \"White\", \"score\": 0.04199893390191897, \"children\": []}, {\"player\": \"White\", \"score\": 0.0246152052238806, \"children\": []}, {\"player\": \"White\", \"score\": 0.02698127665245202, \"children\": []}, {\"player\": \"White\", \"score\": 0.0068763326226012784, \"children\": []}, {\"player\": \"White\", \"score\": 0.02133528784648188, \"children\": []}, {\"player\": \"White\", \"score\": 0.0002838486140725009, \"children\": []}, {\"player\": \"White\", \"score\": 0.02334221748400853, \"children\": []}, {\"player\": \"White\", \"score\": 0.04974080490405117, \"children\": []}, {\"player\": \"White\", \"score\": 0.000283848614072494, \"children\": []}, {\"player\": \"White\", \"score\": 0.012597947761194037, \"children\": []}]}]}, {\"player\": \"White\", \"score\": 0.03535847547974414, \"children\": [{\"player\": \"Black\", \"score\": 0.006686100746268655, \"children\": [{\"player\": \"White\", \"score\": 0.027922108208955222, \"children\": []}, {\"player\": \"White\", \"score\": 0.006686100746268658, \"children\": []}, {\"player\": \"White\", \"score\": 0.0183602078891258, \"children\": []}, {\"player\": \"White\", \"score\": 0.07018323560767589, \"children\": []}, {\"player\": \"White\", \"score\": 0.040157915778251604, \"children\": []}, {\"player\": \"White\", \"score\": 0.028048707356076757, \"children\": []}, {\"player\": \"White\", \"score\": 0.006686100746268655, \"children\": []}, {\"player\": \"White\", \"score\": 0.02178304904051172, \"children\": []}, {\"player\": \"White\", \"score\": 0.0426915644989339, \"children\": []}, {\"player\": \"White\", \"score\": 0.04343783315565032, \"children\": []}, {\"player\": \"White\", \"score\": 0.0213289578891258, \"children\": []}, {\"player\": \"White\", \"score\": 0.040268190298507464, \"children\": []}]}, {\"player\": \"Black\", \"score\": 0.03535847547974414, \"children\": [{\"player\": \"White\", \"score\": 0.03814332356076759, \"children\": []}, {\"player\": \"White\", \"score\": 0.08510760927505331, \"children\": []}, {\"player\": \"White\", \"score\": 0.046160381130063974, \"children\": []}, {\"player\": \"White\", \"score\": 0.05519256396588486, \"children\": []}, {\"player\": \"White\", \"score\": 0.038820295842217495, \"children\": []}, {\"player\": \"White\", \"score\": 0.03535847547974414, \"children\": []}, {\"player\": \"White\", \"score\": 0.060618003731343274, \"children\": []}, {\"player\": \"White\", \"score\": 0.04178904584221749, \"children\": []}, {\"player\": \"White\", \"score\": 0.042571295309168436, \"children\": []}]}]}, {\"player\": \"White\", \"score\": 0.0023047707889125805, \"children\": [{\"player\": \"Black\", \"score\": -0.009495269189765454, \"children\": [{\"player\": \"White\", \"score\": -0.009495269189765454, \"children\": []}]}, {\"player\": \"Black\", \"score\": -0.012045908848614069, \"children\": [{\"player\": \"White\", \"score\": 0.05462086886993604, \"children\": []}, {\"player\": \"White\", \"score\": 0.030056969616204698, \"children\": []}, {\"player\": \"White\", \"score\": -0.00907715884861407, \"children\": []}, {\"player\": \"White\", \"score\": -0.005527052238805969, \"children\": []}, {\"player\": \"White\", \"score\": 0.016201359275053305, \"children\": []}, {\"player\": \"White\", \"score\": 0.005274187100213223, \"children\": []}, {\"player\": \"White\", \"score\": -0.009787446695095955, \"children\": []}, {\"player\": \"White\", \"score\": 0.02652651918976546, \"children\": []}, {\"player\": \"White\", \"score\": -0.012045908848614069, \"children\": []}, {\"player\": \"White\", \"score\": 0.018969216417910453, \"children\": []}, {\"player\": \"White\", \"score\": 0.009751799040511728, \"children\": []}]}, {\"player\": \"Black\", \"score\": -0.0011350613006396622, \"children\": [{\"player\": \"White\", \"score\": 0.0006693097014925445, \"children\": []}, {\"player\": \"White\", \"score\": 0.06438366204690832, \"children\": []}, {\"player\": \"White\", \"score\": 0.032647921108742, \"children\": []}, {\"player\": \"White\", \"score\": 0.003161313965884857, \"children\": []}, {\"player\": \"White\", \"score\": 0.019244402985074623, \"children\": []}, {\"player\": \"White\", \"score\": -0.0011350613006396622, \"children\": []}, {\"player\": \"White\", \"score\": 0.00046841684434967973, \"children\": []}, {\"player\": \"White\", \"score\": 0.01627565298507463, \"children\": []}, {\"player\": \"White\", \"score\": 0.02468949893390192, \"children\": []}]}, {\"player\": \"Black\", \"score\": 0.0023047707889125805, \"children\": [{\"player\": \"White\", \"score\": 0.045772921108742, \"children\": []}, {\"player\": \"White\", \"score\": 0.03821561833688698, \"children\": []}, {\"player\": \"White\", \"score\": 0.03821561833688698, \"children\": []}, {\"player\": \"White\", \"score\": 0.01970149253731343, \"children\": []}, {\"player\": \"White\", \"score\": 0.03045808901918976, \"children\": []}, {\"player\": \"White\", \"score\": 0.022044243070362467, \"children\": []}, {\"player\": \"White\", \"score\": 0.04575659648187633, \"children\": []}, {\"player\": \"White\", \"score\": 0.0023047707889125805, \"children\": []}, {\"player\": \"White\", \"score\": 0.02825193230277185, \"children\": []}, {\"player\": \"White\", \"score\": 0.048741671108741995, \"children\": []}, {\"player\": \"White\", \"score\": 0.021752065565031974, \"children\": []}, {\"player\": \"White\", \"score\": 0.022044243070362467, \"children\": []}]}, {\"player\": \"Black\", \"score\": -0.011919976012793182, \"children\": [{\"player\": \"White\", \"score\": 0.030367470682302767, \"children\": []}, {\"player\": \"White\", \"score\": 0.00825859541577825, \"children\": []}, {\"player\": \"White\", \"score\": 0.03193363539445629, \"children\": []}, {\"player\": \"White\", \"score\": 0.06441564498933901, \"children\": []}, {\"player\": \"White\", \"score\": -0.011919976012793182, \"children\": []}, {\"player\": \"White\", \"score\": 0.023975213219616202, \"children\": []}]}]}, {\"player\": \"White\", \"score\": 0.02657382729211087, \"children\": [{\"player\": \"Black\", \"score\": 0.02657382729211087, \"children\": [{\"player\": \"White\", \"score\": 0.02657382729211087, \"children\": []}, {\"player\": \"White\", \"score\": 0.055166244669509604, \"children\": []}, {\"player\": \"White\", \"score\": 0.02901419243070363, \"children\": []}, {\"player\": \"White\", \"score\": 0.04558735341151385, \"children\": []}, {\"player\": \"White\", \"score\": 0.057589618869936035, \"children\": []}, {\"player\": \"White\", \"score\": 0.0551662446695096, \"children\": []}, {\"player\": \"White\", \"score\": 0.04041311300639659, \"children\": []}, {\"player\": \"White\", \"score\": 0.05227345415778252, \"children\": []}, {\"player\": \"White\", \"score\": 0.02805070628997868, \"children\": []}, {\"player\": \"White\", \"score\": 0.06461787046908316, \"children\": []}]}]}, {\"player\": \"White\", \"score\": 0.021536847014925375, \"children\": [{\"player\": \"Black\", \"score\": 0.021536847014925375, \"children\": [{\"player\": \"White\", \"score\": 0.08583755330490406, \"children\": []}, {\"player\": \"White\", \"score\": 0.030167910447761195, \"children\": []}, {\"player\": \"White\", \"score\": 0.03913446162046909, \"children\": []}, {\"player\": \"White\", \"score\": 0.046069096481876334, \"children\": []}, {\"player\": \"White\", \"score\": 0.04586820362473347, \"children\": []}, {\"player\": \"White\", \"score\": 0.021536847014925375, \"children\": []}, {\"player\": \"White\", \"score\": 0.05275286513859276, \"children\": []}, {\"player\": \"White\", \"score\": 0.055721615138592764, \"children\": []}, {\"player\": \"White\", \"score\": 0.055721615138592764, \"children\": []}, {\"player\": \"White\", \"score\": 0.04333455490405117, \"children\": []}, {\"player\": \"White\", \"score\": 0.02450559701492538, \"children\": []}, {\"player\": \"White\", \"score\": 0.038385860874200435, \"children\": []}]}, {\"player\": \"Black\", \"score\": 0.008771321961620466, \"children\": [{\"player\": \"White\", \"score\": 0.008771321961620466, \"children\": []}]}, {\"player\": \"Black\", \"score\": 0.008644722814498934, \"children\": [{\"player\": \"White\", \"score\": 0.008644722814498934, \"children\": []}]}, {\"player\": \"Black\", \"score\": -0.002721548507462687, \"children\": [{\"player\": \"White\", \"score\": -0.002721548507462687, \"children\": []}]}, {\"player\": \"Black\", \"score\": -0.008002731876332617, \"children\": [{\"player\": \"White\", \"score\": -0.008002731876332617, \"children\": []}]}, {\"player\": \"Black\", \"score\": -0.010770589019189765, \"children\": [{\"player\": \"White\", \"score\": -0.010770589019189765, \"children\": []}]}, {\"player\": \"Black\", \"score\": 0.021408248933901912, \"children\": [{\"player\": \"White\", \"score\": 0.021408248933901912, \"children\": []}]}, {\"player\": \"Black\", \"score\": -0.011934968017057568, \"children\": [{\"player\": \"White\", \"score\": -0.011934968017057568, \"children\": []}]}, {\"player\": \"Black\", \"score\": 0.00048540778251599664, \"children\": [{\"player\": \"White\", \"score\": 0.00048540778251599664, \"children\": []}]}, {\"player\": \"Black\", \"score\": 0.01727578624733475, \"children\": [{\"player\": \"White\", \"score\": 0.01727578624733475, \"children\": []}]}, {\"player\": \"Black\", \"score\": 0.01663579424307036, \"children\": [{\"player\": \"White\", \"score\": 0.01663579424307036, \"children\": []}]}, {\"player\": \"Black\", \"score\": 0.001478544776119405, \"children\": [{\"player\": \"White\", \"score\": 0.001478544776119405, \"children\": []}]}]}, {\"player\": \"White\", \"score\": 0.000283848614072494, \"children\": [{\"player\": \"Black\", \"score\": -0.017678571428571422, \"children\": [{\"player\": \"White\", \"score\": -0.017678571428571422, \"children\": []}]}, {\"player\": \"Black\", \"score\": -0.002684901385927505, \"children\": [{\"player\": \"White\", \"score\": -0.002684901385927505, \"children\": []}]}, {\"player\": \"Black\", \"score\": -0.019073494136460548, \"children\": [{\"player\": \"White\", \"score\": -0.019073494136460548, \"children\": []}]}, {\"player\": \"Black\", \"score\": -0.01407382729211087, \"children\": [{\"player\": \"White\", \"score\": -0.01407382729211087, \"children\": []}]}, {\"player\": \"Black\", \"score\": 0.000283848614072494, \"children\": [{\"player\": \"White\", \"score\": 0.000283848614072494, \"children\": []}, {\"player\": \"White\", \"score\": 0.018626066098081026, \"children\": []}, {\"player\": \"White\", \"score\": 0.02153618070362473, \"children\": []}, {\"player\": \"White\", \"score\": 0.053345549040511725, \"children\": []}, {\"player\": \"White\", \"score\": 0.015471415245202555, \"children\": []}, {\"player\": \"White\", \"score\": 0.010698960554371004, \"children\": []}, {\"player\": \"White\", \"score\": 0.041326958955223876, \"children\": []}]}, {\"player\": \"Black\", \"score\": -0.031387593283582094, \"children\": [{\"player\": \"White\", \"score\": -0.031387593283582094, \"children\": []}]}, {\"player\": \"Black\", \"score\": -0.015486407249466948, \"children\": [{\"player\": \"White\", \"score\": -0.015486407249466948, \"children\": []}]}, {\"player\": \"Black\", \"score\": -0.021513859275053306, \"children\": [{\"player\": \"White\", \"score\": -0.021513859275053306, \"children\": []}]}, {\"player\": \"Black\", \"score\": -0.018655383795309177, \"children\": [{\"player\": \"White\", \"score\": -0.018655383795309177, \"children\": []}]}, {\"player\": \"Black\", \"score\": -0.02575726279317697, \"children\": [{\"player\": \"White\", \"score\": -0.02575726279317697, \"children\": []}]}, {\"player\": \"Black\", \"score\": -0.018856276652452028, \"children\": [{\"player\": \"White\", \"score\": -0.018856276652452028, \"children\": []}]}, {\"player\": \"Black\", \"score\": -0.042563632729211084, \"children\": [{\"player\": \"White\", \"score\": -0.042563632729211084, \"children\": []}]}, {\"player\": \"Black\", \"score\": -0.018110007995735602, \"children\": [{\"player\": \"White\", \"score\": -0.018110007995735602, \"children\": []}]}, {\"player\": \"Black\", \"score\": -0.031002132196162043, \"children\": [{\"player\": \"White\", \"score\": -0.031002132196162043, \"children\": []}]}]}, {\"player\": \"White\", \"score\": 0.0002838486140725009, \"children\": [{\"player\": \"Black\", \"score\": -0.0029664179104477613, \"children\": [{\"player\": \"White\", \"score\": -0.0029664179104477613, \"children\": []}]}, {\"player\": \"Black\", \"score\": 0.0002838486140725009, \"children\": [{\"player\": \"White\", \"score\": 0.053345549040511725, \"children\": []}, {\"player\": \"White\", \"score\": 0.007730210554371009, \"children\": []}, {\"player\": \"White\", \"score\": 0.018567430703624734, \"children\": []}, {\"player\": \"White\", \"score\": 0.012502665245202556, \"children\": []}, {\"player\": \"White\", \"score\": 0.04132695895522388, \"children\": []}, {\"player\": \"White\", \"score\": 0.0002838486140725009, \"children\": []}, {\"player\": \"White\", \"score\": 0.015657316098081027, \"children\": []}]}, {\"player\": \"Black\", \"score\": -0.0026849013859274982, \"children\": [{\"player\": \"White\", \"score\": 0.014786114072494687, \"children\": []}, {\"player\": \"White\", \"score\": 0.05037679904051173, \"children\": []}, {\"player\": \"White\", \"score\": 0.007730210554371002, \"children\": []}, {\"player\": \"White\", \"score\": 0.019715485074626872, \"children\": []}, {\"player\": \"White\", \"score\": 0.01283082356076759, \"children\": []}, {\"player\": \"White\", \"score\": 0.05556803038379531, \"children\": []}, {\"player\": \"White\", \"score\": 0.012502665245202556, \"children\": []}, {\"player\": \"White\", \"score\": -0.0026849013859274982, \"children\": []}]}, {\"player\": \"Black\", \"score\": -0.028418843283582074, \"children\": [{\"player\": \"White\", \"score\": -0.028418843283582074, \"children\": []}]}, {\"player\": \"Black\", \"score\": -0.013834621535181238, \"children\": [{\"player\": \"White\", \"score\": 0.011317297441364605, \"children\": []}, {\"player\": \"White\", \"score\": 0.006253331556503192, \"children\": []}, {\"player\": \"White\", \"score\": -0.013834621535181238, \"children\": []}]}]}, {\"player\": \"White\", \"score\": 0.022081556503198298, \"children\": [{\"player\": \"Black\", \"score\": -0.008732675906183356, \"children\": [{\"player\": \"White\", \"score\": 0.011027118869936035, \"children\": []}, {\"player\": \"White\", \"score\": -0.0009751465884861345, \"children\": []}, {\"player\": \"White\", \"score\": 0.04729777452025587, \"children\": []}, {\"player\": \"White\", \"score\": 0.015966151385927514, \"children\": []}, {\"player\": \"White\", \"score\": -0.008732675906183356, \"children\": []}, {\"player\": \"White\", \"score\": 0.006110407782515991, \"children\": []}, {\"player\": \"White\", \"score\": 0.012047907782515983, \"children\": []}, {\"player\": \"White\", \"score\": 0.024331023454157788, \"children\": []}, {\"player\": \"White\", \"score\": 0.019203424840085293, \"children\": []}]}, {\"player\": \"Black\", \"score\": 0.022081556503198298, \"children\": [{\"player\": \"White\", \"score\": 0.06312466684434967, \"children\": []}, {\"player\": \"White\", \"score\": 0.022081556503198298, \"children\": []}, {\"player\": \"White\", \"score\": 0.04036513859275053, \"children\": []}, {\"player\": \"White\", \"score\": 0.037455023987206834, \"children\": []}, {\"player\": \"White\", \"score\": 0.034300373134328356, \"children\": []}, {\"player\": \"White\", \"score\": 0.029527918443496805, \"children\": []}, {\"player\": \"White\", \"score\": 0.07514325692963754, \"children\": []}]}]}]}\n"
     ]
    }
   ],
   "source": [
    "print(str(fails[0][4]))"
   ]
  },
  {
   "cell_type": "code",
   "execution_count": null,
   "metadata": {},
   "outputs": [],
   "source": []
  }
 ],
 "metadata": {
  "kernelspec": {
   "display_name": "Python 3",
   "language": "python",
   "name": "python3"
  },
  "language_info": {
   "codemirror_mode": {
    "name": "ipython",
    "version": 3
   },
   "file_extension": ".py",
   "mimetype": "text/x-python",
   "name": "python",
   "nbconvert_exporter": "python",
   "pygments_lexer": "ipython3",
   "version": "3.8.2"
  }
 },
 "nbformat": 4,
 "nbformat_minor": 4
}
