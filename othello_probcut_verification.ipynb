{
 "cells": [
  {
   "cell_type": "markdown",
   "metadata": {},
   "source": [
    "## Güte von ProbCut"
   ]
  },
  {
   "cell_type": "code",
   "execution_count": 1,
   "metadata": {},
   "outputs": [
    {
     "data": {
      "text/html": [
       "<style>\n",
       ".container { width:100% }\n",
       "</style>\n"
      ],
      "text/plain": [
       "<IPython.core.display.HTML object>"
      ]
     },
     "metadata": {},
     "output_type": "display_data"
    }
   ],
   "source": [
    "%run othello_ai.ipynb"
   ]
  },
  {
   "cell_type": "code",
   "execution_count": 3,
   "metadata": {},
   "outputs": [],
   "source": [
    "def ai_get_moves(ai, state, depth, heuristic):\n",
    "    if state.game_over:\n",
    "        return\n",
    "    scored_moves = []\n",
    "    if state.turn == WHITE:\n",
    "        # maximizing\n",
    "        alpha = -math.inf\n",
    "        for move in state.possible_moves:\n",
    "            new_state = make_move(state, move)\n",
    "            utility = ai(new_state, depth-1, heuristic, alpha, math.inf)\n",
    "            scored_moves.append((utility, move))\n",
    "            alpha = max(alpha, utility)\n",
    "        best_score, _ = max(scored_moves)\n",
    "    else:\n",
    "        # minimizing\n",
    "        beta = math.inf\n",
    "        for move in state.possible_moves:\n",
    "            new_state = make_move(state, move)\n",
    "            utility = ai(new_state, depth-1, heuristic, -math.inf, beta)\n",
    "            scored_moves.append((utility, move))\n",
    "            beta = min(beta, utility)\n",
    "        best_score, _ = min(scored_moves)\n",
    "    top_moves = [move for move in scored_moves if move[0] == best_score]\n",
    "    return top_moves"
   ]
  },
  {
   "cell_type": "code",
   "execution_count": 4,
   "metadata": {},
   "outputs": [],
   "source": [
    "test_board = GameState()\n",
    "fails = []\n",
    "correct = 0"
   ]
  },
  {
   "cell_type": "code",
   "execution_count": 5,
   "metadata": {},
   "outputs": [],
   "source": [
    "while not test_board.game_over:\n",
    "    ab = ai_get_moves(alphabeta, test_board, 6, combined_heuristic)\n",
    "    pc = ai_get_moves(alphabeta, test_board, 6, combined_heuristic)\n",
    "    if ab != pc:\n",
    "        fails.append((test_board, ab, pc))\n",
    "    else:\n",
    "        correct += 1\n",
    "    test_board = ai_make_move(random_ai, test_board, 1, None)"
   ]
  },
  {
   "cell_type": "code",
   "execution_count": 6,
   "metadata": {},
   "outputs": [
    {
     "data": {
      "text/plain": [
       "[(<__main__.GameState at 0x7f422d7c13d0>,\n",
       "  [(0.1440345149253731, (0, 4))],\n",
       "  [(0.1440345149253731, (0, 4)), (0.1440345149253731, (7, 0))]),\n",
       " (<__main__.GameState at 0x7f424444f3a0>,\n",
       "  [(0.0, (5, 5)),\n",
       "   (0.0, (6, 4)),\n",
       "   (0.0, (1, 4)),\n",
       "   (0.0, (7, 3)),\n",
       "   (0.0, (6, 7)),\n",
       "   (0.0, (1, 7)),\n",
       "   (0.0, (7, 6)),\n",
       "   (0.0, (2, 6)),\n",
       "   (0.0, (6, 6)),\n",
       "   (0.0, (1, 6))],\n",
       "  [(0.0, (5, 5)),\n",
       "   (0.0, (1, 4)),\n",
       "   (0.0, (7, 3)),\n",
       "   (0.0, (6, 7)),\n",
       "   (0.0, (1, 7)),\n",
       "   (0.0, (7, 6)),\n",
       "   (0.0, (2, 6)),\n",
       "   (0.0, (6, 6)),\n",
       "   (0.0, (1, 6))]),\n",
       " (<__main__.GameState at 0x7f422d7c5fa0>,\n",
       "  [(-0.046875, (0, 4)),\n",
       "   (-0.046875, (1, 5)),\n",
       "   (-0.046875, (6, 4)),\n",
       "   (-0.046875, (1, 4)),\n",
       "   (-0.046875, (7, 3))],\n",
       "  [(-0.046875, (0, 4)),\n",
       "   (-0.046875, (6, 4)),\n",
       "   (-0.046875, (1, 4)),\n",
       "   (-0.046875, (7, 3))]),\n",
       " (<__main__.GameState at 0x7f422e11f3a0>,\n",
       "  [(-0.015625, (0, 4)), (-0.015625, (1, 4)), (-0.015625, (2, 6))],\n",
       "  [(-0.015625, (0, 4)),\n",
       "   (-0.015625, (1, 4)),\n",
       "   (-0.015625, (6, 7)),\n",
       "   (-0.015625, (2, 6))])]"
      ]
     },
     "execution_count": 6,
     "metadata": {},
     "output_type": "execute_result"
    }
   ],
   "source": [
    "fails"
   ]
  },
  {
   "cell_type": "code",
   "execution_count": 7,
   "metadata": {},
   "outputs": [
    {
     "data": {
      "text/plain": [
       "56"
      ]
     },
     "execution_count": 7,
     "metadata": {},
     "output_type": "execute_result"
    }
   ],
   "source": [
    "correct"
   ]
  },
  {
   "cell_type": "code",
   "execution_count": 8,
   "metadata": {},
   "outputs": [
    {
     "name": "stdout",
     "output_type": "stream",
     "text": [
      "[[ 1 -1 -1 -1  0  0  0  0]\n",
      " [ 1  1 -1 -1  0  0  0  0]\n",
      " [-1 -1 -1 -1 -1  0  0  0]\n",
      " [-1 -1 -1  1  1 -1 -1  0]\n",
      " [ 1  1 -1  1  1 -1  1  1]\n",
      " [ 1  1 -1 -1 -1  0  1  0]\n",
      " [-1 -1 -1  1  0  0  0  0]\n",
      " [ 0  0  0  0  1  0  0  0]]\n",
      "AB: [(0.1440345149253731, (0, 4))]\n",
      "PC: [(0.1440345149253731, (0, 4)), (0.1440345149253731, (7, 0))]\n",
      "[[ 1 -1 -1 -1  0  0  0  0]\n",
      " [ 1  1 -1 -1  0  0  0  0]\n",
      " [-1 -1 -1 -1 -1  1  0  1]\n",
      " [-1 -1 -1  1  1  1 -1 -1]\n",
      " [ 1 -1 -1  1  1  1 -1 -1]\n",
      " [ 1 -1 -1 -1  1  0  1 -1]\n",
      " [-1 -1 -1  1  0  1  0  0]\n",
      " [ 0 -1  1  0  1  0  0  0]]\n",
      "AB: [(0.0, (5, 5)), (0.0, (6, 4)), (0.0, (1, 4)), (0.0, (7, 3)), (0.0, (6, 7)), (0.0, (1, 7)), (0.0, (7, 6)), (0.0, (2, 6)), (0.0, (6, 6)), (0.0, (1, 6))]\n",
      "PC: [(0.0, (5, 5)), (0.0, (1, 4)), (0.0, (7, 3)), (0.0, (6, 7)), (0.0, (1, 7)), (0.0, (7, 6)), (0.0, (2, 6)), (0.0, (6, 6)), (0.0, (1, 6))]\n",
      "[[ 1 -1 -1 -1  0  0  0  0]\n",
      " [ 1  1 -1 -1  0  0  0 -1]\n",
      " [-1 -1 -1 -1 -1  1  0 -1]\n",
      " [-1 -1 -1  1  1  1 -1 -1]\n",
      " [ 1 -1 -1  1  1  1 -1 -1]\n",
      " [ 1 -1  1 -1 -1  0  1 -1]\n",
      " [ 1  1 -1  1  0 -1  0  0]\n",
      " [ 1  1  1  0  1  0 -1  0]]\n",
      "AB: [(-0.046875, (0, 4)), (-0.046875, (1, 5)), (-0.046875, (6, 4)), (-0.046875, (1, 4)), (-0.046875, (7, 3))]\n",
      "PC: [(-0.046875, (0, 4)), (-0.046875, (6, 4)), (-0.046875, (1, 4)), (-0.046875, (7, 3))]\n",
      "[[ 1 -1 -1 -1  0 -1  0  0]\n",
      " [ 1  1 -1 -1  0 -1  0 -1]\n",
      " [-1 -1 -1 -1  1 -1  0 -1]\n",
      " [-1 -1 -1  1  1 -1 -1 -1]\n",
      " [ 1 -1  1  1 -1 -1 -1 -1]\n",
      " [ 1  1  1 -1 -1 -1 -1 -1]\n",
      " [ 1  1 -1  1  1 -1  0  0]\n",
      " [ 1  1  1  0  1  0 -1  0]]\n",
      "AB: [(-0.015625, (0, 4)), (-0.015625, (1, 4)), (-0.015625, (2, 6))]\n",
      "PC: [(-0.015625, (0, 4)), (-0.015625, (1, 4)), (-0.015625, (6, 7)), (-0.015625, (2, 6))]\n"
     ]
    }
   ],
   "source": [
    "for (board, ab, pc) in fails:\n",
    "    print(board.board)\n",
    "    print(\"AB:\", ab)\n",
    "    print(\"PC:\", pc)"
   ]
  }
 ],
 "metadata": {
  "kernelspec": {
   "display_name": "Python 3",
   "language": "python",
   "name": "python3"
  },
  "language_info": {
   "codemirror_mode": {
    "name": "ipython",
    "version": 3
   },
   "file_extension": ".py",
   "mimetype": "text/x-python",
   "name": "python",
   "nbconvert_exporter": "python",
   "pygments_lexer": "ipython3",
   "version": "3.8.2"
  }
 },
 "nbformat": 4,
 "nbformat_minor": 4
}
