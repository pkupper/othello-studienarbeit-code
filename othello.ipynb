{
 "cells": [
  {
   "cell_type": "code",
   "execution_count": null,
   "metadata": {},
   "outputs": [],
   "source": [
    "%%HTML\n",
    "<style>\n",
    ".container { width:100% }\n",
    "</style>"
   ]
  },
  {
   "cell_type": "code",
   "execution_count": null,
   "metadata": {},
   "outputs": [],
   "source": [
    "%run othello_ai.ipynb\n",
    "%run othello_gui.ipynb"
   ]
  },
  {
   "cell_type": "code",
   "execution_count": null,
   "metadata": {},
   "outputs": [],
   "source": [
    "import time"
   ]
  },
  {
   "cell_type": "markdown",
   "metadata": {},
   "source": [
    "### Applikation Starten"
   ]
  },
  {
   "cell_type": "markdown",
   "metadata": {},
   "source": [
    "Im folgenden wird für beide Spieler die zu verwendende Künstliche Intelligenz, sowie die jeweils angewandte Heuristik festgelegt. Ein Wert von `None` bei der KI steht hierbei für einen menschlichen Spieler. Die KIs und Heuristiken werden jeweils in einem Dictionary gespeicher, sodass mit Spieler als Index auf die entsprechende KI oder Heuristik zugegriffen werden kann."
   ]
  },
  {
   "cell_type": "code",
   "execution_count": null,
   "metadata": {},
   "outputs": [],
   "source": [
    "configure_settings()"
   ]
  },
  {
   "cell_type": "markdown",
   "metadata": {},
   "source": [
    "Folgender Code dient zum Starten der interaktiven Applikation. Die Funktion `next_move` wird für jeden Spielzug ausgeführt. Sie wird zu Beginn einmal aufgerufen. Wenn eine KI spielt, wird die Funktion rekursiv für den nächsten Zug aufgerufen. Wenn der Spieler menschlich ist, muss die Ausführung unterbrochen werden, da auf das Aufrufen eines Callbacks durch einen Klick gewartet werden muss. Im Callback wird auch die Funktion `next_move` für den nächsten Zug aufgerufen."
   ]
  },
  {
   "cell_type": "code",
   "execution_count": null,
   "metadata": {},
   "outputs": [],
   "source": [
    "state = GameState()\n",
    "display_board(state)\n",
    "settings = get_settings()\n",
    "\n",
    "def next_move(state):\n",
    "    # Check if/which AI is playing\n",
    "    ai = settings[state.turn]['algorithm']\n",
    "    if ai is not None:\n",
    "        time.sleep(0.2)\n",
    "        make_move = settings[state.turn]['mode']\n",
    "        depth = settings[state.turn]['depth']\n",
    "        heuristic = settings[state.turn]['heuristic']\n",
    "        state = make_move(ai, state, depth, heuristic)\n",
    "        update_output(state)\n",
    "        if not state.game_over:\n",
    "            next_move(state)\n",
    "try:\n",
    "    next_move(state)\n",
    "except KeyboardInterrupt:\n",
    "    pass"
   ]
  }
 ],
 "metadata": {
  "kernelspec": {
   "display_name": "Python 3",
   "language": "python",
   "name": "python3"
  },
  "language_info": {
   "codemirror_mode": {
    "name": "ipython",
    "version": 3
   },
   "file_extension": ".py",
   "mimetype": "text/x-python",
   "name": "python",
   "nbconvert_exporter": "python",
   "pygments_lexer": "ipython3",
   "version": "3.8.2"
  }
 },
 "nbformat": 4,
 "nbformat_minor": 4
}
