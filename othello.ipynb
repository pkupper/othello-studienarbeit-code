{
 "cells": [
  {
   "cell_type": "markdown",
   "metadata": {},
   "source": [
    "# Othello Frontend (othello.ipynb)\n",
    "\\label{sec:frontend}"
   ]
  },
  {
   "cell_type": "code",
   "execution_count": null,
   "metadata": {},
   "outputs": [],
   "source": [
    "%%HTML\n",
    "<style>\n",
    ".container { width:100% }\n",
    "</style>"
   ]
  },
  {
   "cell_type": "markdown",
   "metadata": {},
   "source": [
    "Dieses Notebook dient als Benutzerschnittstelle, über die ein menschlicher Spieler gegen die Künstliche Intelligenz antreten kann. Zusätzlich werden Mensch-gegen-Mensch und KI-gegen-KI Spiele ermöglicht.\n",
    "Dazu werden die Funktionalitäten der KI Implementierung, sowie die der grafischen Benutzeroberfläche verwendet, welche im Folgenden eingebunden werden."
   ]
  },
  {
   "cell_type": "code",
   "execution_count": null,
   "metadata": {},
   "outputs": [],
   "source": [
    "%run othello_ai.ipynb\n",
    "%run othello_gui.ipynb"
   ]
  },
  {
   "cell_type": "markdown",
   "metadata": {},
   "source": [
    "Damit bei Verwendung einer besonders schnellen Konfiguration der KI die einzelnen Züge immer noch nachvollziehbar sind, wird das Modul `time` aus der Standardbibliothek eingebunden, dessen Funktion `sleep` im späteren Verlauf genutzt wird."
   ]
  },
  {
   "cell_type": "code",
   "execution_count": null,
   "metadata": {},
   "outputs": [],
   "source": [
    "import time"
   ]
  },
  {
   "cell_type": "markdown",
   "metadata": {},
   "source": [
    "Durch den Aufruf von `configure_settings` aus der GUI Implementierung wird eine Benutzeroberfläche angezeigt, welche dem Benutzer die Konfiguration der Spieleinstellungen ermöglicht. Für beide Spieler kann festgelegt werden, ob dieser ein menschlicher Spieler ist, von einer der verfügbaren KI Strategien kontrolliert werden soll. Für die KI Agenten können zusätzlich dazugehörigen Parameter, wie die zu verwendende Heuristik und die Suchtiefe festgelegt werden."
   ]
  },
  {
   "cell_type": "code",
   "execution_count": null,
   "metadata": {},
   "outputs": [],
   "source": [
    "configure_settings()"
   ]
  },
  {
   "cell_type": "markdown",
   "metadata": {},
   "source": [
    "Folgender Code dient zum Starten der interaktiven Applikation. Die Funktion `next_move` wird für jeden Spielzug ausgeführt. Ist eine KI an der Reihe, so wird ein Zug der KI durchgeführt und die Funktion im Anschluss rekursiv für den nächsten Zug aufgerufen. Ist ein menschlicher Spieler and der Reihe, wird die Ausführung unterbrochen. Durch einen Klick auf das gewünschte Feld wird mittels eines Callbacks in der GUI Implementierung der entsprechende Zug ausgeführt. Im Callback wird auch die Funktion `next_move` erneut für den nächsten Zug aufgerufen. Zu Beginn des Spiels muss die Funktion `next_move` einmal aufgerufen werden. "
   ]
  },
  {
   "cell_type": "code",
   "execution_count": null,
   "metadata": {},
   "outputs": [],
   "source": [
    "state = GameState()\n",
    "display_board(state)\n",
    "settings = get_settings()\n",
    "\n",
    "def next_move(old_state):\n",
    "    global state\n",
    "    # Check if/which AI is playing\n",
    "    ai = settings[state.turn]['algorithm']\n",
    "    if ai is not None:\n",
    "        time.sleep(0.2)\n",
    "        make_move = settings[old_state.turn]['mode']\n",
    "        depth = settings[state.turn]['depth']\n",
    "        timelim = settings[state.turn]['timelimit']\n",
    "        heuristic = settings[old_state.turn]['heuristic']\n",
    "        intval = timelim if make_move == ai_make_move_id_timelimited else depth\n",
    "        state = make_move(ai, old_state, intval, heuristic)\n",
    "        update_output(state)\n",
    "        if not state.game_over:\n",
    "            next_move(state)\n",
    "try:\n",
    "    next_move(state)\n",
    "except KeyboardInterrupt:\n",
    "    pass"
   ]
  }
 ],
 "metadata": {
  "kernelspec": {
   "display_name": "Python 3",
   "language": "python",
   "name": "python3"
  },
  "language_info": {
   "codemirror_mode": {
    "name": "ipython",
    "version": 3
   },
   "file_extension": ".py",
   "mimetype": "text/x-python",
   "name": "python",
   "nbconvert_exporter": "python",
   "pygments_lexer": "ipython3",
   "version": "3.8.2"
  }
 },
 "nbformat": 4,
 "nbformat_minor": 4
}
