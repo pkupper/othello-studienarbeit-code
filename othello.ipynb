{
 "cells": [
  {
   "cell_type": "code",
   "execution_count": null,
   "metadata": {},
   "outputs": [],
   "source": [
    "%%HTML\n",
    "<style>\n",
    ".container { width:100% }\n",
    "</style>"
   ]
  },
  {
   "cell_type": "code",
   "execution_count": null,
   "metadata": {},
   "outputs": [],
   "source": [
    "%run othello_game.ipynb\n",
    "%run othello_ai.ipynb\n",
    "%run othello_gui.ipynb"
   ]
  },
  {
   "cell_type": "code",
   "execution_count": null,
   "metadata": {},
   "outputs": [],
   "source": [
    "import time\n",
    "from ipywidgets import RadioButtons, HBox, VBox, IntSlider, Label"
   ]
  },
  {
   "cell_type": "markdown",
   "metadata": {},
   "source": [
    "### Applikation Starten"
   ]
  },
  {
   "cell_type": "markdown",
   "metadata": {},
   "source": [
    "Im folgenden wird für beide Spieler die zu verwendende Künstliche Intelligenz, sowie die jeweils angewandte Heuristik festgelegt. Ein Wert von `None` bei der KI steht hierbei für einen menschlichen Spieler. Die KIs und Heuristiken werden jeweils in einem Dictionary gespeicher, sodass mit Spieler als Index auf die entsprechende KI oder Heuristik zugegriffen werden kann."
   ]
  },
  {
   "cell_type": "code",
   "execution_count": null,
   "metadata": {},
   "outputs": [],
   "source": [
    "algorithms = {'human': None, 'probcut': probcut, 'alphabeta': alphabeta, 'minimax': minimax, 'random': random_ai}\n",
    "modes = {'Standard': ai_make_move, 'Iterative Deepening': ai_make_move_id, 'Zeitbegrenzt': ai_make_move_id_timelimited}\n",
    "black_algorithm = RadioButtons(\n",
    "    options=algorithms.keys(),\n",
    "    value='human',\n",
    "    description='Black:'\n",
    ")\n",
    "black_mode = RadioButtons(\n",
    "    options=modes.keys(),\n",
    "    value='Standard'\n",
    ")\n",
    "black_depth = IntSlider(value = 5, min=1, max=10, description='Suchtiefe:')\n",
    "black_settings = HBox([black_algorithm, black_mode, black_depth])\n",
    "white_algorithm = RadioButtons(\n",
    "    options=algorithms.keys(),\n",
    "    value='probcut',\n",
    "    description='White:'\n",
    ")\n",
    "white_mode = RadioButtons(\n",
    "    options=modes.keys(),\n",
    "    value='Standard'\n",
    ")\n",
    "white_depth = IntSlider(value = 5, min=1, max=10, description='Suchtiefe:')\n",
    "white_settings = HBox([white_algorithm, white_mode, white_depth])\n",
    "ipywidgets.VBox([black_settings, white_settings])"
   ]
  },
  {
   "cell_type": "code",
   "execution_count": null,
   "metadata": {},
   "outputs": [],
   "source": [
    "# Settings\n",
    "BLACK_PLAYER_HEURISTIC = combined_heuristic\n",
    "WHITE_PLAYER_HEURISTIC = combined_heuristic\n",
    "\n",
    "PLAYER_AI = {BLACK: algorithms[black_algorithm.value], WHITE: algorithms[white_algorithm.value]}\n",
    "PLAYER_DEPTH = {BLACK: black_depth.value, WHITE: white_depth.value}\n",
    "PLAYER_MODE = {BLACK: modes[black_mode.value], WHITE: modes[white_mode.value]}\n",
    "PLAYER_HEURISTIC = {BLACK: BLACK_PLAYER_HEURISTIC,\n",
    "                    WHITE: WHITE_PLAYER_HEURISTIC}"
   ]
  },
  {
   "cell_type": "markdown",
   "metadata": {},
   "source": [
    "Folgender Code dient zum Starten der interaktiven Applikation. Die Funktion `next_move` wird für jeden Spielzug ausgeführt. Sie wird zu Beginn einmal aufgerufen. Wenn eine KI spielt, wird die Funktion rekursiv für den nächsten Zug aufgerufen. Wenn der Spieler menschlich ist, muss die Ausführung unterbrochen werden, da auf das Aufrufen eines Callbacks durch einen Klick gewartet werden muss. Im Callback wird auch die Funktion `next_move` für den nächsten Zug aufgerufen."
   ]
  },
  {
   "cell_type": "code",
   "execution_count": null,
   "metadata": {},
   "outputs": [],
   "source": [
    "state = GameState()\n",
    "display_board(state)\n",
    "\n",
    "\n",
    "def next_move(state):\n",
    "    # Check if/which AI is playing\n",
    "    ai = PLAYER_AI[state.turn]\n",
    "    if ai is not None:\n",
    "        time.sleep(0.2)\n",
    "        PLAYER_MODE[state.turn](ai, state, PLAYER_DEPTH[state.turn], PLAYER_HEURISTIC[state.turn])\n",
    "        update_output(state)\n",
    "        if not state.game_over:\n",
    "            next_move(state)\n",
    "\n",
    "\n",
    "try:\n",
    "    next_move(state)\n",
    "except KeyboardInterrupt:\n",
    "    pass"
   ]
  }
 ],
 "metadata": {
  "kernelspec": {
   "display_name": "Python 3",
   "language": "python",
   "name": "python3"
  },
  "language_info": {
   "codemirror_mode": {
    "name": "ipython",
    "version": 3
   },
   "file_extension": ".py",
   "mimetype": "text/x-python",
   "name": "python",
   "nbconvert_exporter": "python",
   "pygments_lexer": "ipython3",
   "version": "3.8.2"
  }
 },
 "nbformat": 4,
 "nbformat_minor": 4
}
