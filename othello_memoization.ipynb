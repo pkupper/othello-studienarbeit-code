{
 "cells": [
  {
   "cell_type": "markdown",
   "metadata": {},
   "source": [
    "# Memoization (othello_memoization.ipynb)"
   ]
  },
  {
   "cell_type": "code",
   "execution_count": null,
   "metadata": {},
   "outputs": [],
   "source": [
    "%run othello_game.ipynb\n",
    "%run othello_ai.ipynb"
   ]
  },
  {
   "cell_type": "code",
   "execution_count": null,
   "metadata": {},
   "outputs": [],
   "source": [
    "import time"
   ]
  },
  {
   "cell_type": "code",
   "execution_count": null,
   "metadata": {},
   "outputs": [],
   "source": [
    "cache_hits = 0\n",
    "\n",
    "def memoize(f):\n",
    "    Cache = {}\n",
    "    def f_memoized(*args):\n",
    "        if (f, args) in Cache:\n",
    "            global cache_hits\n",
    "            cache_hits += 1\n",
    "            return Cache[(f, args)]\n",
    "        result = f(*args)\n",
    "        Cache[(f, args)] = result\n",
    "        return result\n",
    "    \n",
    "    return f_memoized"
   ]
  },
  {
   "cell_type": "code",
   "execution_count": null,
   "metadata": {},
   "outputs": [],
   "source": [
    "times = {BLACK: 0, WHITE: 0}\n",
    "\n",
    "def next_move_blind(state, settings):\n",
    "    global times\n",
    "    start = time.time()\n",
    "    make_move = settings[state.turn]['mode']\n",
    "    algorithm = settings[state.turn]['algorithm']\n",
    "    depth = settings[state.turn]['depth']\n",
    "    heuristic = settings[state.turn]['heuristic']\n",
    "    state = make_move(algorithm, state, depth, heuristic)\n",
    "    times[state.turn] += time.time() - start\n",
    "    if not state.game_over:\n",
    "        next_move_blind(state, settings)"
   ]
  },
  {
   "cell_type": "code",
   "execution_count": null,
   "metadata": {},
   "outputs": [],
   "source": [
    "def play_game(settings):\n",
    "    state = GameState()\n",
    "    next_move_blind(state, settings)\n",
    "    return count_disks(state, BLACK), count_disks(state, WHITE)"
   ]
  },
  {
   "cell_type": "code",
   "execution_count": null,
   "metadata": {},
   "outputs": [],
   "source": [
    "settings = { BLACK: { 'heuristic': combined_heuristic,\n",
    "                      'algorithm': alphabeta,\n",
    "                      'depth': 4,\n",
    "                      'mode': ai_make_move_id },\n",
    "             WHITE: { 'heuristic': combined_heuristic,\n",
    "                      'algorithm': memoize(alphabeta),\n",
    "                      'depth': 4,\n",
    "                      'mode': ai_make_move_id }}\n",
    "\n",
    "play_game(settings)\n",
    "times"
   ]
  },
  {
   "cell_type": "markdown",
   "metadata": {},
   "source": [
    "^ keine cache hits"
   ]
  },
  {
   "cell_type": "code",
   "execution_count": null,
   "metadata": {},
   "outputs": [],
   "source": [
    "Cache = {}\n",
    "hits = [0, 0, 0]\n",
    "\n",
    "def value(State, limit, heuristic, alpha=-1, beta=1):\n",
    "    global Cache\n",
    "    global hits\n",
    "    if (State.board.tobytes(), State.turn, limit) in Cache:\n",
    "        val, a, b = Cache[(State.board.tobytes(), State.turn, limit)]\n",
    "        if a <= alpha and beta <= b:\n",
    "            hits[0] += 1\n",
    "            return val\n",
    "        else:\n",
    "            alp = min(alpha, a)\n",
    "            bet = max(beta , b)\n",
    "            if alp != alpha or bet != beta:\n",
    "                hits[1] += 1\n",
    "            else:\n",
    "                hits[2] += 1\n",
    "            val = alphabetac(State, limit, heuristic, alp, bet)\n",
    "            Cache[(State.board.tobytes(), State.turn, limit)] = val, alp, bet\n",
    "            return val\n",
    "    else:\n",
    "        hits[2] += 1\n",
    "        val = alphabetac(State, limit, heuristic, alpha, beta)\n",
    "        Cache[(State.board.tobytes(), State.turn, limit)] = val, alpha, beta\n",
    "        return val"
   ]
  },
  {
   "cell_type": "code",
   "execution_count": null,
   "metadata": {},
   "outputs": [],
   "source": [
    "debug_abc_count = 0\n",
    "\n",
    "\n",
    "def alphabetac(state, depth, heuristic, alpha, beta):\n",
    "    global debug_abc_count\n",
    "    if state.game_over:\n",
    "        return get_winner(state)\n",
    "    if depth == 0:\n",
    "        debug_abc_count += 1\n",
    "        return heuristic(state)\n",
    "\n",
    "    moves = state.possible_moves\n",
    "    child_states = [make_move(state, move) for move in moves]\n",
    "    ordered_moves = []\n",
    "    for child_state in child_states:\n",
    "        cached = transposition_table.get(\n",
    "            (child_state.board.tobytes(), child_state.turn, heuristic),\n",
    "            None\n",
    "        )\n",
    "        if cached != None:\n",
    "            ordered_moves.append((cached, child_state))\n",
    "        else:\n",
    "            ordered_moves.append((heuristic(state), child_state))\n",
    "    ordered_moves.sort(reverse=(state.turn == WHITE))\n",
    "\n",
    "    if state.turn == WHITE:\n",
    "        # maximizing\n",
    "        utility = -math.inf\n",
    "    else:\n",
    "        # minimizing\n",
    "        utility = math.inf\n",
    "\n",
    "    for (_, tmp_state) in ordered_moves:\n",
    "        tmp_utility = value(tmp_state, depth - 1, heuristic, alpha, beta)\n",
    "        transposition_table[(tmp_state.board.tobytes(),\n",
    "                             tmp_state.turn, heuristic)] = tmp_utility\n",
    "\n",
    "        if state.turn == WHITE:\n",
    "            # maximizing\n",
    "            utility = max(utility, tmp_utility)\n",
    "            alpha = max(alpha, utility)\n",
    "        else:\n",
    "            # minimizing\n",
    "            utility = min(utility, tmp_utility)\n",
    "            beta = min(beta, utility)\n",
    "        if alpha >= beta:\n",
    "            break  # alphabeta pruning\n",
    "    return utility"
   ]
  },
  {
   "cell_type": "code",
   "execution_count": null,
   "metadata": {},
   "outputs": [],
   "source": [
    "Cache = {}\n",
    "hits = [0, 0, 0]\n",
    "\n",
    "settings = { BLACK: { 'heuristic': combined_heuristic,\n",
    "                      'algorithm': alphabeta,\n",
    "                      'depth': 4,\n",
    "                      'mode': ai_make_move },\n",
    "             WHITE: { 'heuristic': combined_heuristic,\n",
    "                      'algorithm': alphabetac,\n",
    "                      'depth': 4,\n",
    "                      'mode': ai_make_move }}\n",
    "\n",
    "play_game(settings)\n",
    "times"
   ]
  },
  {
   "cell_type": "code",
   "execution_count": null,
   "metadata": {},
   "outputs": [],
   "source": [
    "hits # answered from cache, called ab with reduced interval, called ab normal"
   ]
  },
  {
   "cell_type": "code",
   "execution_count": null,
   "metadata": {},
   "outputs": [],
   "source": [
    "Cache = {}\n",
    "hits = [0, 0, 0]\n",
    "\n",
    "settings = { BLACK: { 'heuristic': combined_heuristic,\n",
    "                      'algorithm': alphabeta,\n",
    "                      'depth': 4,\n",
    "                      'mode': ai_make_move_id },\n",
    "             WHITE: { 'heuristic': combined_heuristic,\n",
    "                      'algorithm': alphabetac,\n",
    "                      'depth': 4,\n",
    "                      'mode': ai_make_move_id }}\n",
    "\n",
    "play_game(settings)\n",
    "times"
   ]
  },
  {
   "cell_type": "code",
   "execution_count": null,
   "metadata": {},
   "outputs": [],
   "source": [
    "hits"
   ]
  }
 ],
 "metadata": {
  "kernelspec": {
   "display_name": "Python 3",
   "language": "python",
   "name": "python3"
  },
  "language_info": {
   "codemirror_mode": {
    "name": "ipython",
    "version": 3
   },
   "file_extension": ".py",
   "mimetype": "text/x-python",
   "name": "python",
   "nbconvert_exporter": "python",
   "pygments_lexer": "ipython3",
   "version": "3.8.2"
  }
 },
 "nbformat": 4,
 "nbformat_minor": 4
}
