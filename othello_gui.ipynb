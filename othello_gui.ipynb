{
 "cells": [
  {
   "cell_type": "code",
   "execution_count": null,
   "metadata": {},
   "outputs": [],
   "source": [
    "%%HTML\n",
    "<style>\n",
    ".container { width:100% }\n",
    "</style>"
   ]
  },
  {
   "cell_type": "markdown",
   "metadata": {},
   "source": [
    "# Implementation der Grafischen Benutzeroberfläche"
   ]
  },
  {
   "cell_type": "markdown",
   "metadata": {},
   "source": [
    "Im folgenden Abschnitt wird eine Benutzeroberfläche für das Spiel Othello implementiert."
   ]
  },
  {
   "cell_type": "markdown",
   "metadata": {},
   "source": [
    "## Importieren der externen Abhängigkeiten"
   ]
  },
  {
   "cell_type": "markdown",
   "metadata": {},
   "source": [
    "Die Grafische Benutzeroberfläche verwendet zur Darstellung des Spielzustandes, zum Anzeigen weiterer Informationen sowie für die Benutzerinteraktion die Bibliotheken `ipycanvas` und `ipywidgets`. Diese Lassen sich direkt im Jupyter Notebook verwenden.\n",
    "\n",
    "Zusätzlich werden aus dem Paket `math` der Python Standardbibliothek die Variable `pi` sowie die Funktion `floor` benötigt."
   ]
  },
  {
   "cell_type": "code",
   "execution_count": null,
   "metadata": {},
   "outputs": [],
   "source": [
    "import ipycanvas\n",
    "import ipywidgets\n",
    "import math"
   ]
  },
  {
   "cell_type": "markdown",
   "metadata": {},
   "source": [
    "## Globale Konstanten"
   ]
  },
  {
   "cell_type": "markdown",
   "metadata": {},
   "source": [
    "## Canvas Initialisieren"
   ]
  },
  {
   "cell_type": "markdown",
   "metadata": {},
   "source": [
    "`SHOW_FRONTIER` gibt an ob in der Visualisierung leere Felder, die an bereits gesetzte Spielsteine angrenzen hervorgehoben werden sollen.\n",
    "\n",
    "\n",
    "`SHOW_POSSIBLE_MOVES` gibt ob für den aktuell ziehenden Spieler mögliche Züge visualisiert werden sollen."
   ]
  },
  {
   "cell_type": "code",
   "execution_count": null,
   "metadata": {},
   "outputs": [],
   "source": [
    "SHOW_FRONTIER = False\n",
    "SHOW_POSSIBLE_MOVES = True"
   ]
  },
  {
   "cell_type": "code",
   "execution_count": null,
   "metadata": {},
   "outputs": [],
   "source": [
    "CELL_SIZE = 60\n",
    "\n",
    "CANVAS_SIZE = BOARD_SIZE * CELL_SIZE\n",
    "\n",
    "canvas = ipycanvas.MultiCanvas(2, width=CANVAS_SIZE, height=CANVAS_SIZE)\n",
    "canvas[0].fill_style = 'darkgreen'\n",
    "canvas[0].stroke_style = 'black'\n",
    "canvas[0].fill_rect(0, 0, CANVAS_SIZE, CANVAS_SIZE)\n",
    "canvas[0].begin_path()\n",
    "for i in range(BOARD_SIZE+1):\n",
    "    pos = i * CELL_SIZE\n",
    "    canvas[0].move_to(pos, 0)\n",
    "    canvas[0].line_to(pos, CANVAS_SIZE)\n",
    "    canvas[0].move_to(0, pos)\n",
    "    canvas[0].line_to(CANVAS_SIZE, pos)\n",
    "canvas[0].stroke()"
   ]
  },
  {
   "cell_type": "markdown",
   "metadata": {},
   "source": [
    "## Widgets Initialisieren"
   ]
  },
  {
   "cell_type": "markdown",
   "metadata": {},
   "source": [
    "Das `score_lbl` Widget enthält die Steinzahl beider Spieler im aktuellen Spielzustand"
   ]
  },
  {
   "cell_type": "code",
   "execution_count": null,
   "metadata": {},
   "outputs": [],
   "source": [
    "score_lbl = ipywidgets.widgets.Label()"
   ]
  },
  {
   "cell_type": "markdown",
   "metadata": {},
   "source": [
    "Das `turn_lbl` Widget nennt den Spieler, der gerade am Zug ist"
   ]
  },
  {
   "cell_type": "code",
   "execution_count": null,
   "metadata": {},
   "outputs": [],
   "source": [
    "turn_lbl = ipywidgets.widgets.Label()"
   ]
  },
  {
   "cell_type": "markdown",
   "metadata": {},
   "source": [
    "Das `output` Widget macht die Ausgabe mithilfe von `print()`, sowie die Ausgabe von Fehlermeldungen trotz der Verwendung von IPyWidgets und IPyCanvas möglich."
   ]
  },
  {
   "cell_type": "code",
   "execution_count": null,
   "metadata": {},
   "outputs": [],
   "source": [
    "output = ipywidgets.widgets.Output()"
   ]
  },
  {
   "cell_type": "markdown",
   "metadata": {},
   "source": [
    "Die Funktion `display_board` stellt den angegebenen Spielzustand dar, indem zunächst der Canvas aktualisiert, und dann zusammen mit den Status-Widgets angezeigt wird."
   ]
  },
  {
   "cell_type": "code",
   "execution_count": null,
   "metadata": {},
   "outputs": [],
   "source": [
    "def display_board(state):\n",
    "    update_output(state)\n",
    "    display(canvas)\n",
    "    display(score_lbl)\n",
    "    display(turn_lbl)\n",
    "    display(output)"
   ]
  },
  {
   "cell_type": "markdown",
   "metadata": {},
   "source": [
    "In der Funktion `update_output` wird der Spielzustand `state` auf den Canvas gezeichnet."
   ]
  },
  {
   "cell_type": "code",
   "execution_count": null,
   "metadata": {},
   "outputs": [],
   "source": [
    "def update_output(state):\n",
    "    with ipycanvas.hold_canvas(canvas):\n",
    "        canvas[1].clear()\n",
    "        for ((x, y), val) in numpy.ndenumerate(state.board):\n",
    "            if val == NONE:\n",
    "                continue\n",
    "            elif val == BLACK:\n",
    "                canvas[1].fill_style = 'black'\n",
    "            else:\n",
    "                canvas[1].fill_style = 'white'\n",
    "            canvas[1].fill_arc((x + 0.5) * CELL_SIZE, (y + 0.5)\n",
    "                               * CELL_SIZE, CELL_SIZE / 2.2, 0, 2 * math.pi)\n",
    "\n",
    "        if SHOW_FRONTIER:\n",
    "            for (x, y) in state.frontier:\n",
    "                canvas[1].fill_style = 'gray'\n",
    "                canvas[1].fill_arc((x + 0.5) * CELL_SIZE, (y + 0.5)\n",
    "                                   * CELL_SIZE, CELL_SIZE / 6, 0, 2 * math.pi)\n",
    "\n",
    "        if SHOW_POSSIBLE_MOVES:\n",
    "            for (x, y) in get_possible_moves(state, state.turn):\n",
    "                if state.turn == BLACK:\n",
    "                    canvas[1].fill_style = 'black'\n",
    "                else:\n",
    "                    canvas[1].fill_style = 'white'\n",
    "                canvas[1].fill_arc((x + 0.5) * CELL_SIZE, (y + 0.5)\n",
    "                                   * CELL_SIZE, CELL_SIZE / 6, 0, 2 * math.pi)\n",
    "\n",
    "    score_lbl.value = f'Black Player : {count_disks(state, BLACK)} White Player : {count_disks(state, WHITE)}'\n",
    "    if state.game_over:\n",
    "        turn_lbl.value = f'{get_player_string(get_winner(state))} wins'\n",
    "    else:\n",
    "        turn_lbl.value = f'{get_player_string(state.turn)}s Move'"
   ]
  },
  {
   "cell_type": "markdown",
   "metadata": {},
   "source": [
    "Für den menschlichen Spieler ist es nötig festzustellen, ob dieser auf das Spielfeld geklickt hat, dies geschieht in der callback funktion `mouse_down` welche die x und y Koordinaten des Mausklicks relativ zum Canvas erhält. Auf Basis dieser Position wird, falls möglich, ein Zug auf das angeklickte Feld gemacht. Die Funktion wird durch den aufruf von `Canvas.on_mouse_down` bei IPyCanvas als Callback Funktion registriert."
   ]
  },
  {
   "cell_type": "code",
   "execution_count": null,
   "metadata": {},
   "outputs": [],
   "source": [
    "def mouse_down(x_px, y_px):\n",
    "    if not state.game_over:\n",
    "        with output:\n",
    "            x = math.floor(x_px / CELL_SIZE)\n",
    "            y = math.floor(y_px / CELL_SIZE)\n",
    "            try:\n",
    "                make_move(state, (x, y))\n",
    "            except InvalidMoveException:\n",
    "                print('Invalid Move')\n",
    "            update_output(state)\n",
    "            try:\n",
    "                next_move(state)\n",
    "            except KeyboardInterrupt:\n",
    "                pass\n",
    "\n",
    "\n",
    "canvas[1].on_mouse_down(mouse_down)"
   ]
  }
 ],
 "metadata": {
  "kernelspec": {
   "display_name": "Python 3",
   "language": "python",
   "name": "python3"
  },
  "language_info": {
   "codemirror_mode": {
    "name": "ipython",
    "version": 3
   },
   "file_extension": ".py",
   "mimetype": "text/x-python",
   "name": "python",
   "nbconvert_exporter": "python",
   "pygments_lexer": "ipython3",
   "version": "3.8.2"
  }
 },
 "nbformat": 4,
 "nbformat_minor": 4
}
