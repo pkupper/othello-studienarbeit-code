{
 "cells": [
  {
   "cell_type": "markdown",
   "metadata": {},
   "source": [
    "# GUI Implementierung (othello_gui.ipynb)\n",
    "\\label{sec:gui}\n",
    "\\ifx false"
   ]
  },
  {
   "cell_type": "code",
   "execution_count": null,
   "metadata": {},
   "outputs": [],
   "source": [
    "%%HTML\n",
    "<style>\n",
    ".container { width:100% }\n",
    "</style>"
   ]
  },
  {
   "cell_type": "markdown",
   "metadata": {},
   "source": [
    "\\fi Im folgenden Abschnitt wird eine \\ac{GUI} für das Spiel Othello implementiert. Diese ermöglicht das Anzeigen Spielfelds und das Setzen von Steinen durch einen menschlichen Spieler per Mausklick. Außerdem wird ein Einstellungsmenü implementiert, über welches das Spiel und die \\ac{KI}-Agenten konfiguriert werden können."
   ]
  },
  {
   "cell_type": "markdown",
   "metadata": {},
   "source": [
    "## Importieren der externen Abhängigkeiten"
   ]
  },
  {
   "cell_type": "markdown",
   "metadata": {},
   "source": [
    "Die \\ac{GUI} verwendet zur Darstellung des Spielzustandes, zum Anzeigen erweiterter Informationen sowie für die Benutzerinteraktion die Bibliotheken `ipycanvas` und `ipywidgets`. Diese können direkt im Jupyter Notebook verwendet werden.\n",
    "\n",
    "Zusätzlich werden aus dem Paket `math` der Python Standardbibliothek die Variable `pi` sowie die Funktion `floor` benötigt."
   ]
  },
  {
   "cell_type": "code",
   "execution_count": null,
   "metadata": {},
   "outputs": [],
   "source": [
    "import ipycanvas\n",
    "import ipywidgets\n",
    "import math\n",
    "from ipywidgets import RadioButtons, HBox, VBox, IntSlider, Label"
   ]
  },
  {
   "cell_type": "markdown",
   "metadata": {},
   "source": [
    "## Konfiguration der GUI"
   ]
  },
  {
   "cell_type": "markdown",
   "metadata": {},
   "source": [
    "Die \\ac{GUI} unterstützt optional die Anzeige aller möglichen Züge in der aktuellen Spielsituation, sowie die Darstellung der Menge `frontier`, welche im \\autoref{sec:gamelogic} beschrieben wird. Ob diese Features verwendet werden wird im Folgenden mit den Konstanten `SHOW_FRONTIER` und `SHOW_POSSIBLE_MOVES` konfiguriert."
   ]
  },
  {
   "cell_type": "code",
   "execution_count": null,
   "metadata": {},
   "outputs": [],
   "source": [
    "SHOW_FRONTIER = False\n",
    "SHOW_POSSIBLE_MOVES = True"
   ]
  },
  {
   "cell_type": "markdown",
   "metadata": {},
   "source": [
    "## Canvas Initialisierung"
   ]
  },
  {
   "cell_type": "markdown",
   "metadata": {},
   "source": [
    "Zunächst wird ein Canvas Objekt der Bibliothek `ipycanvas` initialisiert, auf dem später das Spielfeld dargestellt wird. Die Konstante `CELL_SIZE` beschreibt hierbei die Größe eines einzelen Feldes in Pixeln auf dem Spielbrett, wohingegen `CANVAS_SIZE` die Größe des gesamten Spielbretts angibt."
   ]
  },
  {
   "cell_type": "code",
   "execution_count": null,
   "metadata": {},
   "outputs": [],
   "source": [
    "CELL_SIZE = 60\n",
    "\n",
    "CANVAS_SIZE = BOARD_SIZE * CELL_SIZE\n",
    "\n",
    "canvas = ipycanvas.MultiCanvas(2, width=CANVAS_SIZE, height=CANVAS_SIZE)\n",
    "canvas[0].fill_style = 'darkgreen'\n",
    "canvas[0].stroke_style = 'black'\n",
    "canvas[0].fill_rect(0, 0, CANVAS_SIZE, CANVAS_SIZE)\n",
    "canvas[0].begin_path()\n",
    "for i in range(BOARD_SIZE+1):\n",
    "    pos = i * CELL_SIZE\n",
    "    canvas[0].move_to(pos, 0)\n",
    "    canvas[0].line_to(pos, CANVAS_SIZE)\n",
    "    canvas[0].move_to(0, pos)\n",
    "    canvas[0].line_to(CANVAS_SIZE, pos)\n",
    "canvas[0].stroke()"
   ]
  },
  {
   "cell_type": "markdown",
   "metadata": {},
   "source": [
    "## Widget Initialisierung"
   ]
  },
  {
   "cell_type": "markdown",
   "metadata": {},
   "source": [
    "Unter dem Spielfeld werden mit der Bibliothek `ipywidgets` zusätzliche Informationen zum aktuellen Spielzustand angezeigt. Diese werden mithilfe sogenannter Widgets dargestellt, welche im Folgenden erzeugt werden."
   ]
  },
  {
   "cell_type": "markdown",
   "metadata": {},
   "source": [
    "Das `score_lbl` Widget enthält die Steinzahl beider Spieler im aktuellen Spielzustand."
   ]
  },
  {
   "cell_type": "code",
   "execution_count": null,
   "metadata": {},
   "outputs": [],
   "source": [
    "score_lbl = ipywidgets.widgets.Label()"
   ]
  },
  {
   "cell_type": "markdown",
   "metadata": {},
   "source": [
    "Das `turn_lbl` Widget nennt den Spieler, der gerade am Zug ist."
   ]
  },
  {
   "cell_type": "code",
   "execution_count": null,
   "metadata": {},
   "outputs": [],
   "source": [
    "turn_lbl = ipywidgets.widgets.Label()"
   ]
  },
  {
   "cell_type": "markdown",
   "metadata": {},
   "source": [
    "Das `output` Widget macht die Ausgabe mithilfe von `print()` sowie die Ausgabe von Fehlermeldungen trotz der Verwendung von IPyWidgets und IPyCanvas möglich."
   ]
  },
  {
   "cell_type": "code",
   "execution_count": null,
   "metadata": {},
   "outputs": [],
   "source": [
    "output = ipywidgets.widgets.Output()"
   ]
  },
  {
   "cell_type": "markdown",
   "metadata": {},
   "source": [
    "Das Widget `utility_lbl` dient der Anzeige der von den \\ac{KI} Spielern geschätzten Nützlichkeit des Spielzustands."
   ]
  },
  {
   "cell_type": "code",
   "execution_count": null,
   "metadata": {},
   "outputs": [],
   "source": [
    "utility_lbl = ipywidgets.widgets.Label()"
   ]
  },
  {
   "cell_type": "markdown",
   "metadata": {},
   "source": [
    "In der Funktion `update_output` wird der Spielzustand `state` auf den existierenden Canvas gezeichnet."
   ]
  },
  {
   "cell_type": "code",
   "execution_count": null,
   "metadata": {},
   "outputs": [],
   "source": [
    "def update_output(state):\n",
    "    with ipycanvas.hold_canvas(canvas):\n",
    "        canvas[1].clear()\n",
    "        for ((x, y), val) in np.ndenumerate(state.board):\n",
    "            if val == NONE:\n",
    "                continue\n",
    "            elif val == BLACK:\n",
    "                canvas[1].fill_style = 'black'\n",
    "            else:\n",
    "                canvas[1].fill_style = 'white'\n",
    "            canvas[1].fill_arc((x+0.5) * CELL_SIZE, (y+0.5)\n",
    "                               * CELL_SIZE, CELL_SIZE/2.2, 0, 2*math.pi)\n",
    "\n",
    "        if state.last_move != None:\n",
    "            (x, y) = state.last_move\n",
    "            canvas[1].stroke_style = 'red'\n",
    "            canvas[1].line_width = 2\n",
    "            canvas[1].stroke_arc((x+0.5) * CELL_SIZE, (y+0.5)\n",
    "                               * CELL_SIZE, CELL_SIZE/2.2, 0, 2*math.pi)\n",
    "\n",
    "        if SHOW_FRONTIER:\n",
    "            for (x, y) in state.frontier:\n",
    "                canvas[1].fill_style = 'gray'\n",
    "                canvas[1].fill_arc((x+0.5) * CELL_SIZE, (y+0.5)\n",
    "                                   * CELL_SIZE, CELL_SIZE/6, 0, 2*math.pi)\n",
    "\n",
    "        if SHOW_POSSIBLE_MOVES:\n",
    "            for (x, y) in get_possible_moves(state, state.turn):\n",
    "                if state.turn == BLACK:\n",
    "                    canvas[1].fill_style = 'black'\n",
    "                else:\n",
    "                    canvas[1].fill_style = 'white'\n",
    "                canvas[1].fill_arc((x+0.5) * CELL_SIZE, (y+0.5)\n",
    "                                   * CELL_SIZE, CELL_SIZE/6, 0, 2*math.pi)\n",
    "\n",
    "    b_score = count_disks(state, BLACK)\n",
    "    w_score = count_disks(state, WHITE)\n",
    "    score_lbl.value = f'Black Player : {b_score} White Player : {w_score}'\n",
    "    b_util = utilities[BLACK]\n",
    "    w_util = utilities[WHITE]\n",
    "    utility_lbl.value = f'Utility: Black: {b_util} / White: {w_util}'\n",
    "    if state.game_over:\n",
    "        turn_lbl.value = f'{get_player_string(get_utility(state))} wins'\n",
    "    else:\n",
    "        turn_lbl.value = f'{get_player_string(state.turn)}s Move'"
   ]
  },
  {
   "cell_type": "markdown",
   "metadata": {},
   "source": [
    "Die Funktion `display_board` stellt den durch `state` angegebenen Spielzustand dar, indem zunächst der Canvas per `update_output` aktualisiert, und dann zusammen mit den Status-Widgets angezeigt wird."
   ]
  },
  {
   "cell_type": "code",
   "execution_count": null,
   "metadata": {},
   "outputs": [],
   "source": [
    "def display_board(state):\n",
    "    output.clear_output()\n",
    "    update_output(state)\n",
    "    display(canvas)\n",
    "    display(score_lbl)\n",
    "    display(turn_lbl)\n",
    "    display(utility_lbl)\n",
    "    display(output)"
   ]
  },
  {
   "cell_type": "markdown",
   "metadata": {},
   "source": [
    "Für menschliche Spieler muss festgestellt werden, ob auf das Spielfeld geklickt wurde. Dies geschieht in der Callback Funktion `mouse_down`, welche die x und y Koordinate des Mausklicks relativ zum Canvas erhält. Auf Basis dieser Position wird, falls möglich, ein Zug auf das angeklickte Feld gemacht. Die Funktion wird durch den Aufruf von `on_mouse_down` auf dem IPyCanvas als Callback Funktion registriert."
   ]
  },
  {
   "cell_type": "code",
   "execution_count": null,
   "metadata": {},
   "outputs": [],
   "source": [
    "def mouse_down(x_px, y_px):\n",
    "    global state\n",
    "    with output:\n",
    "        if not state.game_over:\n",
    "            x = math.floor(x_px / CELL_SIZE)\n",
    "            y = math.floor(y_px / CELL_SIZE)\n",
    "            try:\n",
    "                state = make_move(state, (x, y))\n",
    "            except InvalidMoveException:\n",
    "                print('Invalid Move')\n",
    "            update_output(state)\n",
    "            try:\n",
    "                next_move(state)\n",
    "            except KeyboardInterrupt:\n",
    "                pass\n",
    "\n",
    "canvas[1].on_mouse_down(mouse_down)"
   ]
  },
  {
   "cell_type": "markdown",
   "metadata": {},
   "source": [
    "## Spieleinstellungen"
   ]
  },
  {
   "cell_type": "markdown",
   "metadata": {},
   "source": [
    "Hier wird durch Nutzung von `ipywidgets` eine \\ac{GUI} erzeugt, über die für beide Spieler Einstellungen vorgenommen werden können. So kann zum Beispiel festelegt werden, ob ein Spieler vom Nutzer, oder von einem \\ac{KI}-Agenten kontrolliert werden soll und Parameter der \\ac{KI} angepasst werden."
   ]
  },
  {
   "cell_type": "code",
   "execution_count": null,
   "metadata": {},
   "outputs": [],
   "source": [
    "algorithms = { 'Menschlicher Spieler': None,\n",
    "               'ProbCut': probcut,\n",
    "               'Alpha-Beta': alphabeta,\n",
    "               'Minimax': minimax,\n",
    "               'Zufällig': random_ai }\n",
    "modes = { 'Feste Tiefe': ai_make_move,\n",
    "          'Iterative Vertiefung': ai_make_move_id,\n",
    "          'Zeitbegrenzte Vertiefung': ai_make_move_id_timelimited }\n",
    "heuristics = { 'Cowthello': cowthello_heuristic,\n",
    "               'Mobilität': mobility_heuristic,\n",
    "               'Kombiniert': combined_heuristic }\n",
    "black_algorithm = RadioButtons(\n",
    "    options=algorithms.keys(),\n",
    "    value='Menschlicher Spieler',\n",
    "    description='Schwarz:'\n",
    ")\n",
    "black_heuristic = RadioButtons(\n",
    "    options=heuristics.keys(),\n",
    "    value='Kombiniert'\n",
    ")\n",
    "black_mode = RadioButtons(\n",
    "    options=modes.keys(),\n",
    "    value='Zeitbegrenzte Vertiefung'\n",
    ")\n",
    "black_depth = IntSlider(value=5, min=1, max=10,\n",
    "                        description='Suchtiefe:')\n",
    "black_timelimit = IntSlider(value=30, min=1, max=120,\n",
    "                            description='Zeitlimit:')\n",
    "black_ints = VBox([black_depth, black_timelimit])\n",
    "black_config = HBox([black_algorithm, black_mode,\n",
    "                     black_heuristic, black_ints])\n",
    "\n",
    "white_algorithm = RadioButtons(\n",
    "    options=algorithms.keys(),\n",
    "    value='ProbCut',\n",
    "    description='Weiß:'\n",
    ")\n",
    "white_heuristic = RadioButtons(\n",
    "    options=heuristics.keys(),\n",
    "    value='Kombiniert'\n",
    ")\n",
    "white_mode = RadioButtons(\n",
    "    options=modes.keys(),\n",
    "    value='Zeitbegrenzte Vertiefung'\n",
    ")\n",
    "white_depth = IntSlider(value=5, min=1, max=10,\n",
    "                        description='Suchtiefe:')\n",
    "white_timelimit = IntSlider(value=30, min=1, max=120,\n",
    "                            description='Zeitlimit:')\n",
    "white_ints = VBox([white_depth, white_timelimit])\n",
    "white_config = HBox([white_algorithm, white_mode,\n",
    "                     white_heuristic, white_ints])\n",
    "settings = ipywidgets.VBox([black_config, white_config])"
   ]
  },
  {
   "cell_type": "markdown",
   "metadata": {},
   "source": [
    "Die Funktion `configure_settings` dient der Anzeige des Konfigurationsmenüs."
   ]
  },
  {
   "cell_type": "code",
   "execution_count": null,
   "metadata": {},
   "outputs": [],
   "source": [
    "def configure_settings():\n",
    "    display(settings)"
   ]
  },
  {
   "cell_type": "markdown",
   "metadata": {},
   "source": [
    "Die Funktion `get_settings` liefert die über das Konfigurationsmenü getätigte Konfiguration als Dictionary zurück. Dies wird später im Frontend verwendet."
   ]
  },
  {
   "cell_type": "code",
   "execution_count": null,
   "metadata": {},
   "outputs": [],
   "source": [
    "def get_settings():\n",
    "    return { BLACK: { 'heuristic': heuristics[black_heuristic.value],\n",
    "                      'algorithm': algorithms[black_algorithm.value],\n",
    "                      'depth': black_depth.value,\n",
    "                      'timelimit': black_timelimit.value,\n",
    "                      'mode': modes[black_mode.value] },\n",
    "             WHITE: { 'heuristic': heuristics[white_heuristic.value],\n",
    "                      'algorithm': algorithms[white_algorithm.value],\n",
    "                      'depth': white_depth.value,\n",
    "                      'timelimit': white_timelimit.value,\n",
    "                      'mode': modes[white_mode.value] }}"
   ]
  }
 ],
 "metadata": {
  "kernelspec": {
   "display_name": "Python 3",
   "language": "python",
   "name": "python3"
  },
  "language_info": {
   "codemirror_mode": {
    "name": "ipython",
    "version": 3
   },
   "file_extension": ".py",
   "mimetype": "text/x-python",
   "name": "python",
   "nbconvert_exporter": "python",
   "pygments_lexer": "ipython3",
   "version": "3.8.2"
  }
 },
 "nbformat": 4,
 "nbformat_minor": 4
}
