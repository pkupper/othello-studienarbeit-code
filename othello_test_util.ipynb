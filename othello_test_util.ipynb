{
 "cells": [
  {
   "cell_type": "code",
   "execution_count": null,
   "metadata": {},
   "outputs": [],
   "source": [
    "%%HTML\n",
    "<style>\n",
    ".container { width:100% }\n",
    "</style>"
   ]
  },
  {
   "cell_type": "code",
   "execution_count": null,
   "metadata": {},
   "outputs": [],
   "source": [
    "%run othello_game.ipynb\n",
    "%run othello_ai.ipynb"
   ]
  },
  {
   "cell_type": "code",
   "execution_count": null,
   "metadata": {},
   "outputs": [],
   "source": [
    "import time\n",
    "import ipywidgets"
   ]
  },
  {
   "cell_type": "markdown",
   "metadata": {},
   "source": [
    "# Hilfsfunktionen"
   ]
  },
  {
   "cell_type": "markdown",
   "metadata": {},
   "source": [
    "Der folgende Code beinhaltet Hilfsfunktionen zum Testen und sammeln von Statistiken."
   ]
  },
  {
   "cell_type": "markdown",
   "metadata": {},
   "source": [
    "Die Funktion `debug_num_visited_states` berechnet für einen Spielzustand den nächsten Zug mit verschiedenen Algorithmen und misst dabei die benötigte Zeit. Zusätzlich werden mit den globalen Variablen `debug_mm_count` und  `debug_ab_count` die Anzahl der überprüften Zustände gezählt. Diese Zahlen geben einen Überblick darüber, wie viele Zweige durch den Algorithmus ausgeschlossen werden konnten und nicht überprüft werden mussten."
   ]
  },
  {
   "cell_type": "code",
   "execution_count": null,
   "metadata": {},
   "outputs": [],
   "source": [
    "def debug_num_visited_states(state, depth):\n",
    "    global transposition_table\n",
    "    global debug_mm_count\n",
    "    global debug_ab_count\n",
    "    global debug_pc_count\n",
    "\n",
    "    # calculate next move with each algorithm and measure time\n",
    "    debug_mm_count= 0\n",
    "    start = time.time()\n",
    "    ai_make_move(minimax, state, depth, combined_heuristic)\n",
    "    secs = time.time() - start\n",
    "    print(\"Minimax takes\", secs, \"s and evaluates the heuristic\",\n",
    "          debug_mm_count, \"times\")\n",
    "    debug_ab_count= 0\n",
    "    transposition_table = {}\n",
    "    start = time.time()\n",
    "    ai_make_move(alphabeta, state, depth, combined_heuristic)\n",
    "    secs = time.time() - start\n",
    "    print(\"AlphaBeta takes\", secs, \"s and evaluates the heuristic\",\n",
    "          debug_ab_count, \"times\")\n",
    "    debug_ab_count = 0\n",
    "    transposition_table = {}\n",
    "    start = time.time()\n",
    "    ai_make_move_id(alphabeta, state, depth, combined_heuristic)\n",
    "    secs = time.time() - start\n",
    "    print(\"AlphaBeta + ID takes\", secs,\n",
    "          \"s and evaluates the heuristic\", debug_ab_count, \"times\")\n",
    "    debug_pc_count = 0\n",
    "    transposition_table = {}\n",
    "    start = time.time()\n",
    "    ai_make_move(probcut, state, depth, combined_heuristic)\n",
    "    secs = time.time() - start\n",
    "    print(\"ProbCut takes\", secs, \"s and evaluates the heuristic\",\n",
    "          debug_pc_count, \"times\")\n",
    "    \n",
    "    debug_pc_count = 0\n",
    "    transposition_table = {}\n",
    "    start = time.time()\n",
    "    ai_make_move_id(probcut, state, depth, combined_heuristic)\n",
    "    secs = time.time() - start\n",
    "    print(\"ProbCut + ID takes\", secs, \"s and evaluates the heuristic\",\n",
    "          debug_pc_count, \"times\")"
   ]
  },
  {
   "cell_type": "markdown",
   "metadata": {},
   "source": [
    "Die Funktion `get_statistics` ist dazu da, mehrere Spiele zu berechnen, in denen zwei KIs gegeneinander spielen und Statistiken darüber zu sammeln. `num` ist die Anzahl der Spiele, die durchgeführt werden sollen. Die weiteren Parameter legen fest, welche KIs und welche Heuristiken für die Spieler verwendet werden sollen. Statistiken werden nach jedem Spiel aktualisiert.\n",
    "\n",
    "Da das Spielfeld nicht gezeichnet werden soll, wird statt `next_move` die Funktion `next_move_blind` verwendet."
   ]
  },
  {
   "cell_type": "code",
   "execution_count": null,
   "metadata": {},
   "outputs": [],
   "source": [
    "def next_move_blind(state, settings):\n",
    "    make_move = settings[state.turn]['mode']\n",
    "    algorithm = settings[state.turn]['algorithm']\n",
    "    depth = settings[state.turn]['depth']\n",
    "    heuristic = settings[state.turn]['heuristic']\n",
    "    state = make_move(algorithm, state, depth, heuristic)\n",
    "    if not state.game_over:\n",
    "        next_move_blind(state, settings)"
   ]
  },
  {
   "cell_type": "code",
   "execution_count": null,
   "metadata": {},
   "outputs": [],
   "source": [
    "def play_game(settings):\n",
    "    state = GameState()\n",
    "    next_move_blind(state, settings)\n",
    "    return count_disks(state, BLACK), count_disks(state, WHITE)"
   ]
  },
  {
   "cell_type": "code",
   "execution_count": null,
   "metadata": {},
   "outputs": [],
   "source": [
    "def get_statistics(num, settings):\n",
    "    status = ipywidgets.widgets.Label()\n",
    "    display(status)\n",
    "    result = []\n",
    "    wins = [0, 0, 0]\n",
    "    status.value = f'0 / {num} games played, b/d/w: {wins[0]}/{wins[1]}/{wins[2]}'\n",
    "    try:\n",
    "        for i in range(num):\n",
    "            (b, w) = play_game(settings)\n",
    "            result.append((b, w))\n",
    "            if b > w:\n",
    "                wins[0] += 1\n",
    "            elif w == b:\n",
    "                wins[1] += 1\n",
    "            else:\n",
    "                wins[2] += 1\n",
    "            status.value = f'{i+1} / {num} games played, b/d/w: {wins[0]}/{wins[1]}/{wins[2]}'\n",
    "    except KeyboardInterrupt:\n",
    "        status.value = f'Interrupted: {i} / {num} games played, b/d/w: {wins[0]}/{wins[1]}/{wins[2]}'\n",
    "    print(result)\n",
    "    return wins"
   ]
  }
 ],
 "metadata": {
  "kernelspec": {
   "display_name": "Python 3",
   "language": "python",
   "name": "python3"
  },
  "language_info": {
   "codemirror_mode": {
    "name": "ipython",
    "version": 3
   },
   "file_extension": ".py",
   "mimetype": "text/x-python",
   "name": "python",
   "nbconvert_exporter": "python",
   "pygments_lexer": "ipython3",
   "version": "3.8.2"
  }
 },
 "nbformat": 4,
 "nbformat_minor": 4
}
