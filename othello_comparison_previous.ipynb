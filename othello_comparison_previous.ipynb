{
 "cells": [
  {
   "cell_type": "code",
   "execution_count": null,
   "metadata": {},
   "outputs": [],
   "source": [
    "from previous_ai.othello import Othello\n",
    "from previous_ai.Agents.alphaBetaPruning import AlphaBetaPruning\n",
    "from previous_ai.Agents.monteCarlo import MonteCarlo\n",
    "from previous_ai.Agents.random import Random\n",
    "import time"
   ]
  },
  {
   "cell_type": "code",
   "execution_count": null,
   "metadata": {},
   "outputs": [],
   "source": [
    "%run othello_ai.ipynb\n",
    "%run othello_gui.ipynb"
   ]
  },
  {
   "cell_type": "markdown",
   "metadata": {},
   "source": [
    "# Spiele gegen die KI der Vorgängerarbeit\n",
    "Dieses Notebook lässt die KI gegen die der Vorgängerarbeit spielen."
   ]
  },
  {
   "cell_type": "code",
   "execution_count": null,
   "metadata": {},
   "outputs": [],
   "source": [
    "game = Othello()\n",
    "game.init_game()\n",
    "opponent = MonteCarlo()"
   ]
  },
  {
   "cell_type": "code",
   "execution_count": null,
   "metadata": {},
   "outputs": [],
   "source": [
    "settings = { BLACK: { 'heuristic': None,\n",
    "                      'algorithm': None,\n",
    "                      'depth': 5,\n",
    "                      'mode': ai_make_move },\n",
    "             WHITE: { 'heuristic': combined_heuristic,\n",
    "                      'algorithm': probcut,\n",
    "                      'depth': 5,\n",
    "                      'mode': ai_make_move }}"
   ]
  },
  {
   "cell_type": "code",
   "execution_count": null,
   "metadata": {},
   "outputs": [],
   "source": [
    "state = GameState()\n",
    "display_board(state)\n",
    "results = []\n",
    "\n",
    "\n",
    "def next_move(old_state):\n",
    "    global state\n",
    "    # Check if/which AI is playing\n",
    "    ai = settings[state.turn]['algorithm']\n",
    "    #time.sleep(0.2)\n",
    "    if ai is not None:\n",
    "        ai_make_move = settings[old_state.turn]['mode']\n",
    "        depth = settings[state.turn]['depth']\n",
    "        heuristic = settings[old_state.turn]['heuristic']\n",
    "        state = ai_make_move(ai, old_state, depth, heuristic)\n",
    "        game.play_position(state.last_move)\n",
    "        update_output(state)\n",
    "        if not state.game_over:\n",
    "            next_move(state)\n",
    "        else:\n",
    "            results.append(get_utility(state))\n",
    "    else:\n",
    "        move = opponent.get_move(game)\n",
    "        game.play_position(move)\n",
    "        state = make_move(state, move)\n",
    "        update_output(state)\n",
    "        if not state.game_over:\n",
    "            next_move(state)\n",
    "        else:\n",
    "            results.append(get_utility(state))\n",
    "\n",
    "for i in range(20):\n",
    "    game = Othello()\n",
    "    game.init_game()\n",
    "    state = GameState()\n",
    "    next_move(state)\n",
    "    print(results)"
   ]
  }
 ],
 "metadata": {
  "kernelspec": {
   "display_name": "Python 3",
   "language": "python",
   "name": "python3"
  },
  "language_info": {
   "codemirror_mode": {
    "name": "ipython",
    "version": 3
   },
   "file_extension": ".py",
   "mimetype": "text/x-python",
   "name": "python",
   "nbconvert_exporter": "python",
   "pygments_lexer": "ipython3",
   "version": "3.8.2"
  }
 },
 "nbformat": 4,
 "nbformat_minor": 4
}
