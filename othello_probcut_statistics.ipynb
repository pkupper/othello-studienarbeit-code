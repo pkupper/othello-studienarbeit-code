{
 "cells": [
  {
   "cell_type": "code",
   "execution_count": null,
   "metadata": {},
   "outputs": [],
   "source": [
    "%%HTML\n",
    "<style>\n",
    ".container { width:100% }\n",
    "</style>"
   ]
  },
  {
   "cell_type": "code",
   "execution_count": null,
   "metadata": {},
   "outputs": [],
   "source": [
    "%run othello_game.ipynb\n",
    "%run othello_ai.ipynb"
   ]
  },
  {
   "cell_type": "markdown",
   "metadata": {},
   "source": [
    "#### Ermitteln der Standardabweichung\n",
    "Im Folgenden werden zunächst einige Datenpunkte gesammelt, indem in verschiedenen Spielzuständen jeweils eine tiefe, und eine flache Suche durchgeführt wird. Die Spielzustände werden durch zufälliges Ziehen erreicht."
   ]
  },
  {
   "cell_type": "code",
   "execution_count": null,
   "metadata": {},
   "outputs": [],
   "source": [
    "import csv\n",
    "import os\n",
    "\n",
    "\n",
    "def sample_probcut_values(num_games, shallow_depth, deep_depth):\n",
    "    filename = f'probcut_dataset_{PROBCUT_SHALLOW_DEPTH}_{PROBCUT_DEEP_DEPTH}.csv'\n",
    "    file_exists = os.path.isfile(filename)\n",
    "    if file_exists:\n",
    "        print('using existing dataset')\n",
    "    else:\n",
    "        with open(filename, 'w', newline='') as file:\n",
    "            writer = csv.writer(file, delimiter=',')\n",
    "            writer.writerow(('moves', 'shallow', 'deep'))\n",
    "            for i in range(num_games):\n",
    "                state = GameState()\n",
    "                while not state.game_over:\n",
    "                    ai_make_move(random_ai, state, 0, None)\n",
    "                    shallow_value = alphabeta(\n",
    "                        state, PROBCUT_SHALLOW_DEPTH, combined_heuristic, -math.inf, math.inf)\n",
    "                    deep_value = alphabeta(\n",
    "                        state, PROBCUT_DEEP_DEPTH, combined_heuristic, -math.inf, math.inf)\n",
    "                    print(f'shallow: {shallow_value}, deep: {deep_value}')\n",
    "                    writer.writerow(\n",
    "                        (state.num_pieces, shallow_value, deep_value))\n",
    "            file.close()"
   ]
  },
  {
   "cell_type": "code",
   "execution_count": null,
   "metadata": {},
   "outputs": [],
   "source": [
    "sample_probcut_values(20, PROBCUT_SHALLOW_DEPTH, PROBCUT_DEEP_DEPTH)"
   ]
  },
  {
   "cell_type": "markdown",
   "metadata": {},
   "source": [
    "Daten Laden"
   ]
  },
  {
   "cell_type": "code",
   "execution_count": null,
   "metadata": {},
   "outputs": [],
   "source": [
    "import pandas\n",
    "filename = 'probcut_dataset_2_4.csv'\n",
    "df = pandas.read_csv(filename)\n",
    "shallow = df['shallow']\n",
    "deep = df['deep']"
   ]
  },
  {
   "cell_type": "markdown",
   "metadata": {},
   "source": [
    "Berechnung der Standardabweichung nach Anzahl der Steine auf dem Spielfeld"
   ]
  },
  {
   "cell_type": "code",
   "execution_count": null,
   "metadata": {},
   "outputs": [],
   "source": [
    "import numpy as np\n",
    "import sklearn.metrics as skl\n",
    "import sklearn.linear_model as lm\n",
    "import matplotlib.pyplot as plt\n",
    "import seaborn as sns\n",
    "import math\n",
    "\n",
    "shallow_np = np.array(shallow)\n",
    "deep_np = np.array(deep)\n",
    "moves = np.array(df['moves'])\n",
    "\n",
    "x = []\n",
    "y = []\n",
    "\n",
    "for i in range(5, 45):\n",
    "    shallow_c = shallow[moves == i]\n",
    "    deep_c = deep[moves == i]\n",
    "    variance = np.var(np.stack([shallow_c, deep_c], axis=1))\n",
    "    explained_variance = skl.explained_variance_score(shallow_c, deep_c)\n",
    "    x.append(i)\n",
    "    y.append(math.sqrt(variance))\n",
    "\n",
    "model = lm.LinearRegression()\n",
    "model.fit(np.array(x).reshape(-1, 1), np.array(y))\n",
    "\n",
    "plt.figure(figsize=(15, 10))\n",
    "sns.set(style='whitegrid')\n",
    "plt.scatter(x, y)\n",
    "plt.axvline(x=0.0, c='k')\n",
    "plt.axhline(y=0.0, c='k')\n",
    "plt.plot(x, x * model.coef_ + model.intercept_)\n",
    "plt.xlabel('number of disks on the board')\n",
    "plt.ylabel('standard deviation')\n",
    "plt.title('Standard Deviation')\n",
    "plt.show()"
   ]
  },
  {
   "cell_type": "code",
   "execution_count": null,
   "metadata": {},
   "outputs": [],
   "source": [
    "print('x *', model.coef_[0], '+', model.intercept_)"
   ]
  },
  {
   "cell_type": "markdown",
   "metadata": {},
   "source": [
    "#### Daten Visualisieren"
   ]
  },
  {
   "cell_type": "code",
   "execution_count": null,
   "metadata": {},
   "outputs": [],
   "source": [
    "import matplotlib.pyplot as plt\n",
    "import sklearn.linear_model as lm\n",
    "import seaborn as sns\n",
    "model = lm.LinearRegression()\n",
    "model.fit(shallow.values.reshape(len(shallow), 1), deep)\n",
    "plt.figure(figsize=(15, 10))\n",
    "sns.set(style='whitegrid')\n",
    "plt.scatter(shallow, deep)\n",
    "plt.axvline(x=0.0, c='k')\n",
    "plt.axhline(y=0.0, c='k')\n",
    "plt.plot(shallow, shallow * model.coef_ + model.intercept_)\n",
    "plt.xlabel('shallow search')\n",
    "plt.ylabel('deep search')\n",
    "plt.title('Probcut Values')\n",
    "plt.show()"
   ]
  },
  {
   "cell_type": "markdown",
   "metadata": {},
   "source": [
    "Varianz, erklärte Varianz und Standardabweichung berechnen"
   ]
  },
  {
   "cell_type": "code",
   "execution_count": null,
   "metadata": {},
   "outputs": [],
   "source": [
    "import numpy as np\n",
    "import sklearn.metrics as skl\n",
    "variance = np.var(np.stack([shallow, deep], axis=1))\n",
    "print(f'variance: {variance}')\n",
    "explained_variance = skl.explained_variance_score(shallow, deep)\n",
    "print(f'standard distribution: {np.sqrt(variance)}')\n",
    "print(f'explained variance: {explained_variance}')"
   ]
  }
 ],
 "metadata": {
  "kernelspec": {
   "display_name": "Python 3",
   "language": "python",
   "name": "python3"
  },
  "language_info": {
   "codemirror_mode": {
    "name": "ipython",
    "version": 3
   },
   "file_extension": ".py",
   "mimetype": "text/x-python",
   "name": "python",
   "nbconvert_exporter": "python",
   "pygments_lexer": "ipython3",
   "version": "3.8.2"
  }
 },
 "nbformat": 4,
 "nbformat_minor": 4
}
