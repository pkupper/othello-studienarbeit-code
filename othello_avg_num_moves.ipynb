{
 "cells": [
  {
   "cell_type": "code",
   "execution_count": null,
   "metadata": {},
   "outputs": [],
   "source": [
    "%%HTML\n",
    "<style>\n",
    ".container { width:100% }\n",
    "</style>"
   ]
  },
  {
   "cell_type": "markdown",
   "metadata": {},
   "source": [
    "# Mobilitätsstatistik (othello_avg_num_moves.ipynb)"
   ]
  },
  {
   "cell_type": "code",
   "execution_count": null,
   "metadata": {},
   "outputs": [],
   "source": [
    "%run othello_game.ipynb\n",
    "%run othello_ai.ipynb"
   ]
  },
  {
   "cell_type": "code",
   "execution_count": null,
   "metadata": {},
   "outputs": [],
   "source": [
    "import ipywidgets\n",
    "\n",
    "\n",
    "num_poss_moves = []\n",
    "\n",
    "\n",
    "def play_game(settings):\n",
    "    state = GameState()\n",
    "    next_move_blind(state, settings)\n",
    "    return count_disks(state, BLACK), count_disks(state, WHITE)\n",
    "\n",
    "\n",
    "def next_move_blind(state, settings):\n",
    "    global num_poss_moves\n",
    "    num_poss_moves.append((\n",
    "        state.num_pieces, len(state.possible_moves),\n",
    "         len(get_possible_moves(state, -state.turn))\n",
    "    ))\n",
    "    make_move = settings[state.turn]['mode']\n",
    "    algorithm = settings[state.turn]['algorithm']\n",
    "    depth = settings[state.turn]['depth']\n",
    "    heuristic = settings[state.turn]['heuristic']\n",
    "    state = make_move(algorithm, state, depth, heuristic)\n",
    "    if not state.game_over:\n",
    "        next_move_blind(state, settings)"
   ]
  },
  {
   "cell_type": "code",
   "execution_count": null,
   "metadata": {},
   "outputs": [],
   "source": [
    "settings = { BLACK: { 'heuristic': combined_heuristic,\n",
    "                      'algorithm': random_ai,\n",
    "                      'depth': 1,\n",
    "                      'mode': ai_make_move },\n",
    "             WHITE: { 'heuristic': combined_heuristic,\n",
    "                      'algorithm': random_ai,\n",
    "                      'depth': 1,\n",
    "                      'mode': ai_make_move }}\n",
    "\n",
    "for i in range(50):\n",
    "    play_game(settings)"
   ]
  },
  {
   "cell_type": "code",
   "execution_count": null,
   "metadata": {},
   "outputs": [],
   "source": [
    "import numpy as np\n",
    "import matplotlib.pyplot as plt\n",
    "import seaborn as sns\n",
    "import math\n",
    "import sklearn.linear_model as lm\n",
    "from sklearn.preprocessing import PolynomialFeatures\n",
    "from sklearn.linear_model import LinearRegression\n",
    "\n",
    "x = []\n",
    "y = []\n",
    "\n",
    "for (pieces, a, b) in num_poss_moves:\n",
    "    x.append(pieces)\n",
    "    y.append(a)\n",
    "    x.append(pieces)\n",
    "    y.append(b)\n",
    "\n",
    "X = np.reshape(x, (len(x), 1))\n",
    "y = np.reshape(y, (len(y), 1))\n",
    "\n",
    "poly_reg = PolynomialFeatures(degree=2)\n",
    "X_poly = poly_reg.fit_transform(X)\n",
    "print(poly_reg.get_feature_names(['x1', 'x2']))\n",
    "pol_reg = LinearRegression()\n",
    "pol_reg.fit(X_poly, y)\n",
    "\n",
    "def print_graph():\n",
    "    plt.figure(figsize=(15, 10))\n",
    "    plt.scatter(X, y, color='red')\n",
    "    plt.scatter(X, pol_reg.predict(poly_reg.fit_transform(X)), color='blue')\n",
    "    plt.title('Possible moves in different game phases')\n",
    "    plt.xlabel('Number of pieces')\n",
    "    plt.ylabel('Number of possible moves')\n",
    "    plt.show()\n",
    "\n",
    "print_graph()\n",
    "print(pol_reg.coef_[0][2],\"*x**2 +\",\n",
    "      pol_reg.coef_[0][1],\"* x +\",\n",
    "      pol_reg.coef_[0][0],\"+\",\n",
    "      pol_reg.intercept_[0])"
   ]
  }
 ],
 "metadata": {
  "kernelspec": {
   "display_name": "Python 3",
   "language": "python",
   "name": "python3"
  },
  "language_info": {
   "codemirror_mode": {
    "name": "ipython",
    "version": 3
   },
   "file_extension": ".py",
   "mimetype": "text/x-python",
   "name": "python",
   "nbconvert_exporter": "python",
   "pygments_lexer": "ipython3",
   "version": "3.8.2"
  }
 },
 "nbformat": 4,
 "nbformat_minor": 4
}
