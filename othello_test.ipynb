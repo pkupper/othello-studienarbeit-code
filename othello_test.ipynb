{
 "cells": [
  {
   "cell_type": "code",
   "execution_count": null,
   "metadata": {},
   "outputs": [],
   "source": [
    "%%HTML\n",
    "<style>\n",
    ".container { width:100% }\n",
    "</style>"
   ]
  },
  {
   "cell_type": "code",
   "execution_count": null,
   "metadata": {},
   "outputs": [],
   "source": [
    "%run othello_game.ipynb\n",
    "%run othello_ai.ipynb"
   ]
  },
  {
   "cell_type": "markdown",
   "metadata": {},
   "source": [
    "### Testing code"
   ]
  },
  {
   "cell_type": "markdown",
   "metadata": {},
   "source": [
    "Der folgende Code dient zum Test, sowie zum Debuggen der oben implementierten Funktionen."
   ]
  },
  {
   "cell_type": "code",
   "execution_count": null,
   "metadata": {},
   "outputs": [],
   "source": [
    "test_board = GameState()"
   ]
  },
  {
   "cell_type": "code",
   "execution_count": null,
   "metadata": {},
   "outputs": [],
   "source": [
    "alphabeta_ai_make_move(test_board, combined_heuristic)\n",
    "test_board.board"
   ]
  },
  {
   "cell_type": "markdown",
   "metadata": {},
   "source": [
    "Mit Hilfe des Pakets `cProfile` lassen sich Statistiken darüber sammeln, wie viel Zeit in welchen Funktionen benötigt wird."
   ]
  },
  {
   "cell_type": "code",
   "execution_count": null,
   "metadata": {},
   "outputs": [],
   "source": [
    "import cProfile\n",
    "\n",
    "cProfile.run('alphabeta_ai_make_move(test_board, combined_heuristic)')\n",
    "test_board.board"
   ]
  },
  {
   "cell_type": "markdown",
   "metadata": {},
   "source": [
    "Die Funktion `debug_num_visited_states` berechnet für einen Spielzustand den nächsten Zug mit verschiedenen Algorithmen und misst dabei die benötigte Zeit. Zusätzlich werden mit den globalen Variablen `debug_mm_count` und  `debug_ab_count` die Anzahl der überprüften Zustände gezählt. Diese Zahlen geben einen Überblick darüber, wie viele Zweige durch den Algorithmus ausgeschlossen werden konnten und nicht überprüft werden mussten."
   ]
  },
  {
   "cell_type": "code",
   "execution_count": null,
   "metadata": {},
   "outputs": [],
   "source": [
    "import time\n",
    "\n",
    "\n",
    "def debug_num_visited_states(state, depth):\n",
    "    global transposition_table\n",
    "    global debug_mm_count\n",
    "    global debug_ab_count\n",
    "    global debug_pc_count\n",
    "    global MINIMAX_DEPTH_LIMIT\n",
    "    global ALPHABETA_DEPTH_LIMIT\n",
    "    global PROBCUT_DEPTH_LIMIT\n",
    "\n",
    "    # save old variables\n",
    "    old_mm_depth = MINIMAX_DEPTH_LIMIT\n",
    "    old_ab_depth = ALPHABETA_DEPTH_LIMIT\n",
    "    old_pb_depth = PROBCUT_DEPTH_LIMIT\n",
    "\n",
    "    # set depth limit for all algorithms\n",
    "    MINIMAX_DEPTH_LIMIT = depth\n",
    "    ALPHABETA_DEPTH_LIMIT = depth\n",
    "    PROBCUT_DEPTH_LIMIT = depth\n",
    "\n",
    "    # calculate next move with each algorithm and measure time\n",
    "    \"\"\"debug_mm_count= 0\n",
    "    start = time.time()\n",
    "    minimax_ai_make_move(copy.deepcopy(state), combined_heuristic)\n",
    "    secs = time.time() - start\n",
    "    print(\"Minimax takes\", secs, \"seconds and checks\", debug_mm_count, \"substates\")\n",
    "    debug_ab_count= 0\n",
    "    transposition_table = {}\n",
    "    start = time.time()\n",
    "    alphabeta_ai_make_move(copy.deepcopy(state), combined_heuristic)\n",
    "    secs = time.time() - start\n",
    "    print(\"AlphaBeta takes\", secs, \"seconds and checks\", debug_ab_count, \"substates\")\"\"\"\n",
    "    debug_ab_count = 0\n",
    "    transposition_table = {}\n",
    "    start = time.time()\n",
    "    alphabeta_id_make_move(copy.deepcopy(state), combined_heuristic)\n",
    "    secs = time.time() - start\n",
    "    print(\"AlphaBeta with iterative deepening takes\", secs,\n",
    "          \"seconds and checks\", debug_ab_count, \"substates\")\n",
    "    debug_pc_count = 0\n",
    "    transposition_table = {}\n",
    "    start = time.time()\n",
    "    probcut_ai_make_move(copy.deepcopy(state), combined_heuristic)\n",
    "    secs = time.time() - start\n",
    "    print(\"ProbCut takes\", secs, \"seconds and checks\",\n",
    "          debug_pc_count, \"substates\")\n",
    "\n",
    "    # restore old variables\n",
    "    MINIMAX_DEPTH_LIMIT = old_mm_depth\n",
    "    ALPHABETA_DEPTH_LIMIT = old_ab_depth\n",
    "    PROBCUT_DEPTH_LIMIT = old_pb_depth"
   ]
  },
  {
   "cell_type": "code",
   "execution_count": null,
   "metadata": {},
   "outputs": [],
   "source": [
    "debug_num_visited_states(test_board, 5)"
   ]
  },
  {
   "cell_type": "markdown",
   "metadata": {},
   "source": [
    "Die Funktion `get_statistics` ist dazu da, mehrere Spiele zu berechnen, in denen zwei KIs gegeneinander spielen und Statistiken darüber zu sammeln. `num` ist die Anzahl der Spiele, die durchgeführt werden sollen. Die weiteren Parameter legen fest, welche KIs und welche Heuristiken für die Spieler verwendet werden sollen. Statistiken werden nach jedem Spiel aktualisiert.\n",
    "\n",
    "Da das Spielfeld nicht gezeichnet werden soll, werden statt `next_move` die Funktion `next_move_blind` verwendet."
   ]
  },
  {
   "cell_type": "code",
   "execution_count": null,
   "metadata": {},
   "outputs": [],
   "source": [
    "import ipywidgets\n",
    "\n",
    "\n",
    "def get_statistics(num, black_ai, black_h, white_ai, white_h):\n",
    "    status = ipywidgets.widgets.Label()\n",
    "    display(status)\n",
    "    result = []\n",
    "    wins = [0, 0, 0]\n",
    "    status.value = f'0 / {num} games played, b/d/w: {wins[0]}/{wins[1]}/{wins[2]}'\n",
    "    try:\n",
    "        for i in range(num):\n",
    "            (b, w) = play_game(black_ai, black_h, white_ai, white_h)\n",
    "            result.append((b, w))\n",
    "            if b > w:\n",
    "                wins[0] += 1\n",
    "            elif w == b:\n",
    "                wins[1] += 1\n",
    "            else:\n",
    "                wins[2] += 1\n",
    "            status.value = f'{i+1} / {num} games played, b/d/w: {wins[0]}/{wins[1]}/{wins[2]}'\n",
    "    except KeyboardInterrupt:\n",
    "        status.value = f'Interrupted: {i} / {num} games played, b/d/w: {wins[0]}/{wins[1]}/{wins[2]}'\n",
    "    print_statistics(result)\n",
    "\n",
    "\n",
    "def play_game(black_ai, black_h, white_ai, white_h):\n",
    "    state = GameState()\n",
    "    next_move_blind(state, black_ai, white_ai, {\n",
    "                    BLACK: black_h, WHITE: white_h})\n",
    "    return count_disks(state, BLACK), count_disks(state, WHITE)\n",
    "\n",
    "\n",
    "def next_move_blind(state, black_ai, white_ai, heuristics):\n",
    "    # Check if/which AI is playing\n",
    "    strat = black_ai if state.turn == BLACK else white_ai\n",
    "    strat(state, heuristics[state.turn])\n",
    "    if not state.game_over:\n",
    "        next_move_blind(state, black_ai, white_ai, heuristics)\n",
    "\n",
    "\n",
    "def print_statistics(results):\n",
    "    print(results)"
   ]
  },
  {
   "cell_type": "code",
   "execution_count": null,
   "metadata": {},
   "outputs": [],
   "source": [
    "get_statistics(5, random_ai_make_move, cowthello_heuristic,\n",
    "               random_ai_make_move, cowthello_heuristic)"
   ]
  }
 ],
 "metadata": {
  "kernelspec": {
   "display_name": "Python 3",
   "language": "python",
   "name": "python3"
  },
  "language_info": {
   "codemirror_mode": {
    "name": "ipython",
    "version": 3
   },
   "file_extension": ".py",
   "mimetype": "text/x-python",
   "name": "python",
   "nbconvert_exporter": "python",
   "pygments_lexer": "ipython3",
   "version": "3.8.2"
  }
 },
 "nbformat": 4,
 "nbformat_minor": 4
}
