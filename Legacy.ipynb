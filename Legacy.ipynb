{
 "cells": [
  {
   "cell_type": "markdown",
   "metadata": {},
   "source": [
    "# Legacy code"
   ]
  },
  {
   "cell_type": "code",
   "execution_count": null,
   "metadata": {},
   "outputs": [],
   "source": [
    "def alphabeta_max(state, alpha, beta, depth):\n",
    "    global alphabeta_best_move\n",
    "    if(state.game_over):\n",
    "        return terminal_utility(state)\n",
    "    if(depth >= ALPHABETA_DEPTH_LIMIT):\n",
    "        return heuristic_utility(state)\n",
    "    max_utility = -math.inf\n",
    "    for move in state.get_possible_moves():\n",
    "        tmp_state = copy.deepcopy(state)\n",
    "        tmp_state.move(move[0], move[1])\n",
    "        tmp_utility = alphabeta_min(tmp_state, alpha, beta, depth + 1)\n",
    "        if(tmp_utility > max_utility):\n",
    "            max_utility = tmp_utility\n",
    "            if(depth == 0):\n",
    "                alphabeta_best_move = move\n",
    "        if(max_utility >= beta):\n",
    "            return max_utility\n",
    "        alpha = max(alpha, max_utility)\n",
    "    return max_utility\n",
    "\n",
    "def alphabeta_min(state, alpha, beta, depth):\n",
    "    global alphabeta_best_move\n",
    "    if(state.game_over):\n",
    "        return -terminal_utility(state)\n",
    "    if(depth >= ALPHABETA_DEPTH_LIMIT):\n",
    "        return -heuristic_utility(state)\n",
    "    min_utility = math.inf\n",
    "    for move in state.get_possible_moves():\n",
    "        tmp_state = copy.deepcopy(state)\n",
    "        tmp_state.move(move[0], move[1])\n",
    "        tmp_utility = alphabeta_max(tmp_state, alpha, beta, depth + 1)\n",
    "        if(tmp_utility < min_utility):\n",
    "            min_utility = tmp_utility\n",
    "            if(depth == 0):\n",
    "                alphabeta_best_move = move\n",
    "        if(min_utility <= alpha):\n",
    "            return min_utility\n",
    "        beta = min(beta, min_utility)\n",
    "    return min_utility"
   ]
  },
  {
   "cell_type": "code",
   "execution_count": null,
   "metadata": {},
   "outputs": [],
   "source": [
    "ALPHABETA_DEPTH_LIMIT = 4\n",
    "\n",
    "#TODO: What if one player has to play twice in a row?\n",
    "def alphabeta_negamax(state, depth, alpha, beta):\n",
    "    global alphabeta_best_move\n",
    "    if(state.game_over):\n",
    "        return terminal_utility(state) * state.turn\n",
    "    if(depth == 0):\n",
    "        if(state.turn == WHITE):\n",
    "            return WHITE_PLAYER_HEURISTIC(state)\n",
    "        else:\n",
    "            return BLACK_PLAYER_STRAT_HEURISTIC(state) * state.turn\n",
    "    utility = -math.inf\n",
    "    for move in get_possible_moves(state, state.turn):\n",
    "        tmp_state = make_move(state, move[0], move[1])\n",
    "        tmp_utility = -alphabeta_negamax(tmp_state, depth - 1, -beta, -alpha)\n",
    "        if(tmp_utility > utility):\n",
    "            utility = tmp_utility\n",
    "            if(depth == ALPHABETA_DEPTH_LIMIT):\n",
    "                alphabeta_best_move = move\n",
    "        if(utility >= beta):\n",
    "            return utility\n",
    "        alpha = max(alpha, utility)\n",
    "    return utility\n",
    "\n",
    "def alphabeta_ai_make_move(state):\n",
    "    alphabeta_negamax(state, ALPHABETA_DEPTH_LIMIT, -math.inf, math.inf)\n",
    "    state = make_move(state, alphabeta_best_move[0], alphabeta_best_move[1])"
   ]
  }
 ],
 "metadata": {
  "kernelspec": {
   "display_name": "Python 3",
   "language": "python",
   "name": "python3"
  },
  "language_info": {
   "codemirror_mode": {
    "name": "ipython",
    "version": 3
   },
   "file_extension": ".py",
   "mimetype": "text/x-python",
   "name": "python",
   "nbconvert_exporter": "python",
   "pygments_lexer": "ipython3",
   "version": "3.8.2"
  }
 },
 "nbformat": 4,
 "nbformat_minor": 4
}
