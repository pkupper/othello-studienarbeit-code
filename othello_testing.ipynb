{
 "cells": [
  {
   "cell_type": "code",
   "execution_count": null,
   "metadata": {},
   "outputs": [],
   "source": [
    "%%HTML\n",
    "<style>\n",
    ".container { width:100% }\n",
    "</style>"
   ]
  },
  {
   "cell_type": "markdown",
   "metadata": {},
   "source": [
    "# Tests (othello_testing.ipynb)\n",
    "Der folgende Code dient zum Test, sowie zum Debuggen des Codes aus anderen Notebooks."
   ]
  },
  {
   "cell_type": "code",
   "execution_count": null,
   "metadata": {},
   "outputs": [],
   "source": [
    "%run othello_test_util.ipynb"
   ]
  },
  {
   "cell_type": "code",
   "execution_count": null,
   "metadata": {},
   "outputs": [],
   "source": [
    "test_board = GameState()"
   ]
  },
  {
   "cell_type": "code",
   "execution_count": null,
   "metadata": {},
   "outputs": [],
   "source": [
    "test_board = ai_make_move(alphabeta, test_board, 3, combined_heuristic)\n",
    "test_board.board"
   ]
  },
  {
   "cell_type": "markdown",
   "metadata": {},
   "source": [
    "Mit Hilfe des Pakets `cProfile` lassen sich Statistiken darüber sammeln, wie viel Zeit in welchen Funktionen benötigt wird."
   ]
  },
  {
   "cell_type": "code",
   "execution_count": null,
   "metadata": {},
   "outputs": [],
   "source": [
    "import cProfile\n",
    "\n",
    "cProfile.run('ai_make_move(alphabeta, test_board, 3, combined_heuristic)')\n",
    "test_board.board"
   ]
  },
  {
   "cell_type": "code",
   "execution_count": null,
   "metadata": {},
   "outputs": [],
   "source": [
    "debug_num_visited_states(test_board, 5)"
   ]
  },
  {
   "cell_type": "code",
   "execution_count": null,
   "metadata": {},
   "outputs": [],
   "source": [
    "settings = { BLACK: { 'heuristic': combined_heuristic,\n",
    "                      'algorithm': alphabeta,\n",
    "                      'depth': 4,\n",
    "                      'mode': ai_make_move },\n",
    "             WHITE: { 'heuristic': combined_heuristic,\n",
    "                      'algorithm': alphabeta,\n",
    "                      'depth': 5,\n",
    "                      'mode': ai_make_move }}\n",
    "\n",
    "get_statistics(20, settings)"
   ]
  },
  {
   "cell_type": "code",
   "execution_count": null,
   "metadata": {},
   "outputs": [],
   "source": [
    "import numpy as np\n",
    "\n",
    "board = np.array([\n",
    "    [NONE , WHITE , NONE , WHITE , NONE , NONE , NONE , BLACK],\n",
    "    [NONE , NONE , WHITE , WHITE , NONE , NONE , NONE , NONE],\n",
    "    [NONE , WHITE , NONE , WHITE , NONE , NONE , NONE , NONE],\n",
    "    [WHITE , NONE , NONE , WHITE, NONE, NONE , NONE , NONE],\n",
    "    [NONE , NONE , NONE , WHITE, BLACK, NONE , NONE , NONE],\n",
    "    [NONE , NONE , NONE , WHITE , NONE , NONE , NONE , NONE],\n",
    "    [NONE , NONE , NONE , WHITE , NONE , NONE , NONE , NONE],\n",
    "    [BLACK , NONE , NONE , WHITE , NONE , NONE , NONE , NONE]\n",
    "])\n",
    "state = make_state(board, BLACK)"
   ]
  },
  {
   "cell_type": "code",
   "execution_count": null,
   "metadata": {},
   "outputs": [],
   "source": [
    "np.sum(board,axis=0)"
   ]
  },
  {
   "cell_type": "markdown",
   "metadata": {},
   "source": [
    "Heuristik aus Othellomaster, die Zeilen, Spalten und Diagonalen berücksichtigt"
   ]
  },
  {
   "cell_type": "code",
   "execution_count": null,
   "metadata": {},
   "outputs": [],
   "source": [
    "line_weights = np.array([5,3,2,2,2,2,3,5])\n",
    "diag_weights = np.array([1,2,3,4,5,4,3,2,1])\n",
    "\n",
    "def line_heuristic(state):\n",
    "    board = state.board\n",
    "    # lines\n",
    "    lines = 0\n",
    "    # complete lines\n",
    "    rows = np.trunc(np.sum(board, axis=1) / 8)\n",
    "    cols = np.trunc(np.sum(board, axis=0) / 8)\n",
    "    lines += np.sum(cols * line_weights) * 12\n",
    "    lines += np.sum(rows * line_weights) * 12\n",
    "    # incomplete lines (only one edge piece missing)\n",
    "    incomplete_boards = [\n",
    "        board[1:,:],\n",
    "        board[:7,:],\n",
    "        board[:,1:],\n",
    "        board[:,:7]\n",
    "    ]\n",
    "    for b in incomplete_boards:\n",
    "        rows = np.trunc(np.sum(board, axis=1) / 7)\n",
    "        cols = np.trunc(np.sum(board, axis=0) / 7)\n",
    "        lines += np.sum(cols * line_weights) * 5\n",
    "        lines += np.sum(rows * line_weights) * 5\n",
    "    lines *= 5 # Gewichtung für horizontale und vertikale Reihen\n",
    "    # diagonals\n",
    "    diagonals = 0\n",
    "    # complete diagonals\n",
    "    boards = [\n",
    "        board,\n",
    "        np.flip(board, axis=1)\n",
    "    ]\n",
    "    for b in boards:\n",
    "        comp_diags = []\n",
    "        part_diags = []\n",
    "        for i in range(-4,5):\n",
    "            diag = np.diag(b, k=i)\n",
    "            s = np.sum(diag)\n",
    "            # comlete diagonals\n",
    "            comp_diags.append(np.trunc(s / (8 - abs(i))))\n",
    "            # partial diagonals\n",
    "            if abs(s) == 7 and diag[0] != diag[-1]:\n",
    "                part_diags.append(diag[1])\n",
    "            else:\n",
    "                part_diags.append(0)\n",
    "        diagonals += np.sum(comp_diags * diag_weights) * 10 * 1.8\n",
    "        diagonals += np.sum(part_diags * diag_weights) * 4\n",
    "    diagonals *= 4 # Gewichtung für Diagonalen\n",
    "    \n",
    "    return (lines + diagonals) / 11280"
   ]
  },
  {
   "cell_type": "code",
   "execution_count": null,
   "metadata": {},
   "outputs": [],
   "source": [
    "board2 = np.array([\n",
    "    [WHITE, WHITE, WHITE , WHITE , WHITE , WHITE, WHITE, WHITE],\n",
    "    [WHITE, WHITE, WHITE , WHITE , WHITE , WHITE, WHITE, WHITE],\n",
    "    [WHITE, WHITE, WHITE , WHITE , WHITE , WHITE, WHITE, WHITE],\n",
    "    [WHITE, WHITE, WHITE , WHITE , WHITE , WHITE, WHITE, WHITE],\n",
    "    [WHITE, WHITE, WHITE , WHITE , WHITE , WHITE, WHITE, WHITE],\n",
    "    [WHITE, WHITE, WHITE , WHITE , WHITE , WHITE, WHITE, WHITE],\n",
    "    [WHITE, WHITE, WHITE , WHITE , WHITE , WHITE, WHITE, WHITE],\n",
    "    [WHITE, WHITE, WHITE , WHITE , WHITE , WHITE, WHITE, WHITE]\n",
    "])\n",
    "state = make_state(board2, BLACK)"
   ]
  },
  {
   "cell_type": "code",
   "execution_count": null,
   "metadata": {},
   "outputs": [],
   "source": [
    "line_heuristic(state)"
   ]
  }
 ],
 "metadata": {
  "kernelspec": {
   "display_name": "Python 3",
   "language": "python",
   "name": "python3"
  },
  "language_info": {
   "codemirror_mode": {
    "name": "ipython",
    "version": 3
   },
   "file_extension": ".py",
   "mimetype": "text/x-python",
   "name": "python",
   "nbconvert_exporter": "python",
   "pygments_lexer": "ipython3",
   "version": "3.8.2"
  }
 },
 "nbformat": 4,
 "nbformat_minor": 4
}
