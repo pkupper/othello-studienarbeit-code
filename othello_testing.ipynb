{
 "cells": [
  {
   "cell_type": "code",
   "execution_count": null,
   "metadata": {},
   "outputs": [],
   "source": [
    "%%HTML\n",
    "<style>\n",
    ".container { width:100% }\n",
    "</style>"
   ]
  },
  {
   "cell_type": "code",
   "execution_count": null,
   "metadata": {},
   "outputs": [],
   "source": [
    "%run othello_test_util.ipynb"
   ]
  },
  {
   "cell_type": "markdown",
   "metadata": {},
   "source": [
    "# Testing\n",
    "Der folgende Code dient zum Test, sowie zum Debuggen des Codes aus anderen Notebooks."
   ]
  },
  {
   "cell_type": "code",
   "execution_count": null,
   "metadata": {},
   "outputs": [],
   "source": [
    "test_board = GameState()"
   ]
  },
  {
   "cell_type": "code",
   "execution_count": null,
   "metadata": {},
   "outputs": [],
   "source": [
    "ai_make_move(alphabeta, test_board, 3, combined_heuristic)\n",
    "test_board.board"
   ]
  },
  {
   "cell_type": "markdown",
   "metadata": {},
   "source": [
    "Mit Hilfe des Pakets `cProfile` lassen sich Statistiken darüber sammeln, wie viel Zeit in welchen Funktionen benötigt wird."
   ]
  },
  {
   "cell_type": "code",
   "execution_count": null,
   "metadata": {},
   "outputs": [],
   "source": [
    "import cProfile\n",
    "\n",
    "cProfile.run('ai_make_move(alphabeta, test_board, 3, combined_heuristic)')\n",
    "test_board.board"
   ]
  },
  {
   "cell_type": "code",
   "execution_count": null,
   "metadata": {},
   "outputs": [],
   "source": [
    "debug_num_visited_states(test_board, 5)"
   ]
  },
  {
   "cell_type": "code",
   "execution_count": null,
   "metadata": {},
   "outputs": [],
   "source": [
    "settings = { BLACK: { 'heuristic': combined_heuristic,\n",
    "                      'algorithm': alphabeta,\n",
    "                      'depth': 4,\n",
    "                      'mode': ai_make_move },\n",
    "             WHITE: { 'heuristic': combined_heuristic,\n",
    "                      'algorithm': alphabeta,\n",
    "                      'depth': 5,\n",
    "                      'mode': ai_make_move }}\n",
    "\n",
    "get_statistics(20, settings)"
   ]
  },
  {
   "cell_type": "code",
   "execution_count": null,
   "metadata": {},
   "outputs": [],
   "source": [
    "import numpy as np\n",
    "\n",
    "board = np.array([\n",
    "    [NONE , NONE , NONE , NONE , NONE , NONE , NONE , NONE],\n",
    "    [NONE , NONE , NONE , NONE , NONE , NONE , NONE , NONE],\n",
    "    [NONE , NONE , WHITE, NONE , NONE , NONE , NONE , NONE],\n",
    "    [NONE , NONE , NONE , WHITE, WHITE, NONE , NONE , NONE],\n",
    "    [NONE , NONE , NONE , WHITE, BLACK, NONE , NONE , NONE],\n",
    "    [NONE , NONE , NONE , NONE , NONE , NONE , NONE , NONE],\n",
    "    [NONE , NONE , NONE , NONE , NONE , NONE , NONE , NONE],\n",
    "    [NONE , NONE , NONE , NONE , NONE , NONE , NONE , NONE]\n",
    "])\n",
    "state = make_state(board, BLACK)"
   ]
  }
 ],
 "metadata": {
  "kernelspec": {
   "display_name": "Python 3",
   "language": "python",
   "name": "python3"
  },
  "language_info": {
   "codemirror_mode": {
    "name": "ipython",
    "version": 3
   },
   "file_extension": ".py",
   "mimetype": "text/x-python",
   "name": "python",
   "nbconvert_exporter": "python",
   "pygments_lexer": "ipython3",
   "version": "3.8.2"
  }
 },
 "nbformat": 4,
 "nbformat_minor": 4
}
