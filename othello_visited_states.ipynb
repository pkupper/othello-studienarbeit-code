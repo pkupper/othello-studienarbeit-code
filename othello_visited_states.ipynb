{
 "cells": [
  {
   "cell_type": "code",
   "execution_count": 2,
   "metadata": {},
   "outputs": [
    {
     "data": {
      "text/html": [
       "<style>\n",
       ".container { width:100% }\n",
       "</style>\n"
      ],
      "text/plain": [
       "<IPython.core.display.HTML object>"
      ]
     },
     "metadata": {},
     "output_type": "display_data"
    },
    {
     "data": {
      "text/html": [
       "<style>\n",
       ".container { width:100% }\n",
       "</style>\n"
      ],
      "text/plain": [
       "<IPython.core.display.HTML object>"
      ]
     },
     "metadata": {},
     "output_type": "display_data"
    },
    {
     "data": {
      "text/html": [
       "<style>\n",
       ".container { width:100% }\n",
       "</style>\n"
      ],
      "text/plain": [
       "<IPython.core.display.HTML object>"
      ]
     },
     "metadata": {},
     "output_type": "display_data"
    }
   ],
   "source": [
    "%run othello_test_util.ipynb"
   ]
  },
  {
   "cell_type": "code",
   "execution_count": 3,
   "metadata": {},
   "outputs": [],
   "source": [
    "test_board = GameState()"
   ]
  },
  {
   "cell_type": "code",
   "execution_count": 4,
   "metadata": {},
   "outputs": [],
   "source": [
    "for i in range(4):\n",
    "    ai_make_move(alphabeta, test_board, 1, combined_heuristic)"
   ]
  },
  {
   "cell_type": "code",
   "execution_count": 4,
   "metadata": {},
   "outputs": [
    {
     "name": "stdout",
     "output_type": "stream",
     "text": [
      "3 :\n",
      "Minimax takes 0.5012743473052979 seconds and checks 461 substates\n",
      "AlphaBeta takes 0.6021952629089355 seconds and checks 253 substates\n",
      "AlphaBeta with iterative deepening takes 0.6451637744903564 seconds and checks 252 substates\n",
      "ProbCut takes 0.6003119945526123 seconds and checks 253 substates\n",
      "4 :\n",
      "Minimax takes 3.955801010131836 seconds and checks 3487 substates\n",
      "AlphaBeta takes 2.817452907562256 seconds and checks 1139 substates\n",
      "AlphaBeta with iterative deepening takes 2.610521078109741 seconds and checks 999 substates\n",
      "ProbCut takes 2.79355788230896 seconds and checks 1064 substates\n",
      "5 :\n",
      "Minimax takes 33.61000609397888 seconds and checks 28806 substates\n",
      "AlphaBeta takes 15.414790153503418 seconds and checks 4807 substates\n",
      "AlphaBeta with iterative deepening takes 13.399491786956787 seconds and checks 3922 substates\n",
      "ProbCut takes 15.939296245574951 seconds and checks 4866 substates\n",
      "6 :\n",
      "Minimax takes 298.7650306224823 seconds and checks 243815 substates\n",
      "AlphaBeta takes 71.30017137527466 seconds and checks 22355 substates\n",
      "AlphaBeta with iterative deepening takes 52.13719964027405 seconds and checks 15610 substates\n",
      "ProbCut takes 61.272648096084595 seconds and checks 17549 substates\n",
      "7 :\n",
      "Minimax takes 2735.336491584778 seconds and checks 2193633 substates\n",
      "AlphaBeta takes 334.964640378952 seconds and checks 85913 substates\n",
      "AlphaBeta with iterative deepening takes 285.9639196395874 seconds and checks 72300 substates\n",
      "ProbCut takes 303.34826040267944 seconds and checks 71277 substates\n"
     ]
    }
   ],
   "source": [
    "for i in range(3, 9):\n",
    "    print(i, ':')\n",
    "    debug_num_visited_states(test_board, i)"
   ]
  }
 ],
 "metadata": {
  "kernelspec": {
   "display_name": "Python 3",
   "language": "python",
   "name": "python3"
  },
  "language_info": {
   "codemirror_mode": {
    "name": "ipython",
    "version": 3
   },
   "file_extension": ".py",
   "mimetype": "text/x-python",
   "name": "python",
   "nbconvert_exporter": "python",
   "pygments_lexer": "ipython3",
   "version": "3.8.2"
  }
 },
 "nbformat": 4,
 "nbformat_minor": 4
}
