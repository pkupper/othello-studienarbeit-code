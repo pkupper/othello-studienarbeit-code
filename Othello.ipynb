{
 "cells": [
  {
   "cell_type": "markdown",
   "metadata": {},
   "source": [
    "# Othello Probcut"
   ]
  },
  {
   "cell_type": "markdown",
   "metadata": {},
   "source": [
    "### Initiale Konfiguration\n",
    "\n",
    "Importieren von Abhängigkeiten und Konfiguration"
   ]
  },
  {
   "cell_type": "code",
   "execution_count": 1,
   "metadata": {},
   "outputs": [],
   "source": [
    "import othello_gui\n",
    "import math\n",
    "import copy\n",
    "\n",
    "from tkinter import TclError\n",
    "from othello import *\n",
    "\n",
    "# STRATEGIES\n",
    "HUMAN = 'H'\n",
    "TRIVIAL = 'T'\n",
    "MINIMAX = 'M'\n",
    "ALPHABETA = 'A'\n",
    "PROBCUT = 'P'\n",
    "\n",
    "# PLAYERS\n",
    "BLACK_PLAYER = ALPHABETA\n",
    "WHITE_PLAYER = ALPHABETA"
   ]
  },
  {
   "cell_type": "markdown",
   "metadata": {},
   "source": [
    "### Hilfsfunktionen\n",
    "Diese Hilfsfunktionen werden von mehreren KI's verwendet"
   ]
  },
  {
   "cell_type": "code",
   "execution_count": 2,
   "metadata": {},
   "outputs": [],
   "source": [
    "def terminal_utility(state):\n",
    "    winner = state.return_winner()\n",
    "    if(winner is None):\n",
    "        return 0\n",
    "    else:\n",
    "        return 1 if winner == state.turn else -1\n",
    "    \n",
    "def heuristic_utility(state):\n",
    "    player_cells = state.get_total_cells(state.turn)\n",
    "    opponent_cells = state.get_total_cells(state._opposite_turn(state.turn))\n",
    "    return (player_cells - opponent_cells) / 64"
   ]
  },
  {
   "cell_type": "markdown",
   "metadata": {},
   "source": [
    "### Triviale KI\n",
    "Diese KI iteriert reihenweise über das Spielfeld und spielt den ersten gültigen Zug"
   ]
  },
  {
   "cell_type": "code",
   "execution_count": 3,
   "metadata": {},
   "outputs": [],
   "source": [
    "def trivial_ai_make_move(state):\n",
    "    for row in range(state.rows):\n",
    "        for col in range(state.cols):\n",
    "            try:\n",
    "                state.move(row, col)\n",
    "                return\n",
    "            except InvalidMoveException:\n",
    "                pass\n"
   ]
  },
  {
   "cell_type": "markdown",
   "metadata": {},
   "source": [
    "### Minimax KI\n",
    "Diese KI verwended den Minimax Algorithmus"
   ]
  },
  {
   "cell_type": "code",
   "execution_count": 4,
   "metadata": {},
   "outputs": [],
   "source": [
    "MINIMAX_DEPTH_LIMIT = 5\n",
    "\n",
    "def minimax_max(state, depth):\n",
    "    global minimax_best_move\n",
    "    if(state.is_game_over()):\n",
    "        return terminal_utility(state)\n",
    "    if(depth >= MINIMAX_DEPTH_LIMIT):\n",
    "        return heuristic_utility(state)\n",
    "    max_utility = -math.inf\n",
    "    for move in state.get_possible_moves():\n",
    "        tmp_state = copy.deepcopy(state)\n",
    "        tmp_state.move(move[0], move[1])\n",
    "        tmp_utility = minimax_min(tmp_state, depth + 1)\n",
    "        if(tmp_utility > max_utility):\n",
    "            max_utility = tmp_utility\n",
    "            if(depth == 0):\n",
    "                minimax_best_move = move\n",
    "    return max_utility\n",
    "\n",
    "def minimax_min(state, depth):\n",
    "    global minimax_best_move\n",
    "    if(state.is_game_over()):\n",
    "        return -terminal_utility(state)\n",
    "    if(depth >= MINIMAX_DEPTH_LIMIT):\n",
    "        return -heuristic_utility(state)\n",
    "    min_utility = math.inf\n",
    "    for move in state.get_possible_moves():\n",
    "        tmp_state = copy.deepcopy(state)\n",
    "        tmp_state.move(move[0], move[1])\n",
    "        tmp_utility = minimax_max(tmp_state, depth + 1)\n",
    "        if(tmp_utility < min_utility):\n",
    "            min_utility = tmp_utility\n",
    "            if(depth == 0):\n",
    "                minimax_best_move = move\n",
    "    return min_utility\n",
    "\n",
    "\n",
    "def minimax_ai_make_move(state):\n",
    "    minimax_max(state, 0)\n",
    "    state.move(minimax_best_move[0], minimax_best_move[1])"
   ]
  },
  {
   "cell_type": "markdown",
   "metadata": {},
   "source": [
    "### Alpha-Beta KI\n",
    "Diese KI verwended den Minimax Algorithmus mit Alpha-Beta Pruning"
   ]
  },
  {
   "cell_type": "code",
   "execution_count": 5,
   "metadata": {},
   "outputs": [],
   "source": [
    "ALPHABETA_DEPTH_LIMIT = 7\n",
    "\n",
    "def alphabeta_max(state, alpha, beta, depth):\n",
    "    global alphabeta_best_move\n",
    "    if(state.is_game_over()):\n",
    "        return terminal_utility(state)\n",
    "    if(depth >= ALPHABETA_DEPTH_LIMIT):\n",
    "        return heuristic_utility(state)\n",
    "    max_utility = -math.inf\n",
    "    for move in state.get_possible_moves():\n",
    "        tmp_state = copy.deepcopy(state)\n",
    "        tmp_state.move(move[0], move[1])\n",
    "        tmp_utility = alphabeta_min(tmp_state, alpha, beta, depth + 1)\n",
    "        if(tmp_utility > max_utility):\n",
    "            max_utility = tmp_utility\n",
    "            if(depth == 0):\n",
    "                alphabeta_best_move = move\n",
    "        if(max_utility >= beta):\n",
    "            return max_utility\n",
    "        alpha = max(alpha, max_utility)\n",
    "    return max_utility\n",
    "\n",
    "def alphabeta_min(state, alpha, beta, depth):\n",
    "    global alphabeta_best_move\n",
    "    if(state.is_game_over()):\n",
    "        return -terminal_utility(state)\n",
    "    if(depth >= ALPHABETA_DEPTH_LIMIT):\n",
    "        return -heuristic_utility(state)\n",
    "    min_utility = math.inf\n",
    "    for move in state.get_possible_moves():\n",
    "        tmp_state = copy.deepcopy(state)\n",
    "        tmp_state.move(move[0], move[1])\n",
    "        tmp_utility = alphabeta_max(tmp_state, alpha, beta, depth + 1)\n",
    "        if(tmp_utility < min_utility):\n",
    "            min_utility = tmp_utility\n",
    "            if(depth == 0):\n",
    "                alphabeta_best_move = move\n",
    "        if(min_utility <= alpha):\n",
    "            return min_utility\n",
    "        beta = min(beta, min_utility)\n",
    "    return min_utility\n",
    "\n",
    "def alphabeta_ai_make_move(state):\n",
    "    alphabeta_max(state, -math.inf, math.inf, 0)\n",
    "    state.move(alphabeta_best_move[0], alphabeta_best_move[1])"
   ]
  },
  {
   "cell_type": "markdown",
   "metadata": {},
   "source": [
    "### ProbCut KI\n",
    "An dieser Stelle beginnt die Implementierung der Künstlichen Intelligenz mittels des Minimax Algorithmus und ProbCut"
   ]
  },
  {
   "cell_type": "code",
   "execution_count": 6,
   "metadata": {},
   "outputs": [],
   "source": [
    "def probcut_ai_make_move(state):\n",
    "    for row in range(state.rows):\n",
    "        for col in range(state.cols):\n",
    "            try:\n",
    "                state.move(row, col)\n",
    "                return\n",
    "            except InvalidMoveException:\n",
    "                pass"
   ]
  },
  {
   "cell_type": "markdown",
   "metadata": {},
   "source": [
    "### Applikation Starten\n",
    "\n",
    "Führen sie zum Started der Applikations den folgenden Code aus."
   ]
  },
  {
   "cell_type": "code",
   "execution_count": null,
   "metadata": {},
   "outputs": [
    {
     "name": "stdout",
     "output_type": "stream",
     "text": [
      "Application start\n"
     ]
    }
   ],
   "source": [
    "print('Application start') \n",
    "gui = othello_gui.OthelloGUI()\n",
    "\n",
    "try:\n",
    "    while 1:\n",
    "        gui._root_window.update()\n",
    "        game_state = gui._game_state\n",
    "        if (not game_state.is_game_over()):\n",
    "            # Check if/which AI is playing\n",
    "            strat = BLACK_PLAYER if game_state.turn == BLACK else WHITE_PLAYER\n",
    "            if (strat != HUMAN): \n",
    "                # Execute AI strategy for current player\n",
    "                if(strat == TRIVIAL):\n",
    "                    trivial_ai_make_move(game_state)\n",
    "                elif(strat == MINIMAX):\n",
    "                    minimax_ai_make_move(game_state)\n",
    "                elif(strat == ALPHABETA):\n",
    "                    alphabeta_ai_make_move(game_state)\n",
    "                elif(strat == PROBCUT):\n",
    "                    probcut_ai_make_move(game_state)\n",
    "                else:\n",
    "                    raise Exception('Invalid Strategy')\n",
    "                    \n",
    "                # Update GUI after AI move\n",
    "                gui._board.update_game_state(game_state)\n",
    "                gui._board.redraw_board()\n",
    "                gui._black_score.update_score(game_state)\n",
    "                gui._white_score.update_score(game_state)\n",
    "\n",
    "                if game_state.is_game_over():\n",
    "                    gui._player_turn.display_winner(game_state.return_winner())\n",
    "                else:\n",
    "                    gui._player_turn.switch_turn(game_state)\n",
    "except TclError:\n",
    "    print('Application exit')\n",
    "except Exception as e:\n",
    "    gui._root_window.destroy()\n",
    "    raise e"
   ]
  },
  {
   "cell_type": "markdown",
   "metadata": {},
   "source": [
    "### Testing code"
   ]
  },
  {
   "cell_type": "code",
   "execution_count": 7,
   "metadata": {},
   "outputs": [],
   "source": [
    "test_board = OthelloGameState()"
   ]
  },
  {
   "cell_type": "code",
   "execution_count": 11,
   "metadata": {},
   "outputs": [
    {
     "data": {
      "text/plain": [
       "array([[0, 0, 0, 0, 0, 0, 0, 0],\n",
       "       [0, 0, 0, 0, 0, 0, 0, 0],\n",
       "       [0, 0, 0, 1, 0, 0, 0, 0],\n",
       "       [0, 0, 0, 1, 2, 2, 0, 0],\n",
       "       [0, 0, 0, 1, 2, 0, 0, 0],\n",
       "       [0, 0, 0, 0, 2, 0, 0, 0],\n",
       "       [0, 0, 0, 0, 2, 0, 0, 0],\n",
       "       [0, 0, 0, 0, 0, 0, 0, 0]], dtype=int8)"
      ]
     },
     "execution_count": 11,
     "metadata": {},
     "output_type": "execute_result"
    }
   ],
   "source": [
    "minimax_ai_make_move(test_board)\n",
    "test_board.current_board"
   ]
  },
  {
   "cell_type": "code",
   "execution_count": 12,
   "metadata": {},
   "outputs": [
    {
     "name": "stdout",
     "output_type": "stream",
     "text": [
      "         11175738 function calls (10210980 primitive calls) in 8.176 seconds\n",
      "\n",
      "   Ordered by: standard name\n",
      "\n",
      "   ncalls  tottime  percall  cumtime  percall filename:lineno(function)\n",
      "     9861    0.009    0.000    2.080    0.000 <ipython-input-2-5b102c0868c3>:8(heuristic_utility)\n",
      "  10051/5    0.010    0.000    8.172    1.634 <ipython-input-4-0c99b9ae4f33>:20(minimax_min)\n",
      "   1273/1    0.024    0.000    8.176    8.176 <ipython-input-4-0c99b9ae4f33>:3(minimax_max)\n",
      "        1    0.000    0.000    8.176    8.176 <ipython-input-4-0c99b9ae4f33>:38(minimax_ai_make_move)\n",
      "        1    0.000    0.000    8.176    8.176 <string>:1(<module>)\n",
      "953440/11323    0.623    0.000    1.527    0.000 copy.py:128(deepcopy)\n",
      "   616755    0.041    0.000    0.041    0.000 copy.py:182(_deepcopy_atomic)\n",
      "    11323    0.074    0.000    1.157    0.000 copy.py:199(_deepcopy_list)\n",
      "   280070    0.239    0.000    0.821    0.000 copy.py:208(_deepcopy_tuple)\n",
      "   280070    0.106    0.000    0.564    0.000 copy.py:209(<listcomp>)\n",
      "    11323    0.023    0.000    1.391    0.000 copy.py:225(_deepcopy_dict)\n",
      "    56615    0.028    0.000    0.037    0.000 copy.py:241(_keep_alive)\n",
      "22646/11323    0.055    0.000    1.471    0.000 copy.py:257(_reconstruct)\n",
      "    45292    0.010    0.000    1.202    0.000 copy.py:262(<genexpr>)\n",
      "    11323    0.005    0.000    0.006    0.000 copyreg.py:90(__newobj__)\n",
      "   141735    1.133    0.000    1.467    0.000 othello.py:101(_is_valid_directional_move)\n",
      "   122253    2.266    0.000    2.591    0.000 othello.py:127(_adjacent_opposite_color_directions)\n",
      "    21997    0.065    0.000    0.334    0.000 othello.py:144(_convert_adjacent_cells_in_direction)\n",
      "    11324    0.004    0.000    1.140    0.000 othello.py:164(is_game_over)\n",
      "    22649    0.049    0.000    2.272    0.000 othello.py:170(can_move)\n",
      "     1463    0.025    0.000    1.155    0.001 othello.py:197(get_possible_moves)\n",
      "    11324    0.004    0.000    0.007    0.000 othello.py:215(switch_turn)\n",
      "    19722    2.068    0.000    2.068    0.000 othello.py:237(get_total_cells)\n",
      "    16136    0.015    0.000    0.043    0.000 othello.py:248(_flip_cell)\n",
      "   638261    0.136    0.000    0.136    0.000 othello.py:253(_cell_color)\n",
      "  1222719    0.236    0.000    0.236    0.000 othello.py:258(_opposite_turn)\n",
      "   346702    0.117    0.000    0.179    0.000 othello.py:262(_is_valid_cell)\n",
      "   747433    0.076    0.000    0.076    0.000 othello.py:267(_is_valid_row_number)\n",
      "  1500803    0.140    0.000    0.140    0.000 othello.py:271(_is_valid_col_number)\n",
      "    11324    0.037    0.000    2.240    0.000 othello.py:39(move)\n",
      "    11324    0.211    0.000    0.233    0.000 othello.py:89(_update_frontier)\n",
      "    11323    0.002    0.000    0.002    0.000 {built-in method __new__ of type object at 0x7efbff482fc0}\n",
      "        1    0.000    0.000    8.176    8.176 {built-in method builtins.exec}\n",
      "    56615    0.009    0.000    0.009    0.000 {built-in method builtins.getattr}\n",
      "    11323    0.002    0.000    0.002    0.000 {built-in method builtins.hasattr}\n",
      "  1346740    0.089    0.000    0.089    0.000 {built-in method builtins.id}\n",
      "    33969    0.005    0.000    0.005    0.000 {built-in method builtins.isinstance}\n",
      "    33969    0.003    0.000    0.003    0.000 {built-in method builtins.issubclass}\n",
      "    11323    0.031    0.000    0.031    0.000 {method '__deepcopy__' of 'numpy.ndarray' objects}\n",
      "    22646    0.017    0.000    0.017    0.000 {method '__reduce_ex__' of 'object' objects}\n",
      "    57171    0.007    0.000    0.007    0.000 {method 'add' of 'set' objects}\n",
      "   469948    0.036    0.000    0.036    0.000 {method 'append' of 'list' objects}\n",
      "        1    0.000    0.000    0.000    0.000 {method 'disable' of '_lsprof.Profiler' objects}\n",
      "  1929526    0.139    0.000    0.139    0.000 {method 'get' of 'dict' objects}\n",
      "    11323    0.001    0.000    0.001    0.000 {method 'items' of 'dict' objects}\n",
      "    11324    0.002    0.000    0.002    0.000 {method 'remove' of 'set' objects}\n",
      "    11323    0.003    0.000    0.003    0.000 {method 'update' of 'dict' objects}\n",
      "\n",
      "\n"
     ]
    },
    {
     "data": {
      "text/plain": [
       "array([[0, 0, 0, 0, 0, 0, 0, 0],\n",
       "       [0, 0, 0, 0, 0, 0, 0, 0],\n",
       "       [0, 0, 0, 1, 0, 0, 0, 0],\n",
       "       [0, 0, 0, 1, 1, 1, 1, 0],\n",
       "       [0, 0, 0, 1, 2, 0, 0, 0],\n",
       "       [0, 0, 0, 0, 2, 0, 0, 0],\n",
       "       [0, 0, 0, 0, 2, 0, 0, 0],\n",
       "       [0, 0, 0, 0, 0, 0, 0, 0]], dtype=int8)"
      ]
     },
     "execution_count": 12,
     "metadata": {},
     "output_type": "execute_result"
    }
   ],
   "source": [
    "import cProfile\n",
    "\n",
    "cProfile.run('minimax_ai_make_move(test_board)')\n",
    "test_board.current_board"
   ]
  },
  {
   "cell_type": "code",
   "execution_count": null,
   "metadata": {},
   "outputs": [],
   "source": []
  }
 ],
 "metadata": {
  "kernelspec": {
   "display_name": "Python 3",
   "language": "python",
   "name": "python3"
  },
  "language_info": {
   "codemirror_mode": {
    "name": "ipython",
    "version": 3
   },
   "file_extension": ".py",
   "mimetype": "text/x-python",
   "name": "python",
   "nbconvert_exporter": "python",
   "pygments_lexer": "ipython3",
   "version": "3.8.1"
  }
 },
 "nbformat": 4,
 "nbformat_minor": 4
}
