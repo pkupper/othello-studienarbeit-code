{
 "cells": [
  {
   "cell_type": "markdown",
   "metadata": {},
   "source": [
    "### Abhängigkeiten Importieren"
   ]
  },
  {
   "cell_type": "code",
   "execution_count": null,
   "metadata": {},
   "outputs": [],
   "source": [
    "import ipycanvas\n",
    "import ipywidgets\n",
    "import numpy\n",
    "import math"
   ]
  },
  {
   "cell_type": "markdown",
   "metadata": {},
   "source": [
    "### Globale Konstanten"
   ]
  },
  {
   "cell_type": "code",
   "execution_count": null,
   "metadata": {},
   "outputs": [],
   "source": [
    "BOARD_SIZE = 8\n",
    "\n",
    "BLACK = -1 # MINIMIZING PLAYER\n",
    "NONE = 0\n",
    "WHITE = 1 # MAXIMIZING PLAYER\n",
    "\n",
    "SHOW_FRONTIER = False\n",
    "SHOW_POSSIBLE_MOVES = True"
   ]
  },
  {
   "cell_type": "markdown",
   "metadata": {},
   "source": [
    "### Game State Klasse"
   ]
  },
  {
   "cell_type": "markdown",
   "metadata": {},
   "source": [
    "Repäsentiert den Spielzustand"
   ]
  },
  {
   "cell_type": "code",
   "execution_count": null,
   "metadata": {},
   "outputs": [],
   "source": [
    "class GameState:\n",
    "    def __init__(self):\n",
    "        self.board = numpy.zeros((BOARD_SIZE, BOARD_SIZE), dtype=numpy.int8)\n",
    "        self.board[3, 3] = WHITE\n",
    "        self.board[3, 4] = BLACK\n",
    "        self.board[4, 3] = BLACK\n",
    "        self.board[4, 4] = WHITE\n",
    "        self.frontier = {(2,2),(2,3),(2,4),(2,5),\n",
    "                         (3,2),(3,5),(4,2),(4,5),\n",
    "                         (5,2),(5,3),(5,4),(5,5)}\n",
    "        self.turn = BLACK\n",
    "        self.num_pieces = 4\n",
    "        self.game_over = False\n",
    "        self.possible_moves = {(2, 3), (3, 2), (4, 5), (5, 4)}"
   ]
  },
  {
   "cell_type": "code",
   "execution_count": null,
   "metadata": {},
   "outputs": [],
   "source": [
    "directions = {(-1,-1),(0,-1),(1,-1),(-1,0),(1,0),(-1,1),(0,1),(1,1)}"
   ]
  },
  {
   "cell_type": "code",
   "execution_count": null,
   "metadata": {},
   "outputs": [],
   "source": [
    "class InvalidMoveException(Exception):\n",
    "    pass"
   ]
  },
  {
   "cell_type": "code",
   "execution_count": null,
   "metadata": {},
   "outputs": [],
   "source": [
    "def make_move(state, row, col):\n",
    "    if (row, col) not in state.frontier:\n",
    "        print(row, \", \", col)\n",
    "        raise InvalidMoveException\n",
    "    next_turn = state.turn\n",
    "        \n",
    "    possible_directions = adjacent_opposite_color_directions(state, row, col, state.turn)\n",
    "    for (row_dir, col_dir) in possible_directions:\n",
    "        if is_valid_directional_move(state, row, col, row_dir, col_dir, state.turn):\n",
    "            next_turn = -state.turn\n",
    "            convert_adjacent_cells_in_direction(state, row, col, row_dir, col_dir, state.turn)\n",
    "\n",
    "    if next_turn != state.turn:\n",
    "        state.num_pieces += 1\n",
    "        state.board[(row, col)] = state.turn\n",
    "        update_frontier(state, row, col)\n",
    "        if can_move(state, next_turn):\n",
    "            state.turn = next_turn\n",
    "        elif not can_move(state, state.turn):\n",
    "                state.game_over = True\n",
    "                return state\n",
    "        state.possible_moves = get_possible_moves(state, state.turn)\n",
    "    else:\n",
    "        raise InvalidMoveException()\n",
    "    return state"
   ]
  },
  {
   "cell_type": "code",
   "execution_count": null,
   "metadata": {},
   "outputs": [],
   "source": [
    "def is_move_valid(state, row, col, turn):\n",
    "    dirs = [(-1,-1),(0,-1),(1,-1),(-1,0),(1,0),(-1,1),(0,1),(1,1)]\n",
    "    for rowdelta, coldelta in dirs:\n",
    "        try:\n",
    "            if state.board[row + rowdelta, col + coldelta] == -turn and is_valid_directional_move(state, row, col, rowdelta, coldelta, turn):\n",
    "                return True\n",
    "        except IndexError:\n",
    "            continue\n",
    "    return False"
   ]
  },
  {
   "cell_type": "code",
   "execution_count": null,
   "metadata": {},
   "outputs": [],
   "source": [
    "def get_winner(state):\n",
    "    black_disks = count_disks(state, BLACK)\n",
    "    white_disks = count_disks(state, WHITE)\n",
    "    if black_disks > white_disks:\n",
    "        return BLACK\n",
    "    if white_disks > black_disks:\n",
    "        return WHITE\n",
    "    else:\n",
    "        return NONE"
   ]
  },
  {
   "cell_type": "code",
   "execution_count": null,
   "metadata": {},
   "outputs": [],
   "source": [
    "def get_possible_moves(state, player):\n",
    "    possible_moves = []\n",
    "    for (row, col) in state.frontier:\n",
    "            if is_move_valid(state, row, col, player):\n",
    "                possible_moves.append((row, col))\n",
    "    return possible_moves"
   ]
  },
  {
   "cell_type": "code",
   "execution_count": null,
   "metadata": {},
   "outputs": [],
   "source": [
    "def can_move(state, player):\n",
    "    return len(get_possible_moves(state, player)) != 0"
   ]
  },
  {
   "cell_type": "markdown",
   "metadata": {},
   "source": [
    "Looks up to a possible of 8 directions surrounding the given move. If any of the\n",
    "move's surrounding cells is the opposite color of the move itself, then record\n",
    "the direction it is in and store it in a list of tuples [(rowdelta, coldelta)].\n",
    "Return the list of the directions at the end."
   ]
  },
  {
   "cell_type": "code",
   "execution_count": null,
   "metadata": {},
   "outputs": [],
   "source": [
    "def adjacent_opposite_color_directions(state, row, col, turn):\n",
    "    dir_list = []\n",
    "    for rowdelta in range(-1, 2):\n",
    "        if not 0 <= row+rowdelta < 8:\n",
    "            continue\n",
    "        for coldelta in range(-1, 2):\n",
    "            if not 0 <= col+coldelta < 8:\n",
    "                continue\n",
    "            if state.board[row + rowdelta, col + coldelta] == -turn:\n",
    "                dir_list.append((rowdelta, coldelta))\n",
    "    return dir_list"
   ]
  },
  {
   "cell_type": "markdown",
   "metadata": {},
   "source": [
    "Given a move at specified row/col, checks in the given direction to see if\n",
    "a valid move can be made. Returns True if it can; False otherwise.\n",
    "Only supposed to be used in conjunction with _adjacent_opposite_color_directions()"
   ]
  },
  {
   "cell_type": "code",
   "execution_count": null,
   "metadata": {},
   "outputs": [],
   "source": [
    "def is_valid_directional_move(state, row, col, rowdelta, coldelta, player):\n",
    "        current_row = row + rowdelta\n",
    "        current_col = col + coldelta\n",
    "\n",
    "        last_cell_color = -player\n",
    "\n",
    "        while True:\n",
    "            if not (0 <= current_row < 8 and 0 <= current_col < 8):\n",
    "                break\n",
    "            if state.board[current_row, current_col] == NONE:\n",
    "                break           \n",
    "            if state.board[current_row, current_col] == player:\n",
    "                last_cell_color = player\n",
    "                break\n",
    "\n",
    "            current_row += rowdelta\n",
    "            current_col += coldelta\n",
    "            \n",
    "        return last_cell_color == player"
   ]
  },
  {
   "cell_type": "code",
   "execution_count": null,
   "metadata": {},
   "outputs": [],
   "source": [
    "def count_disks(state, player):\n",
    "    return numpy.count_nonzero(state.board == player)"
   ]
  },
  {
   "cell_type": "code",
   "execution_count": null,
   "metadata": {},
   "outputs": [],
   "source": [
    "def get_player_string(player):\n",
    "    return {BLACK: 'Black', WHITE: 'White', NONE: 'Nobody'}[player]"
   ]
  },
  {
   "cell_type": "code",
   "execution_count": null,
   "metadata": {},
   "outputs": [],
   "source": [
    "def convert_adjacent_cells_in_direction(state, row, col, rowdelta, coldelta, player):\n",
    "    ''' If it can, converts all the adjacent/contiguous cells on a turn in\n",
    "        a given direction until it finally reaches the specified cell's original color '''\n",
    "    if is_valid_directional_move(state, row, col, rowdelta, coldelta, player):\n",
    "        current_row = row + rowdelta\n",
    "        current_col = col + coldelta\n",
    "        \n",
    "        while state.board[current_row, current_col] == -player:\n",
    "            state.board[(current_row, current_col)] = player\n",
    "            current_row += rowdelta\n",
    "            current_col += coldelta"
   ]
  },
  {
   "cell_type": "code",
   "execution_count": null,
   "metadata": {},
   "outputs": [],
   "source": [
    "def update_frontier(state, row, col):\n",
    "        for current_row in range(row-1, row+2):\n",
    "            if not 0 <= current_row < 8:\n",
    "                continue\n",
    "            for current_col in range(col-1, col+2):\n",
    "                if not 0 <= current_col < 8:\n",
    "                    continue\n",
    "                if state.board[current_row, current_col] == NONE:\n",
    "                    state.frontier.add((current_row, current_col))\n",
    "        state.frontier.remove((row, col))"
   ]
  },
  {
   "cell_type": "markdown",
   "metadata": {},
   "source": [
    "### Widgets Initialisieren"
   ]
  },
  {
   "cell_type": "markdown",
   "metadata": {},
   "source": [
    "#### Canvas Widget Initialisieren"
   ]
  },
  {
   "cell_type": "code",
   "execution_count": null,
   "metadata": {},
   "outputs": [],
   "source": [
    "CELL_SIZE = 70\n",
    "\n",
    "CANVAS_SIZE = BOARD_SIZE * CELL_SIZE\n",
    "\n",
    "canvas = ipycanvas.MultiCanvas(2, width=CANVAS_SIZE, height=CANVAS_SIZE)\n",
    "canvas[0].fill_style = 'darkgreen'\n",
    "canvas[0].stroke_style = 'black'\n",
    "canvas[0].fill_rect(0, 0, CANVAS_SIZE, CANVAS_SIZE)\n",
    "canvas[0].begin_path()\n",
    "for i in range(BOARD_SIZE+1):\n",
    "    pos = i * CELL_SIZE\n",
    "    canvas[0].move_to(pos, 0)\n",
    "    canvas[0].line_to(pos, CANVAS_SIZE)\n",
    "    canvas[0].move_to(0, pos)\n",
    "    canvas[0].line_to(CANVAS_SIZE, pos)\n",
    "canvas[0].stroke()"
   ]
  },
  {
   "cell_type": "markdown",
   "metadata": {},
   "source": [
    "#### Text Widgets initialisieren"
   ]
  },
  {
   "cell_type": "code",
   "execution_count": null,
   "metadata": {},
   "outputs": [],
   "source": [
    "score_lbl = ipywidgets.widgets.Label()"
   ]
  },
  {
   "cell_type": "code",
   "execution_count": null,
   "metadata": {},
   "outputs": [],
   "source": [
    "turn_lbl = ipywidgets.widgets.Label()"
   ]
  },
  {
   "cell_type": "markdown",
   "metadata": {},
   "source": [
    "#### Output Widget initalisieren"
   ]
  },
  {
   "cell_type": "code",
   "execution_count": null,
   "metadata": {},
   "outputs": [],
   "source": [
    "output = ipywidgets.widgets.Output()"
   ]
  },
  {
   "cell_type": "code",
   "execution_count": null,
   "metadata": {},
   "outputs": [],
   "source": [
    "def display_board(state):\n",
    "    update_output(state)\n",
    "    display(canvas)\n",
    "    display(score_lbl)\n",
    "    display(turn_lbl)\n",
    "    display(output)"
   ]
  },
  {
   "cell_type": "code",
   "execution_count": null,
   "metadata": {},
   "outputs": [],
   "source": [
    "def update_output(state):\n",
    "    with ipycanvas.hold_canvas(canvas):\n",
    "        canvas[1].clear()\n",
    "        for ((x, y), val) in numpy.ndenumerate(state.board):\n",
    "            if val == NONE:\n",
    "                continue\n",
    "            elif val == BLACK:\n",
    "                canvas[1].fill_style = 'black'\n",
    "            else:\n",
    "                canvas[1].fill_style = 'white'\n",
    "            canvas[1].fill_arc((x + 0.5) * CELL_SIZE, (y + 0.5) * CELL_SIZE, CELL_SIZE / 2.2, 0, 2 * math.pi)\n",
    "            \n",
    "        if SHOW_FRONTIER:\n",
    "            for (x, y) in state.frontier:\n",
    "                canvas[1].fill_style = 'gray'\n",
    "                canvas[1].fill_arc((x + 0.5) * CELL_SIZE, (y + 0.5) * CELL_SIZE, CELL_SIZE / 6, 0, 2 * math.pi)\n",
    "        \n",
    "        if SHOW_POSSIBLE_MOVES:\n",
    "            for (x, y) in get_possible_moves(state, state.turn):\n",
    "                if state.turn == BLACK:\n",
    "                    canvas[1].fill_style = 'black'\n",
    "                else:\n",
    "                    canvas[1].fill_style = 'white'\n",
    "                canvas[1].fill_arc((x + 0.5) * CELL_SIZE, (y + 0.5) * CELL_SIZE, CELL_SIZE / 6, 0, 2 * math.pi)\n",
    "            \n",
    "    score_lbl.value = f'Black Player : {count_disks(state, BLACK)} White Player : {count_disks(state, WHITE)}'\n",
    "    if state.game_over:\n",
    "        turn_lbl.value = f'{get_player_string(get_winner(state))} wins'\n",
    "    else:\n",
    "        turn_lbl.value = f'{get_player_string(state.turn)}s Move'"
   ]
  },
  {
   "cell_type": "code",
   "execution_count": null,
   "metadata": {},
   "outputs": [],
   "source": [
    "def mouse_down(x_px, y_px):\n",
    "    if not state.game_over:\n",
    "        with output:\n",
    "            x = math.floor(x_px / CELL_SIZE)\n",
    "            y = math.floor(y_px / CELL_SIZE)\n",
    "            try:\n",
    "                make_move(state, x, y)\n",
    "            except InvalidMoveException:\n",
    "                print('Invalid Move')\n",
    "            update_output(state)\n",
    "            next_move(state)\n",
    "\n",
    "canvas[1].on_mouse_down(mouse_down)"
   ]
  },
  {
   "cell_type": "code",
   "execution_count": null,
   "metadata": {},
   "outputs": [],
   "source": [
    "state = GameState()"
   ]
  },
  {
   "cell_type": "code",
   "execution_count": null,
   "metadata": {},
   "outputs": [],
   "source": [
    "#display_board(state)"
   ]
  }
 ],
 "metadata": {
  "kernelspec": {
   "display_name": "Python 3",
   "language": "python",
   "name": "python3"
  },
  "language_info": {
   "codemirror_mode": {
    "name": "ipython",
    "version": 3
   },
   "file_extension": ".py",
   "mimetype": "text/x-python",
   "name": "python",
   "nbconvert_exporter": "python",
   "pygments_lexer": "ipython3",
   "version": "3.7.4"
  }
 },
 "nbformat": 4,
 "nbformat_minor": 4
}
