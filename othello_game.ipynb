{
 "cells": [
  {
   "cell_type": "markdown",
   "metadata": {},
   "source": [
    "### Abhängigkeiten Importieren"
   ]
  },
  {
   "cell_type": "code",
   "execution_count": 53,
   "metadata": {},
   "outputs": [],
   "source": [
    "import ipycanvas\n",
    "import ipywidgets\n",
    "import numpy\n",
    "import math"
   ]
  },
  {
   "cell_type": "markdown",
   "metadata": {},
   "source": [
    "### Globale Konstanten"
   ]
  },
  {
   "cell_type": "code",
   "execution_count": 54,
   "metadata": {},
   "outputs": [],
   "source": [
    "BOARD_SIZE = 8\n",
    "\n",
    "NONE = 0\n",
    "BLACK = 1\n",
    "WHITE = 2\n",
    "\n",
    "SHOW_FRONTIER = False\n",
    "SHOW_POSSIBLE_MOVES = True"
   ]
  },
  {
   "cell_type": "markdown",
   "metadata": {},
   "source": [
    "### Game State Klasse"
   ]
  },
  {
   "cell_type": "markdown",
   "metadata": {},
   "source": [
    "Repäsentiert den Spielzustand"
   ]
  },
  {
   "cell_type": "code",
   "execution_count": 55,
   "metadata": {},
   "outputs": [],
   "source": [
    "class GameState:\n",
    "    def __init__(self):\n",
    "        self.board = numpy.zeros((8, 8), dtype=numpy.int8)\n",
    "        self.board[3, 3] = WHITE\n",
    "        self.board[3, 4] = BLACK\n",
    "        self.board[4, 3] = BLACK\n",
    "        self.board[4, 4] = WHITE\n",
    "        self.frontier = {(2,2),(2,3),(2,4),(2,5),\n",
    "                         (3,2),(3,5),(4,2),(4,5),\n",
    "                         (5,2),(5,3),(5,4),(5,5)}\n",
    "        self.turn = BLACK"
   ]
  },
  {
   "cell_type": "code",
   "execution_count": 56,
   "metadata": {},
   "outputs": [],
   "source": [
    "directions = {(-1,-1),(0,-1),(1,-1),(-1,0),(1,0),(-1,1),(0,1),(1,1)}"
   ]
  },
  {
   "cell_type": "code",
   "execution_count": 57,
   "metadata": {},
   "outputs": [],
   "source": [
    "def opposite_player(player):\n",
    "    return {BLACK: WHITE, WHITE: BLACK}[player]"
   ]
  },
  {
   "cell_type": "code",
   "execution_count": 58,
   "metadata": {},
   "outputs": [],
   "source": [
    "class InvalidMoveException(Exception):\n",
    "    pass"
   ]
  },
  {
   "cell_type": "code",
   "execution_count": 59,
   "metadata": {},
   "outputs": [],
   "source": [
    "def make_move(state, pos):\n",
    "    if pos not in state.frontier:\n",
    "        raise InvalidMoveException\n",
    "        \n",
    "    possible_directions = adjacent_opposite_color_directions(state, pos[0], pos[1], state.turn)\n",
    "\n",
    "    next_turn = state.turn\n",
    "    for direction in possible_directions:\n",
    "        if is_valid_directional_move(state, pos[0], pos[1], direction[0], direction[1], state.turn):\n",
    "            next_turn = opposite_player(state.turn)\n",
    "            convert_adjacent_cells_in_direction(state, pos[0], pos[1], direction[0], direction[1], state.turn)\n",
    "\n",
    "    if next_turn != state.turn:\n",
    "        state.board[pos] = state.turn\n",
    "        update_frontier(state, pos[0], pos[1])\n",
    "        if can_move(state, next_turn):\n",
    "            state.turn = next_turn\n",
    "    else:\n",
    "        raise InvalidMoveException()"
   ]
  },
  {
   "cell_type": "code",
   "execution_count": 60,
   "metadata": {},
   "outputs": [],
   "source": [
    "def is_game_over(state):\n",
    "    return not can_move(state, BLACK) and not can_move(state, WHITE)"
   ]
  },
  {
   "cell_type": "code",
   "execution_count": 61,
   "metadata": {},
   "outputs": [],
   "source": [
    "def get_winner(state):\n",
    "    black_disks = count_disks(state, BLACK)\n",
    "    white_disks = count_disks(state, WHITE)\n",
    "    if black_disks > white_disks:\n",
    "        return BLACK\n",
    "    if white_disks > black_disks:\n",
    "        return WHITE\n",
    "    else:\n",
    "        return NONE"
   ]
  },
  {
   "cell_type": "code",
   "execution_count": 62,
   "metadata": {},
   "outputs": [],
   "source": [
    "def get_possible_moves(state, player):\n",
    "    possible_moves = []\n",
    "    for (row, col) in state.frontier:\n",
    "        for direction in adjacent_opposite_color_directions(state, row, col, player):\n",
    "            if is_valid_directional_move(state, row, col, direction[0], direction[1], player):\n",
    "                possible_moves.append((row, col))\n",
    "                break\n",
    "    return possible_moves"
   ]
  },
  {
   "cell_type": "code",
   "execution_count": 63,
   "metadata": {},
   "outputs": [],
   "source": [
    "def can_move(state, player):\n",
    "    return len(get_possible_moves(state, player)) != 0"
   ]
  },
  {
   "cell_type": "markdown",
   "metadata": {},
   "source": [
    "Looks up to a possible of 8 directions surrounding the given move. If any of the\n",
    "move's surrounding cells is the opposite color of the move itself, then record\n",
    "the direction it is in and store it in a list of tuples [(rowdelta, coldelta)].\n",
    "Return the list of the directions at the end."
   ]
  },
  {
   "cell_type": "code",
   "execution_count": 64,
   "metadata": {},
   "outputs": [],
   "source": [
    "def adjacent_opposite_color_directions(state, row, col, turn):\n",
    "        dir_list = []\n",
    "        for rowdelta in range(-1, 2):\n",
    "            if not 0 <= row+rowdelta < 8:\n",
    "                continue\n",
    "            for coldelta in range(-1, 2):\n",
    "                if not 0 <= col+coldelta < 8:\n",
    "                    continue\n",
    "                if state.board[row + rowdelta, col + coldelta] == opposite_player(turn):\n",
    "                    dir_list.append((rowdelta, coldelta))\n",
    "        return dir_list"
   ]
  },
  {
   "cell_type": "markdown",
   "metadata": {},
   "source": [
    "Given a move at specified row/col, checks in the given direction to see if\n",
    "a valid move can be made. Returns True if it can; False otherwise.\n",
    "Only supposed to be used in conjunction with _adjacent_opposite_color_directions()"
   ]
  },
  {
   "cell_type": "code",
   "execution_count": 65,
   "metadata": {},
   "outputs": [],
   "source": [
    "def is_valid_directional_move(state, row, col, rowdelta, coldelta, player):\n",
    "        current_row = row + rowdelta\n",
    "        current_col = col + coldelta\n",
    "\n",
    "        last_cell_color = opposite_player(player)\n",
    "\n",
    "        while True:\n",
    "            if not (0 <= current_row < 8 and 0 <= current_col < 8):\n",
    "                break\n",
    "            if state.board[current_row, current_col] == NONE:\n",
    "                break           \n",
    "            if state.board[current_row, current_col] == player:\n",
    "                last_cell_color = player\n",
    "                break\n",
    "\n",
    "            current_row += rowdelta\n",
    "            current_col += coldelta\n",
    "            \n",
    "        return last_cell_color == player"
   ]
  },
  {
   "cell_type": "code",
   "execution_count": 66,
   "metadata": {},
   "outputs": [],
   "source": [
    "def count_disks(state, player):\n",
    "    return numpy.count_nonzero(state.board == player)"
   ]
  },
  {
   "cell_type": "code",
   "execution_count": 67,
   "metadata": {},
   "outputs": [],
   "source": [
    "def get_player_string(player):\n",
    "    return {BLACK: 'Black', WHITE: 'White', NONE: 'Nobody'}[player]"
   ]
  },
  {
   "cell_type": "code",
   "execution_count": 68,
   "metadata": {},
   "outputs": [],
   "source": [
    "def convert_adjacent_cells_in_direction(state, row, col, rowdelta, coldelta, player):\n",
    "    ''' If it can, converts all the adjacent/contiguous cells on a turn in\n",
    "        a given direction until it finally reaches the specified cell's original color '''\n",
    "    if is_valid_directional_move(state, row, col, rowdelta, coldelta, player):\n",
    "        current_row = row + rowdelta\n",
    "        current_col = col + coldelta\n",
    "        \n",
    "        while state.board[current_row, current_col] == opposite_player(player):\n",
    "            state.board[(current_row, current_col)] = player\n",
    "            current_row += rowdelta\n",
    "            current_col += coldelta"
   ]
  },
  {
   "cell_type": "code",
   "execution_count": 69,
   "metadata": {},
   "outputs": [],
   "source": [
    "def update_frontier(state, row, col):\n",
    "        for current_row in range(row-1, row+2):\n",
    "            if not 0 <= current_row < 8:\n",
    "                continue\n",
    "            for current_col in range(col-1, col+2):\n",
    "                if not 0 <= current_col < 8:\n",
    "                    continue\n",
    "                if state.board[current_row, current_col] == NONE:\n",
    "                    state.frontier.add((current_row, current_col))\n",
    "        state.frontier.remove((row, col))"
   ]
  },
  {
   "cell_type": "markdown",
   "metadata": {},
   "source": [
    "### Widgets Initialisieren"
   ]
  },
  {
   "cell_type": "markdown",
   "metadata": {},
   "source": [
    "#### Canvas Widget Initialisieren"
   ]
  },
  {
   "cell_type": "code",
   "execution_count": 70,
   "metadata": {},
   "outputs": [],
   "source": [
    "CELL_SIZE = 70\n",
    "\n",
    "CANVAS_SIZE = BOARD_SIZE * CELL_SIZE\n",
    "\n",
    "canvas = ipycanvas.MultiCanvas(2, width=CANVAS_SIZE, height=CANVAS_SIZE)\n",
    "canvas[0].fill_style = 'darkgreen'\n",
    "canvas[0].stroke_style = 'black'\n",
    "canvas[0].fill_rect(0, 0, CANVAS_SIZE, CANVAS_SIZE)\n",
    "canvas[0].begin_path()\n",
    "for i in range(BOARD_SIZE+1):\n",
    "    pos = i * CELL_SIZE\n",
    "    canvas[0].move_to(pos, 0)\n",
    "    canvas[0].line_to(pos, CANVAS_SIZE)\n",
    "    canvas[0].move_to(0, pos)\n",
    "    canvas[0].line_to(CANVAS_SIZE, pos)\n",
    "canvas[0].stroke()"
   ]
  },
  {
   "cell_type": "markdown",
   "metadata": {},
   "source": [
    "#### Text Widgets initialisieren"
   ]
  },
  {
   "cell_type": "code",
   "execution_count": 71,
   "metadata": {},
   "outputs": [],
   "source": [
    "score_lbl = ipywidgets.widgets.Label()"
   ]
  },
  {
   "cell_type": "code",
   "execution_count": 72,
   "metadata": {},
   "outputs": [],
   "source": [
    "turn_lbl = ipywidgets.widgets.Label()"
   ]
  },
  {
   "cell_type": "markdown",
   "metadata": {},
   "source": [
    "#### Output Widget initalisieren"
   ]
  },
  {
   "cell_type": "code",
   "execution_count": 73,
   "metadata": {},
   "outputs": [],
   "source": [
    "output = ipywidgets.widgets.Output()"
   ]
  },
  {
   "cell_type": "code",
   "execution_count": 74,
   "metadata": {},
   "outputs": [],
   "source": [
    "def display_board(state):\n",
    "    update_output(state)\n",
    "    display(canvas)\n",
    "    display(score_lbl)\n",
    "    display(turn_lbl)\n",
    "    display(output)"
   ]
  },
  {
   "cell_type": "code",
   "execution_count": 75,
   "metadata": {},
   "outputs": [],
   "source": [
    "def update_output(state):\n",
    "    with ipycanvas.hold_canvas(canvas):\n",
    "        canvas[1].clear()\n",
    "        for ((x, y), val) in numpy.ndenumerate(state.board):\n",
    "            if val == NONE:\n",
    "                continue\n",
    "            elif val == BLACK:\n",
    "                canvas[1].fill_style = 'black'\n",
    "            else:\n",
    "                canvas[1].fill_style = 'white'\n",
    "            canvas[1].fill_arc((x + 0.5) * CELL_SIZE, (y + 0.5) * CELL_SIZE, CELL_SIZE / 2.2, 0, 2 * math.pi)\n",
    "            \n",
    "        if SHOW_FRONTIER:\n",
    "            for (x, y) in state.frontier:\n",
    "                canvas[1].fill_style = 'gray'\n",
    "                canvas[1].fill_arc((x + 0.5) * CELL_SIZE, (y + 0.5) * CELL_SIZE, CELL_SIZE / 6, 0, 2 * math.pi)\n",
    "        \n",
    "        if SHOW_POSSIBLE_MOVES:\n",
    "            for (x, y) in get_possible_moves(state, state.turn):\n",
    "                if state.turn == BLACK:\n",
    "                    canvas[1].fill_style = 'black'\n",
    "                else:\n",
    "                    canvas[1].fill_style = 'white'\n",
    "                canvas[1].fill_arc((x + 0.5) * CELL_SIZE, (y + 0.5) * CELL_SIZE, CELL_SIZE / 6, 0, 2 * math.pi)\n",
    "            \n",
    "    score_lbl.value = f'Black Player : {count_disks(state, BLACK)} White Player : {count_disks(state, WHITE)}'\n",
    "    if is_game_over(state):\n",
    "        turn_lbl.value = f'{get_player_string(get_winner(state))} wins'\n",
    "    else:\n",
    "        turn_lbl.value = f'{get_player_string(state.turn)}s Move'"
   ]
  },
  {
   "cell_type": "code",
   "execution_count": 76,
   "metadata": {},
   "outputs": [],
   "source": [
    "def mouse_down(x_px, y_px):\n",
    "    if not is_game_over(state):\n",
    "        with output:\n",
    "            x = math.floor(x_px / CELL_SIZE)\n",
    "            y = math.floor(y_px / CELL_SIZE)\n",
    "            try:\n",
    "                make_move(state, (x, y))\n",
    "            except InvalidMoveException:\n",
    "                print('Invalid Move')\n",
    "            update_output(state)\n",
    "\n",
    "canvas[1].on_mouse_down(mouse_down)"
   ]
  },
  {
   "cell_type": "code",
   "execution_count": 77,
   "metadata": {},
   "outputs": [],
   "source": [
    "state = GameState()"
   ]
  },
  {
   "cell_type": "code",
   "execution_count": 78,
   "metadata": {},
   "outputs": [
    {
     "data": {
      "application/vnd.jupyter.widget-view+json": {
       "model_id": "f461ef50510044028785b0946a51f05e",
       "version_major": 2,
       "version_minor": 0
      },
      "text/plain": [
       "MultiCanvas(height=560, width=560)"
      ]
     },
     "metadata": {},
     "output_type": "display_data"
    },
    {
     "data": {
      "application/vnd.jupyter.widget-view+json": {
       "model_id": "776af58c819b4486bfb644d1af6e0bfb",
       "version_major": 2,
       "version_minor": 0
      },
      "text/plain": [
       "Label(value='Black Player : 2 White Player : 2')"
      ]
     },
     "metadata": {},
     "output_type": "display_data"
    },
    {
     "data": {
      "application/vnd.jupyter.widget-view+json": {
       "model_id": "1f0ffa2e7ef647d4965203f424d4edb2",
       "version_major": 2,
       "version_minor": 0
      },
      "text/plain": [
       "Label(value='Blacks Move')"
      ]
     },
     "metadata": {},
     "output_type": "display_data"
    },
    {
     "data": {
      "application/vnd.jupyter.widget-view+json": {
       "model_id": "a16f237bcb784aae974950963b2596c0",
       "version_major": 2,
       "version_minor": 0
      },
      "text/plain": [
       "Output()"
      ]
     },
     "metadata": {},
     "output_type": "display_data"
    }
   ],
   "source": [
    "display_board(state)"
   ]
  }
 ],
 "metadata": {
  "kernelspec": {
   "display_name": "Python 3",
   "language": "python",
   "name": "python3"
  },
  "language_info": {
   "codemirror_mode": {
    "name": "ipython",
    "version": 3
   },
   "file_extension": ".py",
   "mimetype": "text/x-python",
   "name": "python",
   "nbconvert_exporter": "python",
   "pygments_lexer": "ipython3",
   "version": "3.8.1"
  }
 },
 "nbformat": 4,
 "nbformat_minor": 4
}
