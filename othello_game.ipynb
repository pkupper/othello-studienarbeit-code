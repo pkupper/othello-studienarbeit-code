{
 "cells": [
  {
   "cell_type": "markdown",
   "metadata": {},
   "source": [
    "### Abhängigkeiten Importieren"
   ]
  },
  {
   "cell_type": "code",
   "execution_count": 1,
   "metadata": {},
   "outputs": [],
   "source": [
    "import ipycanvas\n",
    "import ipywidgets\n",
    "import numpy\n",
    "import math"
   ]
  },
  {
   "cell_type": "markdown",
   "metadata": {},
   "source": [
    "### Globale Konstanten"
   ]
  },
  {
   "cell_type": "code",
   "execution_count": 2,
   "metadata": {},
   "outputs": [],
   "source": [
    "BOARD_SIZE = 8\n",
    "\n",
    "NONE = 0\n",
    "BLACK = 1\n",
    "WHITE = 2"
   ]
  },
  {
   "cell_type": "markdown",
   "metadata": {},
   "source": [
    "### Game State Klasse"
   ]
  },
  {
   "cell_type": "code",
   "execution_count": 3,
   "metadata": {},
   "outputs": [],
   "source": [
    "class GameState:\n",
    "    def __init__(self):\n",
    "        self.board = numpy.zeros((8, 8), dtype=numpy.int8)\n",
    "        self.board[3, 3] = WHITE\n",
    "        self.board[3, 4] = BLACK\n",
    "        self.board[4, 3] = BLACK\n",
    "        self.board[4, 4] = WHITE\n",
    "        self.frontier = {(2,2),(2,3),(2,4),(2,5),\n",
    "                         (3,2),(3,5),(4,2),(4,5),\n",
    "                         (5,2),(5,3),(5,4),(5,5)}\n",
    "        self.turn = BLACK"
   ]
  },
  {
   "cell_type": "code",
   "execution_count": 38,
   "metadata": {},
   "outputs": [],
   "source": [
    "directions = {(-1,-1),(0,-1),(1,-1),(-1,0),(1,0),(-1,1),(0,1),(1,1)}"
   ]
  },
  {
   "cell_type": "code",
   "execution_count": 35,
   "metadata": {},
   "outputs": [],
   "source": [
    "class InvalidMoveException(Exception):\n",
    "    pass"
   ]
  },
  {
   "cell_type": "code",
   "execution_count": 37,
   "metadata": {},
   "outputs": [],
   "source": [
    "def opposite_player(player):\n",
    "    return {BLACK: WHITE, WHITE: BLACK}[player]"
   ]
  },
  {
   "cell_type": "markdown",
   "metadata": {},
   "source": [
    "### Makes move\n",
    "<div class=\"alert alert-warning\">\n",
    "    <b>Warning:</b> Does not check if move is valid\n",
    "</div>"
   ]
  },
  {
   "cell_type": "code",
   "execution_count": 39,
   "metadata": {},
   "outputs": [],
   "source": [
    "def make_move(state, pos):\n",
    "    if pos not in state.frontier:\n",
    "        raise InvalidMoveException\n",
    "        \n",
    "    possible_directions = adjacent_opposite_color_directions(state, pos[0], pos[1], state.turn)\n",
    "    display(possible_directions)\n",
    "\n",
    "    next_turn = state.turn\n",
    "    for direction in possible_directions:\n",
    "        if is_valid_directional_move(state, pos[0], pos[1], direction[0], direction[1], state.turn):\n",
    "            next_turn = opposite_player(state.turn)\n",
    "            convert_adjacent_cells_in_direction(state, pos[0], pos[1], direction[0], direction[1], state.turn)\n",
    "\n",
    "    if next_turn != state.turn:\n",
    "        state.board[pos] = state.turn\n",
    "        update_frontier(state, pos[0], pos[1])\n",
    "        # TODO: if self.can_move(next_turn):\n",
    "        #    state.turn = next_turn()\n",
    "    else:\n",
    "        raise InvalidMoveException()\n",
    "\n",
    "\n",
    "\n",
    "    state.board[pos] = state.turn\n",
    "    state.turn = opposite_player(state.turn)"
   ]
  },
  {
   "cell_type": "code",
   "execution_count": 2,
   "metadata": {},
   "outputs": [],
   "source": [
    "def is_game_over(state):\n",
    "    return False"
   ]
  },
  {
   "cell_type": "code",
   "execution_count": 3,
   "metadata": {},
   "outputs": [],
   "source": [
    "def get_possible_moves(state):\n",
    "    possible_moves = []\n",
    "    for (row, col) in state.frontier:\n",
    "        for direction in adjacent_opposite_color_directions(row, col, state.turn):\n",
    "            if self.is_valid_directional_move(row, col, direction[0], direction[1], self.turn):\n",
    "                possible_moves.append((row, col))\n",
    "                break\n",
    "    return possible_moves"
   ]
  },
  {
   "cell_type": "code",
   "execution_count": 4,
   "metadata": {},
   "outputs": [],
   "source": [
    "def adjacent_opposite_color_directions(state, row: int, col: int, turn: str) -> [tuple]:\n",
    "        ''' Looks up to a possible of 8 directions surrounding the given move. If any of the\n",
    "            move's surrounding cells is the opposite color of the move itself, then record\n",
    "            the direction it is in and store it in a list of tuples [(rowdelta, coldelta)].\n",
    "            Return the list of the directions at the end. '''\n",
    "        dir_list = []\n",
    "        for rowdelta in range(-1, 2):\n",
    "            if not 0 <= row+rowdelta < 8:\n",
    "                continue\n",
    "            for coldelta in range(-1, 2):\n",
    "                if not 0 <= col+coldelta < 8:\n",
    "                    continue\n",
    "                if state.board[row + rowdelta, col + coldelta] == opposite_player(turn):\n",
    "                    dir_list.append((rowdelta, coldelta))\n",
    "        return dir_list"
   ]
  },
  {
   "cell_type": "code",
   "execution_count": 5,
   "metadata": {},
   "outputs": [],
   "source": [
    "def is_valid_directional_move(state, row: int, col: int, rowdelta: int, coldelta: int, turn: str) -> bool:\n",
    "        ''' Given a move at specified row/col, checks in the given direction to see if\n",
    "            a valid move can be made. Returns True if it can; False otherwise.\n",
    "            Only supposed to be used in conjunction with _adjacent_opposite_color_directions()'''\n",
    "        current_row = row + rowdelta\n",
    "        current_col = col + coldelta\n",
    "\n",
    "        last_cell_color = opposite_player(turn)\n",
    "\n",
    "        while True:\n",
    "            # Immediately return false if the board reaches the end (b/c there's no blank\n",
    "            # space for the cell to sandwich the other colored cell(s)\n",
    "            if not (0 <= current_row < 8 and 0 <= current_col < 8):\n",
    "                break\n",
    "            if state.board[current_row, current_col] == NONE:\n",
    "                break           \n",
    "            if state.board[current_row, current_col] == turn:\n",
    "                last_cell_color = turn\n",
    "                break\n",
    "\n",
    "            current_row += rowdelta\n",
    "            current_col += coldelta\n",
    "            \n",
    "        return last_cell_color == turn"
   ]
  },
  {
   "cell_type": "code",
   "execution_count": 27,
   "metadata": {},
   "outputs": [],
   "source": [
    "def count_disks(state, player):\n",
    "    return numpy.count_nonzero(state.board == player)"
   ]
  },
  {
   "cell_type": "markdown",
   "metadata": {},
   "source": [
    "### Widgets Initialisieren"
   ]
   "cell_type": "code",
   "execution_count": 6,
   "metadata": {},
   "outputs": [],
   "source": [
    "def convert_adjacent_cells_in_direction(state, row: int, col: int, rowdelta: int, coldelta: int, turn: str) -> None:\n",
    "    ''' If it can, converts all the adjacent/contiguous cells on a turn in\n",
    "        a given direction until it finally reaches the specified cell's original color '''\n",
    "    if is_valid_directional_move(state, row, col, rowdelta, coldelta, turn):\n",
    "        current_row = row + rowdelta\n",
    "        current_col = col + coldelta\n",
    "        \n",
    "        while state.board[current_row, current_col] == opposite_player(turn):\n",
    "            state.board[(current_row, current_col)] = turn\n",
    "            current_row += rowdelta\n",
    "            current_col += coldelta"
   ]
  },
  {
   "cell_type": "code",
   "execution_count": 8,
   "metadata": {},
   "outputs": [],
   "source": [
    "def update_frontier(state, row: int, col: int) -> None:\n",
    "        for current_row in range(row-1, row+2):\n",
    "            if not 0 <= current_row < 8:\n",
    "                continue\n",
    "            for current_col in range(col-1, col+2):\n",
    "                if not 0 <= current_col < 8:\n",
    "                    continue\n",
    "                if state.board[current_row, current_col] == NONE:\n",
    "                    state.frontier.add((current_row, current_col))\n",
    "        state.frontier.remove((row, col))"
   ]
  },
  {
   "cell_type": "markdown",
   "metadata": {},
   "source": [
    "#### Canvas Widget Initialisieren"
   ]
  },
  {
   "cell_type": "code",
   "execution_count": 7,
   "metadata": {},
   "outputs": [],
   "source": [
    "CELL_SIZE = 70\n",
    "\n",
    "CANVAS_SIZE = BOARD_SIZE * CELL_SIZE\n",
    "\n",
    "canvas = ipycanvas.MultiCanvas(2, width=CANVAS_SIZE, height=CANVAS_SIZE)\n",
    "canvas[0].fill_style = 'darkgreen'\n",
    "canvas[0].stroke_style = 'black'\n",
    "canvas[0].fill_rect(0, 0, CANVAS_SIZE, CANVAS_SIZE)\n",
    "canvas[0].begin_path()\n",
    "for i in range(BOARD_SIZE+1):\n",
    "    pos = i * CELL_SIZE\n",
    "    canvas[0].move_to(pos, 0)\n",
    "    canvas[0].line_to(pos, CANVAS_SIZE)\n",
    "    canvas[0].move_to(0, pos)\n",
    "    canvas[0].line_to(CANVAS_SIZE, pos)\n",
    "canvas[0].stroke()"
   ]
  },
  {
   "cell_type": "markdown",
   "metadata": {},
   "source": [
    "#### Score Widget initialisieren"
   ]
  },
  {
   "cell_type": "code",
   "execution_count": 21,
   "metadata": {},
   "outputs": [],
   "source": [
    "score = ipywidgets.widgets.Label()"
   ]
  },
  {
   "cell_type": "markdown",
   "metadata": {},
   "source": [
    "#### Output Widget initalisieren"
   ]
  },
  {
   "cell_type": "code",
   "execution_count": 9,
   "metadata": {},
   "outputs": [],
   "source": [
    "output = ipywidgets.widgets.Output()"
   ]
  },
  {
   "cell_type": "code",
   "execution_count": 10,
   "metadata": {},
   "outputs": [],
   "source": [
    "def display_board(state):\n",
    "    update_output(state)\n",
    "    display(canvas)\n",
    "    display(score)\n",
    "    display(output)"
   ]
  },
  {
   "cell_type": "code",
   "execution_count": 34,
   "metadata": {},
   "outputs": [],
   "source": [
    "def update_output(state):\n",
    "    with ipycanvas.hold_canvas(canvas):\n",
    "        canvas[1].clear()\n",
    "        for ((x, y), val) in numpy.ndenumerate(state.board):\n",
    "            if val == NONE:\n",
    "                continue\n",
    "            elif val == BLACK:\n",
    "                canvas[1].fill_style = 'black'\n",
    "            else:\n",
    "                canvas[1].fill_style = 'white'\n",
    "            canvas[1].fill_arc((x + 0.5) * CELL_SIZE, (y + 0.5) * CELL_SIZE, CELL_SIZE / 2.2, 0, 2 * math.pi)\n",
    "    score.value = f'Black Player : {count_disks(state, BLACK)} White Player : {count_disks(state, WHITE)}'"
   ]
  },
  {
   "cell_type": "code",
   "execution_count": 12,
   "metadata": {},
   "outputs": [],
   "source": [
    "def mouse_down(x_px, y_px):\n",
    "    with output:\n",
    "        x = math.floor(x_px / CELL_SIZE)\n",
    "        y = math.floor(y_px / CELL_SIZE)\n",
    "        make_move(state, (x, y))\n",
    "        update_output(state)\n",
    "\n",
    "canvas[1].on_mouse_down(mouse_down)"
   ]
  },
  {
   "cell_type": "code",
   "execution_count": 13,
   "metadata": {},
   "outputs": [],
   "source": [
    "state = GameState()"
   ]
  },
  {
   "cell_type": "code",
   "execution_count": 26,
   "metadata": {},
   "outputs": [
    {
     "data": {
      "application/vnd.jupyter.widget-view+json": {
       "model_id": "398bf9e042de423a90381691aa73f99c",
       "version_major": 2,
       "version_minor": 0
      },
      "text/plain": [
       "MultiCanvas(height=560, width=560)"
      ]
     },
     "metadata": {},
     "output_type": "display_data"
    },
    {
     "data": {
      "application/vnd.jupyter.widget-view+json": {
       "model_id": "f1f6d109bb8a48a2ab8ab2697f504566",
       "version_major": 2,
       "version_minor": 0
      },
      "text/plain": [
       "Label(value='Black Player : None     White Player : None')"
      ]
     },
     "metadata": {},
     "output_type": "display_data"
    },
    {
     "data": {
      "application/vnd.jupyter.widget-view+json": {
       "model_id": "db0539a7bcba4965a80a582aa64d8efe",
       "version_major": 2,
       "version_minor": 0
      },
      "text/plain": [
       "Output()"
      ]
     },
     "metadata": {},
     "output_type": "display_data"
    }
   ],
   "source": [
    "display_board(state)"
   ]
  }
 ],
 "metadata": {
  "kernelspec": {
   "display_name": "Python 3",
   "language": "python",
   "name": "python3"
  },
  "language_info": {
   "codemirror_mode": {
    "name": "ipython",
    "version": 3
   },
   "file_extension": ".py",
   "mimetype": "text/x-python",
   "name": "python",
   "nbconvert_exporter": "python",
   "pygments_lexer": "ipython3",
   "version": "3.7.4"
  }
 },
 "nbformat": 4,
 "nbformat_minor": 4
}
