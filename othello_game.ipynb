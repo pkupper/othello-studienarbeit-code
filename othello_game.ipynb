{
 "cells": [
  {
   "cell_type": "code",
   "execution_count": null,
   "metadata": {},
   "outputs": [],
   "source": [
    "%%HTML\n",
    "<style>\n",
    ".container { width:100% }\n",
    "</style>"
   ]
  },
  {
   "cell_type": "markdown",
   "metadata": {},
   "source": [
    "# Implementierung der Spiellogik"
   ]
  },
  {
   "cell_type": "markdown",
   "metadata": {},
   "source": [
    "Im Folgenden ist das Spiel Othello implementiert. Ausgangspunkt für diese Implementierung ist das Python Gui für Othello von Kevan Nguyen, welches unter <https://github.com/kevannguyen/Othello> verfügbar ist."
   ]
  },
  {
   "cell_type": "markdown",
   "metadata": {},
   "source": [
    "## Importieren der externen Abhängigkeiten"
   ]
  },
  {
   "cell_type": "markdown",
   "metadata": {},
   "source": [
    "Die Implementation stützt sich für bessere Performanz auf die Python-Bibliothek `numpy` welche unter anderem homogene Felder und Matrizen implementiert."
   ]
  },
  {
   "cell_type": "code",
   "execution_count": null,
   "metadata": {},
   "outputs": [],
   "source": [
    "import numpy"
   ]
  },
  {
   "cell_type": "markdown",
   "metadata": {},
   "source": [
    "## Globale Konstanten"
   ]
  },
  {
   "cell_type": "markdown",
   "metadata": {},
   "source": [
    "`BOARD_SIZE` gibt die Anzahl an Zeilen und Spalten des quadratischen Spielfelds an.\n",
    "\n",
    "Die Konstanten `BLACK`, `WHITE` und `NONE` werden auf die Zahlenwerte -1 , 1 und 0 abgebildet und werden für mehrere Zwecke genutzt:\n",
    "- zur Repräsentation des Spielbretts\n",
    "- zur Identifikation eines Spielers\n",
    "- zur Berechnung der Heuristiken."
   ]
  },
  {
   "cell_type": "code",
   "execution_count": null,
   "metadata": {},
   "outputs": [],
   "source": [
    "BOARD_SIZE = 8\n",
    "\n",
    "BLACK = -1  # MINIMIZING PLAYER\n",
    "WHITE = 1  # MAXIMIZING PLAYER\n",
    "NONE = 0"
   ]
  },
  {
   "cell_type": "markdown",
   "metadata": {},
   "source": [
    "## Game State"
   ]
  },
  {
   "cell_type": "markdown",
   "metadata": {},
   "source": [
    "Die Klasse GameState repäsentiert den Spielzustand. Dieser besteht aus dem Spielfeld `board`, welches durch einen Numpy Array repräsentiert wird, sowie dem Spieler `turn`, der am Zug ist.\n",
    "Zusätzlich werden weitere Informationen im Spielzustand gespeichert welche zur Verbesserung der Performanz genutzt werden.\n",
    "Diese sind die im aktuellen Spielzustand möglichen Züge, welche in der Variable `possible_moves` gespeichert werden. Außerdem in der Variable `frontier` die Menge der freien Felder, die horizontal, vertikal oder diagonal an einen Stein angrenzen. Beim Ermitteln der möglichen Züge kann dadurch die Performanz gesteigert werden, da nur diese Menge und nicht das gesamte Spielfeld überprüft werden muss.\n",
    "Weiterhin die Anzahl an Spielsteinen auf dem Spielfeld in der Variable `num_pieces`. In der Variable `game_over`, ob der Zustand ein Endzustand ist. Und zuletzt in der Variable `last_move` die Koordinaten des letzten Spielzugs. Diese Variablen werden im Laufe des Spielverlaufs immer aktuell gehalten. Die Funktion `__lt__` ist implementiert, damit `GameState`-Objekte vergleichbar sind. Das ist nötig, da später Tupel, die z.B. eine Priorität und einen `GameState` enthalten, sortierbar sind. Allerdings ist es nicht wichtig, wie die GameStates sortiert werden."
   ]
  },
  {
   "cell_type": "code",
   "execution_count": null,
   "metadata": {},
   "outputs": [],
   "source": [
    "class GameState:\n",
    "    def __init__(self):\n",
    "        self.board = numpy.zeros((BOARD_SIZE, BOARD_SIZE), dtype=numpy.int8)\n",
    "        self.board[3, 3] = WHITE\n",
    "        self.board[3, 4] = BLACK\n",
    "        self.board[4, 3] = BLACK\n",
    "        self.board[4, 4] = WHITE\n",
    "        self.turn = BLACK\n",
    "        self.possible_moves = [(2, 3), (3, 2), (4, 5), (5, 4)]\n",
    "        self.frontier = {(2, 2), (2, 3), (2, 4), (2, 5),\n",
    "                         (3, 2), (3, 5), (4, 2), (4, 5),\n",
    "                         (5, 2), (5, 3), (5, 4), (5, 5)}\n",
    "        self.num_pieces = 4\n",
    "        self.game_over = False\n",
    "        self.last_move = None\n",
    "\n",
    "    def __lt__(self, other):\n",
    "        return True"
   ]
  },
  {
   "cell_type": "markdown",
   "metadata": {},
   "source": [
    "Die Liste `directions` enthält alle horizontalen, vertikalen und diagonalen Richtungen auf dem Spielfeld als Paar von Versätzen in Reihen- und Spaltenrichtung."
   ]
  },
  {
   "cell_type": "code",
   "execution_count": null,
   "metadata": {},
   "outputs": [],
   "source": [
    "directions = [(-1,-1),(0,-1),(1,-1),(-1,0),(1,0),(-1,1),(0,1),(1,1)]"
   ]
  },
  {
   "cell_type": "markdown",
   "metadata": {},
   "source": [
    "Erhält die Funktion `make_move` ein ungültigen Spielzug, so wird eine `InvalidMoveException` ausgelöst."
   ]
  },
  {
   "cell_type": "code",
   "execution_count": null,
   "metadata": {},
   "outputs": [],
   "source": [
    "class InvalidMoveException(Exception):\n",
    "    pass"
   ]
  },
  {
   "cell_type": "markdown",
   "metadata": {},
   "source": [
    "Die Funktion `make_move` führt im Spielzustand `state`, falls möglich, einen Zug auf die Koordinaten `row` und `col` aus.\n",
    "\n",
    "Dazu werden zunächst alle gegnerischen Steine umgedreht, die durch den Zug eingesperrt wurden. Wenn mindestens ein Stein umgedreht wurde, wird `disks_flipped` auf `True`gesetzt. Wenn das nicht der Fall war, handelt es sich nicht um einen gültigen Zug und es wird eine Exception geworfen. Sonst wird der neue Stein gesetzt und im Zustand die Frontier, der aktuelle Spieler, ob das Spiel vorbei ist und die möglichen Züge des nächsten Spielers aktualisiert."
   ]
  },
  {
   "cell_type": "code",
   "execution_count": null,
   "metadata": {},
   "outputs": [],
   "source": [
    "def make_move(state, pos):\n",
    "    if pos not in state.frontier:\n",
    "        print(pos, \"not in Frontier\")\n",
    "        raise InvalidMoveException\n",
    "    disks_flipped = False\n",
    "    \n",
    "    (row, col) = pos\n",
    "    board = state.board.tolist()\n",
    "    for (row_dir, col_dir) in directions:\n",
    "        if can_flip_in_dir(board, row, col, row_dir, col_dir, state.turn):\n",
    "            disks_flipped = True\n",
    "            flip_in_dir(state, row, col, row_dir, col_dir, state.turn)\n",
    "\n",
    "    if disks_flipped:\n",
    "        state.num_pieces += 1\n",
    "        state.board[pos] = state.turn\n",
    "        state.last_move = pos\n",
    "        update_frontier(state, row, col)\n",
    "        state.turn = -state.turn\n",
    "        state.possible_moves = get_possible_moves(state, state.turn)\n",
    "        if len(state.possible_moves) == 0:\n",
    "            state.turn = -state.turn\n",
    "            state.possible_moves = get_possible_moves(state, state.turn)\n",
    "            if len(state.possible_moves) == 0:\n",
    "                state.game_over = True\n",
    "                return state\n",
    "    else:\n",
    "        raise InvalidMoveException()\n",
    "    return state"
   ]
  },
  {
   "cell_type": "markdown",
   "metadata": {},
   "source": [
    "Die Funktion `can_flip_in_dir` überprüft für ein Spielfeld `board` und den Spieler `player`, ob beim Setzen eines Steins auf die Position `(row, col)` in die durch `(rowdelta, coldelta)` gegebene Richtung Steine umgedreht werden können. `board` ist ein Spielfeld als Python-Liste, da der Zugriff deutlich schneller ist, als auf eine numpy array."
   ]
  },
  {
   "cell_type": "code",
   "execution_count": null,
   "metadata": {},
   "outputs": [],
   "source": [
    "def can_flip_in_dir(board, row, col, rowdelta, coldelta, player):\n",
    "    current_row = row + rowdelta\n",
    "    current_col = col + coldelta\n",
    "    if not (0 <= current_row < 8 and 0 <= current_col < 8):\n",
    "        return False\n",
    "    if not board[current_row][current_col] == -player:\n",
    "        return False\n",
    "    current_row += rowdelta\n",
    "    current_col += coldelta\n",
    "    \n",
    "    while True:\n",
    "        if not (0 <= current_row < 8 and 0 <= current_col < 8):\n",
    "            return False\n",
    "        if board[current_row][current_col] == NONE:\n",
    "            return False           \n",
    "        if board[current_row][current_col] == player:\n",
    "            return True\n",
    "    \n",
    "        current_row += rowdelta\n",
    "        current_col += coldelta"
   ]
  },
  {
   "cell_type": "markdown",
   "metadata": {},
   "source": [
    "Die Funktion `is_move_valid` überprüft für ein gegebenes Spielfeld `board`, ob ein Zug auf die angegebenen Koordinaten `row` und `col` für den Spieler `player` möglich ist. Das Ergebnis wird als Wahrheitswert zurückgegeben. `board` ist hier ebenfalls eine Python-Liste, da der Zugriff auf Elemente schneller ist, als in einem numpy array."
   ]
  },
  {
   "cell_type": "code",
   "execution_count": null,
   "metadata": {},
   "outputs": [],
   "source": [
    "def is_move_valid(board, row, col, player):\n",
    "    for rowdelta, coldelta in directions:\n",
    "        if can_flip_in_dir(board, row, col, rowdelta, coldelta, player):\n",
    "            return True\n",
    "    return False"
   ]
  },
  {
   "cell_type": "markdown",
   "metadata": {},
   "source": [
    "`get_winner` bestimmt für einen Endzustand den Gewinner des Spiels. Gewinnt Weiß, so wird der Wert 1 zurückgegeben. Gewinnt Schwarz, wird der Wert -1 zurückgegeben. Bei einem Unentschieden wird der Wert 0 zurückgegeben."
   ]
  },
  {
   "cell_type": "code",
   "execution_count": null,
   "metadata": {},
   "outputs": [],
   "source": [
    "def get_winner(state):\n",
    "    black_disks = count_disks(state, BLACK)\n",
    "    white_disks = count_disks(state, WHITE)\n",
    "    if black_disks > white_disks:\n",
    "        return BLACK\n",
    "    if white_disks > black_disks:\n",
    "        return WHITE\n",
    "    else:\n",
    "        return NONE"
   ]
  },
  {
   "cell_type": "markdown",
   "metadata": {},
   "source": [
    "Die Funktion `get_possible_moves` bestimmt für einen Spielzustand `state` und den Spieler `player` die möglichen Züge, die der Spieler machen kann. Die Züge werden als Liste von Koordinaten zurückgegeben."
   ]
  },
  {
   "cell_type": "code",
   "execution_count": null,
   "metadata": {},
   "outputs": [],
   "source": [
    "def get_possible_moves(state, player):\n",
    "    board = state.board.tolist()\n",
    "    possible_moves = []\n",
    "    for (row, col) in state.frontier:\n",
    "        if is_move_valid(board, row, col, player):\n",
    "            possible_moves.append((row, col))\n",
    "    return possible_moves"
   ]
  },
  {
   "cell_type": "markdown",
   "metadata": {},
   "source": [
    "Diese Funktion dreht im Spielzustand `state`, ausgehend von dem durch `row` und `col` gegebenen Feld, die für den Spieler `player` generischen Steine in die durch `rowdelta` und `coldelta` gegebene Richtung um."
   ]
  },
  {
   "cell_type": "code",
   "execution_count": null,
   "metadata": {},
   "outputs": [],
   "source": [
    "def flip_in_dir(state, row, col, rowdelta, coldelta, player):\n",
    "    current_row = row + rowdelta\n",
    "    current_col = col + coldelta\n",
    "    \n",
    "    while state.board[current_row, current_col] == -player:\n",
    "        state.board[(current_row, current_col)] = player\n",
    "        current_row += rowdelta\n",
    "        current_col += coldelta"
   ]
  },
  {
   "cell_type": "markdown",
   "metadata": {},
   "source": [
    "`update_frontier` wird nach jedem Zug aufgerufen um die Menge Frontier zu aktualisieren. Die durch `row` und `col` Gegebene Koordinate wird entfernt, während die Koordinaten von leeren umliegenden Feldern hinzugefügt werden."
   ]
  },
  {
   "cell_type": "code",
   "execution_count": null,
   "metadata": {},
   "outputs": [],
   "source": [
    "def update_frontier(state, row, col):\n",
    "    for current_row in range(row-1, row+2):\n",
    "        if not 0 <= current_row < 8:\n",
    "            continue\n",
    "        for current_col in range(col-1, col+2):\n",
    "            if not 0 <= current_col < 8:\n",
    "                continue\n",
    "            if state.board[current_row, current_col] == NONE:\n",
    "                state.frontier.add((current_row, current_col))\n",
    "    state.frontier.remove((row, col))"
   ]
  },
  {
   "cell_type": "markdown",
   "metadata": {},
   "source": [
    "Die Funktion `count_disks` zählt die Steine, die der Spieler `player` im Spielzustand `state` auf dem Spielfeld hat."
   ]
  },
  {
   "cell_type": "code",
   "execution_count": null,
   "metadata": {},
   "outputs": [],
   "source": [
    "def count_disks(state, player):\n",
    "    return numpy.count_nonzero(state.board == player)"
   ]
  },
  {
   "cell_type": "markdown",
   "metadata": {},
   "source": [
    "`get_player_string` konvertiert die ID des Spielers `player` in dessen Name. Ist `player == NONE` so wird 'Nobody' zurückgegeben."
   ]
  },
  {
   "cell_type": "code",
   "execution_count": null,
   "metadata": {},
   "outputs": [],
   "source": [
    "def get_player_string(player):\n",
    "    return {BLACK: 'Black', WHITE: 'White', NONE: 'Nobody'}[player]"
   ]
  },
  {
   "cell_type": "markdown",
   "metadata": {},
   "source": [
    "`make_state` erzeugt einen Spielzustand aus dem Spielfeld `board` und dem zu ziehenden Spieler `turn`. Diese Funktion wird zu Testzwecken genutzt."
   ]
  },
  {
   "cell_type": "code",
   "execution_count": null,
   "metadata": {},
   "outputs": [],
   "source": [
    "def make_state(board, turn):\n",
    "    state = GameState()\n",
    "    state.board = board\n",
    "    state.turn = turn\n",
    "    state.frontier = set()\n",
    "    for row in range(8):\n",
    "        for col in range(8):\n",
    "            for current_row in range(row-1, row+2):\n",
    "                if not 0 <= current_row < 8:\n",
    "                    continue\n",
    "                for current_col in range(col-1, col+2):\n",
    "                    if not 0 <= current_col < 8:\n",
    "                        continue\n",
    "                    if state.board[current_row, current_col] == NONE:\n",
    "                        state.frontier.add((current_row, current_col))\n",
    "            \n",
    "    state.possible_moves = get_possible_moves(state, turn)\n",
    "    state.game_over = False\n",
    "    if len(state.possible_moves) == 0:\n",
    "        if len(get_possible_moves(state, -turn)) == 0:\n",
    "            state.game_over = True\n",
    "    state.num_pieces = count_disks(state, WHITE) + count_disks(state, BLACK)\n",
    "    state.last_move = None\n",
    "    return state"
   ]
  }
 ],
 "metadata": {
  "kernelspec": {
   "display_name": "Python 3",
   "language": "python",
   "name": "python3"
  },
  "language_info": {
   "codemirror_mode": {
    "name": "ipython",
    "version": 3
   },
   "file_extension": ".py",
   "mimetype": "text/x-python",
   "name": "python",
   "nbconvert_exporter": "python",
   "pygments_lexer": "ipython3",
   "version": "3.8.2"
  }
 },
 "nbformat": 4,
 "nbformat_minor": 4
}
