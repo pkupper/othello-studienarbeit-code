{
 "cells": [
  {
   "cell_type": "code",
   "execution_count": null,
   "metadata": {},
   "outputs": [],
   "source": [
    "%%HTML\n",
    "<style>\n",
    ".container { width:100% }\n",
    "</style>"
   ]
  },
  {
   "cell_type": "code",
   "execution_count": null,
   "metadata": {},
   "outputs": [],
   "source": [
    "%run othello_test_util.ipynb"
   ]
  },
  {
   "cell_type": "markdown",
   "metadata": {},
   "source": [
    "Der folgende Code dient zum Überprüfen, ob die Heuristik besser ist, wenn für den Gegner die möglichen Züge bestimmt werden, obwohl er nicht an der Reihe ist, oder wenn die durchschnittliche Anzahl an möglichen Zügen in der Spielphase verwendet wird."
   ]
  },
  {
   "cell_type": "code",
   "execution_count": null,
   "metadata": {},
   "outputs": [],
   "source": [
    "def mobility_heuristic_avg(state):\n",
    "    x = state.num_pieces\n",
    "    if state.turn == WHITE:\n",
    "        w_mobility = len(state.possible_moves)\n",
    "        return (w_mobility - (-0.0113 * x*x + 0.7178 * x + 0.5166)) / 64\n",
    "    else:\n",
    "        b_mobility = len(state.possible_moves)\n",
    "        return ((-0.0113 * x * x + 0.7178 * x + 0.5166) - b_mobility) / 64\n",
    "    \n",
    "def mobility_heuristic_both(state):\n",
    "    if state.turn == WHITE:\n",
    "        w_mobility = len(state.possible_moves)\n",
    "        b_mobility = len(get_possible_moves(state, BLACK))\n",
    "        return (w_mobility - b_mobility) / 64\n",
    "    else:\n",
    "        w_mobility = len(get_possible_moves(state, WHITE))\n",
    "        b_mobility = len(state.possible_moves)\n",
    "        return (w_mobility - b_mobility) / 64\n",
    "\n",
    "def test_combined_heuristic_both(state):\n",
    "    if state.num_pieces >= 50:\n",
    "        return disc_count_heuristic(state)\n",
    "    mobility = mobility_heuristic_both(state)\n",
    "    cowthello = cowthello_heuristic(state)\n",
    "    return 0.5 * mobility + 0.5 * cowthello\n",
    "\n",
    "def test_combined_heuristic_avg(state):\n",
    "    if state.num_pieces >= 50:\n",
    "        return disc_count_heuristic(state)\n",
    "    mobility = mobility_heuristic_avg(state)\n",
    "    cowthello = cowthello_heuristic(state)\n",
    "    return 0.5 * mobility + 0.5 * cowthello"
   ]
  },
  {
   "cell_type": "code",
   "execution_count": null,
   "metadata": {},
   "outputs": [],
   "source": [
    "# actual moves of opponent vs average possible moves\n",
    "settings = { BLACK: { 'heuristic': test_combined_heuristic_both,\n",
    "                      'algorithm': alphabeta,\n",
    "                      'depth': 4,\n",
    "                      'mode': ai_make_move },\n",
    "             WHITE: { 'heuristic': test_combined_heuristic_avg,\n",
    "                      'algorithm': alphabeta,\n",
    "                      'depth': 4,\n",
    "                      'mode': ai_make_move }}\n",
    "\n",
    "get_statistics(20, settings)"
   ]
  },
  {
   "cell_type": "markdown",
   "metadata": {},
   "source": [
    "Der folgende Code dient dazu, die beste Gewichtung einzelnen Komponenten der kombinierten Heuristik zu bestimmen."
   ]
  },
  {
   "cell_type": "code",
   "execution_count": null,
   "metadata": {},
   "outputs": [],
   "source": [
    "def heuristic_weighting_interval(num, settings, lower, upper):\n",
    "    global MOB_PROP\n",
    "    global MOB_PROP2\n",
    "    MOB_PROP = (lower + upper) / 2\n",
    "    MOB_PROP2 = lower\n",
    "    print(\"Black mobility:\", MOB_PROP, \"/ White mobility:\", MOB_PROP2)\n",
    "    [b1,d1,w1] = get_statistics(num, settings)\n",
    "    MOBILITY_PROPORTION2 = upper\n",
    "    print(\"Black mobility:\", MOB_PROP, \"/ White mobility:\", MOB_PROP2)\n",
    "    [b2,d2,w2] = get_statistics(num, settings)\n",
    "    \n",
    "MOBILITY_PROPORTION = 0.5\n",
    "\n",
    "def test_combined_heuristic_1(state):\n",
    "    if state.num_pieces >= 50:\n",
    "        return disc_count_heuristic(state)\n",
    "    mobility = mobility_heuristic(state)\n",
    "    cowthello = cowthello_heuristic(state)\n",
    "    return MOB_PROP * mobility + (1 - MOB_PROP) * cowthello\n",
    "\n",
    "MOBILITY_PROPORTION2 = 0.5\n",
    "\n",
    "def test_combined_heuristic_2(state):\n",
    "    if state.num_pieces >= 50:\n",
    "        return disc_count_heuristic(state)\n",
    "    mobility = mobility_heuristic(state)\n",
    "    cowthello = cowthello_heuristic(state)\n",
    "    return MOB_PROP2 * mobility + (1 - MOB_PROP2) * cowthello"
   ]
  },
  {
   "cell_type": "code",
   "execution_count": null,
   "metadata": {},
   "outputs": [],
   "source": [
    "settings = { BLACK: { 'heuristic': test_combined_heuristic_1,\n",
    "                      'algorithm': alphabeta,\n",
    "                      'depth': 4,\n",
    "                      'mode': ai_make_move },\n",
    "             WHITE: { 'heuristic': test_combined_heuristic_2,\n",
    "                      'algorithm': alphabeta,\n",
    "                      'depth': 4,\n",
    "                      'mode': ai_make_move }}\n",
    "\n",
    "heuristic_weighting_interval(20, settings, 0, 1)"
   ]
  },
  {
   "cell_type": "markdown",
   "metadata": {},
   "source": [
    "Der folgende Code dient zum Testen, ob der Aufwand, die durchschnittliche Anzahl der möglichen Züge für alle Folgezüge zu berechnen, sich lohnt."
   ]
  },
  {
   "cell_type": "code",
   "execution_count": null,
   "metadata": {},
   "outputs": [],
   "source": [
    "def get_avg_possible_moves(state):\n",
    "    moves = []\n",
    "    for move in state.possible_moves:\n",
    "        moves.append(len(make_move(copy.deepcopy(state), move).possible_moves))\n",
    "    return sum(moves) / len(moves)\n",
    "\n",
    "def mobility_heuristic_exact(state):\n",
    "    if state.turn == WHITE:\n",
    "        return (len(state.possible_moves) - get_avg_possible_moves(state)) / 64\n",
    "    else:\n",
    "        return (get_avg_possible_moves(state) - len(state.possible_moves)) / 64\n",
    "    \n",
    "def mobility_heuristic_approx(state):\n",
    "    if state.turn == WHITE:\n",
    "        w_mobility = len(state.possible_moves)\n",
    "        b_mobility = len(get_possible_moves(state, BLACK))\n",
    "        return (w_mobility - b_mobility) / 64\n",
    "    else:\n",
    "        w_mobility = len(get_possible_moves(state, WHITE))\n",
    "        b_mobility = len(state.possible_moves)\n",
    "        return (w_mobility - b_mobility) / 64\n",
    "\n",
    "def test_combined_heuristic_exact(state):\n",
    "    if state.num_pieces >= 50:\n",
    "        return disc_count_heuristic(state)\n",
    "    mobility = mobility_heuristic_exact(state)\n",
    "    cowthello = cowthello_heuristic(state)\n",
    "    return 0.5 * mobility + 0.5 * cowthello\n",
    "\n",
    "def test_combined_heuristic_approx(state):\n",
    "    if state.num_pieces >= 50:\n",
    "        return disc_count_heuristic(state)\n",
    "    mobility = mobility_heuristic_approx(state)\n",
    "    cowthello = cowthello_heuristic(state)\n",
    "    return 0.5 * mobility + 0.5 * cowthello"
   ]
  },
  {
   "cell_type": "code",
   "execution_count": null,
   "metadata": {},
   "outputs": [],
   "source": [
    "settings = { BLACK: { 'heuristic': test_combined_heuristic_exact,\n",
    "                      'algorithm': alphabeta,\n",
    "                      'depth': 3,\n",
    "                      'mode': ai_make_move },\n",
    "             WHITE: { 'heuristic': test_combined_heuristic_approx,\n",
    "                      'algorithm': alphabeta,\n",
    "                      'depth': 3,\n",
    "                      'mode': ai_make_move }}\n",
    "\n",
    "get_statistics(20, settings)"
   ]
  },
  {
   "cell_type": "code",
   "execution_count": null,
   "metadata": {},
   "outputs": [],
   "source": [
    "def test_combined_heuristic_pattern(state):\n",
    "    if state.num_pieces >= 50:\n",
    "        return disc_count_heuristic(state)\n",
    "    mobility = mobility_heuristic(state)\n",
    "    cowthello = cowthello_safe_heuristic(state)\n",
    "    patterns = pattern_heuristic(state)\n",
    "    return 0.45 * mobility + 0.45 * cowthello + 0.1 * patterns"
   ]
  },
  {
   "cell_type": "code",
   "execution_count": null,
   "metadata": {},
   "outputs": [],
   "source": [
    "settings = { BLACK: { 'heuristic': combined_heuristic,\n",
    "                      'algorithm': alphabeta,\n",
    "                      'depth': 4,\n",
    "                      'mode': ai_make_move },\n",
    "             WHITE: { 'heuristic': test_combined_heuristic_pattern,\n",
    "                      'algorithm': alphabeta,\n",
    "                      'depth': 4,\n",
    "                      'mode': ai_make_move }}\n",
    "\n",
    "get_statistics(50, settings)"
   ]
  },
  {
   "cell_type": "markdown",
   "metadata": {},
   "source": [
    "Potential mobility"
   ]
  },
  {
   "cell_type": "code",
   "execution_count": null,
   "metadata": {},
   "outputs": [],
   "source": [
    "def test_combined_heuristic(state):\n",
    "    if state.num_pieces >= 50:\n",
    "        return disc_count_heuristic(state)\n",
    "    mobility = mobility_heuristic(state)\n",
    "    cowthello = cowthello_heuristic(state)\n",
    "    return 0.5 * mobility + 0.5 * cowthello\n",
    "\n",
    "def test_combined_heuristic_pot(state):\n",
    "    if state.num_pieces >= 50:\n",
    "        return disc_count_heuristic(state)\n",
    "    mobility = pot_mob_heuristic(state) if state.num_pieces <= 36 else mobility_heuristic(state)\n",
    "    cowthello = cowthello_heuristic(state)\n",
    "    return 0.5 * mobility + 0.5 * cowthello\n",
    "\n",
    "def test_combined_heuristic_pot2(state):\n",
    "    if state.num_pieces >= 50:\n",
    "        return disc_count_heuristic(state)\n",
    "    mobility = (1 - state.num_pieces / 50) * pot_mob_heuristic(state) + (state.num_pieces / 50) *  mobility_heuristic(state)\n",
    "    cowthello = cowthello_heuristic(state)\n",
    "    return 0.5 * mobility + 0.5 * cowthello\n",
    "\n",
    "# Berücksichtigung, dass laut Buro bei 36 Steinen aktuelle und potentielle Mobilität gleich gut sind, vorrausgesetzt die Mobilitäten haben die gleiche Größenordnung\n",
    "def test_combined_heuristic_pot3(state):\n",
    "    if state.num_pieces >= 50:\n",
    "        return disc_count_heuristic(state)\n",
    "    mobility = (1 - state.num_pieces / 50 + 0.22) * pot_mob_heuristic(state) + (state.num_pieces / 50 - 0.22) *  mobility_heuristic(state)\n",
    "    cowthello = cowthello_heuristic(state)\n",
    "    return 0.5 * mobility + 0.5 * cowthello"
   ]
  },
  {
   "cell_type": "code",
   "execution_count": null,
   "metadata": {},
   "outputs": [],
   "source": [
    "settings = { BLACK: { 'heuristic': test_combined_heuristic,\n",
    "                      'algorithm': alphabeta,\n",
    "                      'depth': 3,\n",
    "                      'mode': ai_make_move },\n",
    "             WHITE: { 'heuristic': test_combined_heuristic_pot2,\n",
    "                      'algorithm': alphabeta,\n",
    "                      'depth': 3,\n",
    "                      'mode': ai_make_move }}\n",
    "\n",
    "get_statistics(20, settings)"
   ]
  },
  {
   "cell_type": "code",
   "execution_count": null,
   "metadata": {},
   "outputs": [],
   "source": [
    "def gen_othellomaster_matrix():\n",
    "    quarter = np.array([\n",
    "        [10000, -3000, 1000, 800],\n",
    "        [-3000, -5000,  -450,  -500],\n",
    "        [ 1000, -450, 30,  10],\n",
    "        [ 800,   -500,  10,  50]\n",
    "    ])\n",
    "    top_half = np.hstack((quarter, np.flip(quarter, axis=1)))\n",
    "    bottom_half = np.flip(top_half, axis=0)\n",
    "    raw_matrix = np.vstack((top_half, bottom_half))\n",
    "    max_possible = np.sum(np.absolute(raw_matrix))\n",
    "    return np.true_divide(raw_matrix, max_possible)\n",
    "\n",
    "othellomaster_weights = gen_othellomaster_matrix()\n",
    "\n",
    "def othellomaster_weight_heuristic(state):\n",
    "    return np.sum(np.multiply(state.board, othellomaster_weights))\n",
    "\n",
    "def othellomaster_safe_heuristic(state):\n",
    "    black_safe = safe_pieces(state, BLACK)\n",
    "    white_safe = safe_pieces(state, WHITE)\n",
    "    weights = numpy.copy(othellomaster_weights)\n",
    "    weights[black_safe] = abs(weights[black_safe])\n",
    "    weights[white_safe] = abs(weights[white_safe])\n",
    "    return np.sum(np.multiply(state.board, weights))"
   ]
  },
  {
   "cell_type": "code",
   "execution_count": null,
   "metadata": {},
   "outputs": [],
   "source": [
    "def test_combined_heuristic_cow(state):\n",
    "    if state.num_pieces >= 50:\n",
    "        return disc_count_heuristic(state)\n",
    "    mobility = combined_mobility_heuristic(state)\n",
    "    weights = cowthello_heuristic(state)\n",
    "    return 0.5 * mobility + 0.5 * weights\n",
    "\n",
    "def test_combined_heuristic_om(state):\n",
    "    if state.num_pieces >= 50:\n",
    "        return disc_count_heuristic(state)\n",
    "    mobility = combined_mobility_heuristic(state)\n",
    "    weights = othellomaster_weight_heuristic(state)\n",
    "    return 0.33 * mobility + 0.33 * weights #+ 0.33 * line_heuristic(state)\n",
    "\n",
    "settings = { BLACK: { 'heuristic': test_combined_heuristic_cow,\n",
    "                      'algorithm': alphabeta,\n",
    "                      'depth': 4,\n",
    "                      'mode': ai_make_move },\n",
    "             WHITE: { 'heuristic': test_combined_heuristic_om,\n",
    "                      'algorithm': alphabeta,\n",
    "                      'depth': 4,\n",
    "                      'mode': ai_make_move }}\n",
    "\n",
    "get_statistics(20, settings)"
   ]
  }
 ],
 "metadata": {
  "kernelspec": {
   "display_name": "Python 3",
   "language": "python",
   "name": "python3"
  },
  "language_info": {
   "codemirror_mode": {
    "name": "ipython",
    "version": 3
   },
   "file_extension": ".py",
   "mimetype": "text/x-python",
   "name": "python",
   "nbconvert_exporter": "python",
   "pygments_lexer": "ipython3",
   "version": "3.8.2"
  }
 },
 "nbformat": 4,
 "nbformat_minor": 4
}
